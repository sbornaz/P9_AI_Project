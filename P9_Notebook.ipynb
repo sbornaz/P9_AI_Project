{
 "cells": [
  {
   "cell_type": "markdown",
   "id": "cec10018-7c93-4f31-8f69-a6c81192a7ca",
   "metadata": {},
   "source": [
    "# P9 - Réalisez une application de recommandation de contenu"
   ]
  },
  {
   "cell_type": "markdown",
   "id": "d1c6205f-9ae6-4f69-8dbd-83bf6e39b2fe",
   "metadata": {},
   "source": [
    "### Installation des librairies"
   ]
  },
  {
   "attachments": {},
   "cell_type": "markdown",
   "id": "adc8d97b-ef25-4f02-b852-7cd705aae99f",
   "metadata": {},
   "source": [
    "    # !pip install tensorflow==2.9.1\n",
    "    # !pip install keras==2.9.0\n",
    "    !pip install pandas\n",
    "    !pip install numpy\n",
    "    !pip install ipywidgets!pip install ipywidgets\n",
    "    !pip install pickle # not install\n",
    "    #!pip install sklearn\n",
    "    #!pip install sentencepiece\n",
    "    #!pip install missingno\n",
    "    #!pip install shap\n",
    "    #!pip install tqdm\n",
    "    #!pip install opencv-python\n",
    "    #!pip install keras-segmentation\n",
    "    !pip install pycodestyle\n",
    "    !pip install flake8\n",
    "    !pip install pycodestyle_magic\n",
    "    !pip install nb_black\n",
    "    #!pip install tensorflow_addons\n",
    "    !pip install --upgrade pip\n",
    "    !pip install scikit-learn\n",
    "    !pip install seaborn\n",
    "    !pip install scikit-surprise\n"
   ]
  },
  {
   "cell_type": "markdown",
   "id": "1139b50f-c69a-45ee-b80e-6dff6f2df882",
   "metadata": {},
   "source": [
    "### Import des libairies "
   ]
  },
  {
   "cell_type": "code",
   "execution_count": 63,
   "id": "403101c1-02dc-468d-8561-eb9dd7895b66",
   "metadata": {},
   "outputs": [],
   "source": [
    "# METTRE A JOUR \n",
    "# from src.libraries import *\n",
    "# from src.data_helpers import *\n",
    "# from src.classes import *\n",
    "\n",
    "# warnings.filterwarnings(\"ignore\")"
   ]
  },
  {
   "cell_type": "code",
   "execution_count": 64,
   "id": "37675ac7-6278-4184-9473-03b9f2c45b1b",
   "metadata": {},
   "outputs": [],
   "source": [
    "import pandas as pd\n",
    "import matplotlib.pyplot as plt\n",
    "import numpy as np\n",
    "import datetime\n",
    "import os\n",
    "import glob\n",
    "import random\n",
    "from sklearn.metrics.pairwise import cosine_similarity\n",
    "import math\n",
    "import ipywidgets as widgets\n",
    "from ipywidgets import interact\n",
    "from IPython.display import display"
   ]
  },
  {
   "cell_type": "markdown",
   "id": "34444968-7b20-4b91-9eee-7dece2b38f3d",
   "metadata": {},
   "source": [
    "### Import des fonctions"
   ]
  },
  {
   "cell_type": "code",
   "execution_count": 65,
   "id": "0d7cc5e9",
   "metadata": {},
   "outputs": [],
   "source": [
    "def select_article(option, clicks, user_id):\n",
    "    # Reduce dataset to user_id user\n",
    "    clicks_red = clicks[clicks['user_id']==user_id]\n",
    "    if len(clicks_red['click_article_id'].to_list())==0:\n",
    "           return print(\"Zero article read. Random article recommendation\")\n",
    "    else:       \n",
    "        if option == 'last':\n",
    "            print('Last read article')\n",
    "\n",
    "            # Get index of last click\n",
    "            idx = clicks_red['click_time'].idxmax()\n",
    "            print(f\"Click index : {idx}\")\n",
    "            print(f\"Click date : {clicks_red['click_time'][idx].strftime('%Y-%m-%d %H:%M:%S')}\")\n",
    "            # print(clicks_red) # Check sanity\n",
    "\n",
    "            # Get article\n",
    "            article_id = clicks_red['click_article_id'][idx]\n",
    "\n",
    "            print(f\"Most recent article id : {article_id}\")\n",
    "\n",
    "        elif option == 'most clicked':\n",
    "            print('Most clicked article')\n",
    "\n",
    "            # Get index of most clicked article\n",
    "            articles_red = clicks_red.groupby('click_article_id').agg({\n",
    "                'user_id':'count','click_time':'last',\n",
    "                })\n",
    "            articles_red = articles_red.rename(columns={'user_id':'total clics','click_time':'last click'})\n",
    "            #print(articles_red) # Check sanity\n",
    "            #print(clicks_red) # Check sanity\n",
    "\n",
    "            # Get article\n",
    "            article_id = articles_red.loc[articles_red['total clics']==articles_red['total clics'].max()]['last click'].idxmax()\n",
    "            print(f\"Number of clicks : {articles_red['total clics'][article_id]}\")\n",
    "            print(f\"Article id: {article_id}\")\n",
    "             \n",
    "    return article_id #clicks_red[clicks_red['click_article_id']==article_id]\n",
    "\n",
    "def get_cosinsimilarity(df_articles_embeddings,article_id):\n",
    "    # Get embedding vector for article_id\n",
    "    embedding = df_articles_embeddings.loc[article_id] \n",
    "    \n",
    "    # Remove embedding vector from embedding matrix\n",
    "    df_articles_embeddings = df_articles_embeddings.drop(article_id)\n",
    "\n",
    "    # Compute cosin similarity\n",
    "    cosine_similarities = cosine_similarity([embedding], df_articles_embeddings)\n",
    "    \n",
    "    # Get indices of 5 most similar articles (sorted)\n",
    "    indices = np.argsort(cosine_similarities[0])[::-1][:5]\n",
    "    \n",
    "    # Get corresponding article IDs\n",
    "    recos = list(df_articles_embeddings.iloc[indices].index)\n",
    "    return recos\n",
    "\n",
    "# Histogramme de la distribution d'une variable'\n",
    "def visualize_histogram(hist_var, hist_title, hist_x_label, hist_fig): \n",
    "    # Calcul des quartiles Q1, Q2 (médiane), Q3\n",
    "    q1, q2, q3 = hist_var.quantile([0.25, 0.5, 0.75])\n",
    "\n",
    "    # Calcul des limites des whiskers\n",
    "    iqr = q3 - q1  # plage interquartile\n",
    "    whisker_min = q1 - 1.5 * iqr\n",
    "    whisker_max = q3 + 1.5 * iqr\n",
    "\n",
    "    # Création du boxplot avec les limites de whisker et les quartiles\n",
    "    fig = plt.figure(figsize=figsize)\n",
    "    \n",
    "    bp = plt.boxplot(hist_var, vert=False, widths=0.5, positions=[0], whis=[1,99])\n",
    "    plt.setp(bp['whiskers'], linestyle='--', color='gray', lw=2, dashes=(5, 5))\n",
    "    plt.setp(bp['fliers'], marker='.', markerfacecolor='red', markersize=8, alpha=0.5)\n",
    "    \n",
    "    plt.hlines(y=1, xmin=whisker_min, xmax=q1, colors='b', lw=2)\n",
    "    plt.hlines(y=1, xmin=q3, xmax=whisker_max, colors='b', lw=2)\n",
    "    plt.hlines(y=1, xmin=q1, xmax=q3, colors='r', lw=2)\n",
    "    \n",
    "    plt.title(hist_title)\n",
    "    plt.xlabel(hist_x_label)\n",
    "    plt.yticks([1], [\"Valeurs typiques\"])\n",
    "    plt.grid(axis='x', linestyle='--', alpha=0.7)\n",
    "    #plt.xscale('log')\n",
    "\n",
    "    plt.show()\n",
    "    fig.savefig(hist_fig, dpi=300, bbox_inches='tight')\n"
   ]
  },
  {
   "cell_type": "markdown",
   "id": "c845b5d4-cb80-4232-8ee9-f5395b8943a9",
   "metadata": {},
   "source": [
    "### Mise en forme convention PEP8"
   ]
  },
  {
   "cell_type": "code",
   "execution_count": 66,
   "id": "1478c2af-8df7-43e4-b210-fd476a9cbd30",
   "metadata": {},
   "outputs": [],
   "source": [
    "# METTRE A JOUR \n",
    "# Mise en forme convention PEP8\n",
    "#%load_ext nb_black\n",
    "#%load_ext pycodestyle_magic\n",
    "#%pycodestyle_on"
   ]
  },
  {
   "attachments": {},
   "cell_type": "markdown",
   "id": "283e9cd4-057b-44e3-ab55-52abe1ba7a27",
   "metadata": {},
   "source": [
    "### Paramètres généraux"
   ]
  },
  {
   "cell_type": "code",
   "execution_count": 67,
   "id": "4735e4ab-f2a5-41e0-9744-dc2f8a5c35e0",
   "metadata": {},
   "outputs": [],
   "source": [
    "figsize = (8,6) # figure size\n",
    "random_state = 18 # random state"
   ]
  },
  {
   "cell_type": "markdown",
   "id": "7e127692-b986-4356-9667-a0fba7184bd6",
   "metadata": {},
   "source": [
    "## 1. Contexte\n",
    "\n",
    "La startup My Content souhaite encourager la lecture en recommandant des contenus pertinents pour ses utilisateurs. \n",
    "\n",
    "En tant que CTO de cette société, il est demandé de construire un MVP sous la forme d'une application.\n",
    "- La fonctionnalité principale de cette application est la **recommandation de 5 articles par utilisateur**.\n",
    "- Une contrainte critique à prendre en compte dans la conception du MVP est l'**ajout ultérieur de nouveaux utilisateurs ou articles dans l'architecture choisie**.\n",
    "\n",
    "Après discussion avec l'équipe de développement, deux architectures serverless sont envisagées :\n",
    "- Utilisation d'une Azure Fonction\n",
    "    - création d’API pour développer et exposer le système de recommandations\n",
    "    - création d’une Azure fonction pour lier système de recommandations et API\n",
    "- Azure Blob Storage Input Binding (sans API)\n",
    "    - Récupération directe des fichiers et modèles\n",
    "    - Intégration des prédictions dans Azure Fonctions\n",
    "    \n",
    "La startup ne possédant pas encore de données, un jeu de données existant est utilisé pour la conception de l'API. "
   ]
  },
  {
   "cell_type": "markdown",
   "id": "92504650-5ff9-4f2e-9700-cb79f5fd1f24",
   "metadata": {},
   "source": [
    "## 2. Jeu de données"
   ]
  },
  {
   "cell_type": "markdown",
   "id": "9454b194-8d73-41a5-a7a2-060587b2dd21",
   "metadata": {},
   "source": [
    "Le jeu de données issu de Kaggle contient 4 éléments\n",
    "- Un fichier intitulé **articles_metadata.csv** contenant des informations générales sur les articles; \n",
    "- un fichier **clicks_sample.csv** contenant des informations sur chaque clic; \n",
    "- un dossier clicks contenant 85 fichiers clicks_hour_X.csv**, similaires au fichier clicks_sample;\n",
    "- un fichier **articles_embeddings.pickle** contenant des embeddings d'articles.\n",
    "\n",
    "Ce jeu doit nous permettre de fournir les interactions des utilisateurs avec les articles disponibles, notamment :\n",
    "- des informations sur les articles (par exemple nombre de mots); \n",
    "- des informations sur les sessions d’utilisateur (par exemple heures de début et de fin);\n",
    "- les interactions des utilisateurs avec les articles (sur quels articles l'utilisateur a cliqué lors de sa session)."
   ]
  },
  {
   "cell_type": "markdown",
   "id": "d90bfa43-7d85-4f1c-a341-023a8bfc3bd3",
   "metadata": {},
   "source": [
    "### 2.1 Articles\n",
    "\n",
    "Le dataset **articles_metadata** est une liste de 364047 articles avec, pour chacun, les informations suivantes :\n",
    "- **article_id** : id de l'article\n",
    "- **category_id**: catégorie de l'article\n",
    "- **created_at_ts**: ancienneté de l'article\n",
    "- **publisher_id**: id de l'éditeur (information identique partout)\n",
    "- **words_count**: nombre de mots par article"
   ]
  },
  {
   "cell_type": "code",
   "execution_count": 68,
   "id": "fd11a647-65de-4562-b0f7-165da48e18b4",
   "metadata": {},
   "outputs": [
    {
     "name": "stdout",
     "output_type": "stream",
     "text": [
      "Forme du dataset : (364047, 5)\n",
      "Features : ['article_id', 'category_id', 'created_at_ts', 'publisher_id', 'words_count']\n"
     ]
    }
   ],
   "source": [
    "# Upload articles_metadata file\n",
    "articles_metadata = pd.read_csv('data/articles_metadata.csv')\n",
    "\n",
    "print(\"Forme du dataset : \" + str(articles_metadata.shape))\n",
    "print(\"Features : \" + str(articles_metadata.keys().tolist()))\n",
    "\n",
    "articles_metadata['creation date'] = pd.to_datetime(articles_metadata['created_at_ts'], unit='ms').dt.date"
   ]
  },
  {
   "cell_type": "markdown",
   "id": "05f7bcc7-e0be-45dd-a25b-0aea0c3ae875",
   "metadata": {},
   "source": [
    "<u> Visualisation du dataset et de quelques données statistiques <u>"
   ]
  },
  {
   "cell_type": "code",
   "execution_count": 69,
   "id": "c550202d-3c22-4714-8872-664c85a7a31c",
   "metadata": {},
   "outputs": [
    {
     "data": {
      "text/html": [
       "<div>\n",
       "<style scoped>\n",
       "    .dataframe tbody tr th:only-of-type {\n",
       "        vertical-align: middle;\n",
       "    }\n",
       "\n",
       "    .dataframe tbody tr th {\n",
       "        vertical-align: top;\n",
       "    }\n",
       "\n",
       "    .dataframe thead th {\n",
       "        text-align: right;\n",
       "    }\n",
       "</style>\n",
       "<table border=\"1\" class=\"dataframe\">\n",
       "  <thead>\n",
       "    <tr style=\"text-align: right;\">\n",
       "      <th></th>\n",
       "      <th>article_id</th>\n",
       "      <th>category_id</th>\n",
       "      <th>created_at_ts</th>\n",
       "      <th>publisher_id</th>\n",
       "      <th>words_count</th>\n",
       "      <th>creation date</th>\n",
       "    </tr>\n",
       "  </thead>\n",
       "  <tbody>\n",
       "    <tr>\n",
       "      <th>0</th>\n",
       "      <td>0</td>\n",
       "      <td>0</td>\n",
       "      <td>1513144419000</td>\n",
       "      <td>0</td>\n",
       "      <td>168</td>\n",
       "      <td>2017-12-13</td>\n",
       "    </tr>\n",
       "    <tr>\n",
       "      <th>1</th>\n",
       "      <td>1</td>\n",
       "      <td>1</td>\n",
       "      <td>1405341936000</td>\n",
       "      <td>0</td>\n",
       "      <td>189</td>\n",
       "      <td>2014-07-14</td>\n",
       "    </tr>\n",
       "    <tr>\n",
       "      <th>2</th>\n",
       "      <td>2</td>\n",
       "      <td>1</td>\n",
       "      <td>1408667706000</td>\n",
       "      <td>0</td>\n",
       "      <td>250</td>\n",
       "      <td>2014-08-22</td>\n",
       "    </tr>\n",
       "  </tbody>\n",
       "</table>\n",
       "</div>"
      ],
      "text/plain": [
       "   article_id  category_id  created_at_ts  publisher_id  words_count  \\\n",
       "0           0            0  1513144419000             0          168   \n",
       "1           1            1  1405341936000             0          189   \n",
       "2           2            1  1408667706000             0          250   \n",
       "\n",
       "  creation date  \n",
       "0    2017-12-13  \n",
       "1    2014-07-14  \n",
       "2    2014-08-22  "
      ]
     },
     "execution_count": 69,
     "metadata": {},
     "output_type": "execute_result"
    }
   ],
   "source": [
    "articles_metadata.head(3)"
   ]
  },
  {
   "cell_type": "code",
   "execution_count": 70,
   "id": "b36481de-5b2d-4de3-81c3-828582551b02",
   "metadata": {},
   "outputs": [
    {
     "data": {
      "text/html": [
       "<div>\n",
       "<style scoped>\n",
       "    .dataframe tbody tr th:only-of-type {\n",
       "        vertical-align: middle;\n",
       "    }\n",
       "\n",
       "    .dataframe tbody tr th {\n",
       "        vertical-align: top;\n",
       "    }\n",
       "\n",
       "    .dataframe thead th {\n",
       "        text-align: right;\n",
       "    }\n",
       "</style>\n",
       "<table border=\"1\" class=\"dataframe\">\n",
       "  <thead>\n",
       "    <tr style=\"text-align: right;\">\n",
       "      <th></th>\n",
       "      <th>article_id</th>\n",
       "      <th>category_id</th>\n",
       "      <th>created_at_ts</th>\n",
       "      <th>publisher_id</th>\n",
       "      <th>words_count</th>\n",
       "    </tr>\n",
       "  </thead>\n",
       "  <tbody>\n",
       "    <tr>\n",
       "      <th>count</th>\n",
       "      <td>364047.000000</td>\n",
       "      <td>364047.000000</td>\n",
       "      <td>3.640470e+05</td>\n",
       "      <td>364047.0</td>\n",
       "      <td>364047.000000</td>\n",
       "    </tr>\n",
       "    <tr>\n",
       "      <th>mean</th>\n",
       "      <td>182023.000000</td>\n",
       "      <td>283.108239</td>\n",
       "      <td>1.474070e+12</td>\n",
       "      <td>0.0</td>\n",
       "      <td>190.897727</td>\n",
       "    </tr>\n",
       "    <tr>\n",
       "      <th>std</th>\n",
       "      <td>105091.461061</td>\n",
       "      <td>136.723470</td>\n",
       "      <td>4.293038e+10</td>\n",
       "      <td>0.0</td>\n",
       "      <td>59.502766</td>\n",
       "    </tr>\n",
       "    <tr>\n",
       "      <th>min</th>\n",
       "      <td>0.000000</td>\n",
       "      <td>0.000000</td>\n",
       "      <td>1.159356e+12</td>\n",
       "      <td>0.0</td>\n",
       "      <td>0.000000</td>\n",
       "    </tr>\n",
       "    <tr>\n",
       "      <th>25%</th>\n",
       "      <td>91011.500000</td>\n",
       "      <td>199.000000</td>\n",
       "      <td>1.444925e+12</td>\n",
       "      <td>0.0</td>\n",
       "      <td>159.000000</td>\n",
       "    </tr>\n",
       "    <tr>\n",
       "      <th>50%</th>\n",
       "      <td>182023.000000</td>\n",
       "      <td>301.000000</td>\n",
       "      <td>1.489422e+12</td>\n",
       "      <td>0.0</td>\n",
       "      <td>186.000000</td>\n",
       "    </tr>\n",
       "    <tr>\n",
       "      <th>75%</th>\n",
       "      <td>273034.500000</td>\n",
       "      <td>399.000000</td>\n",
       "      <td>1.509891e+12</td>\n",
       "      <td>0.0</td>\n",
       "      <td>218.000000</td>\n",
       "    </tr>\n",
       "    <tr>\n",
       "      <th>max</th>\n",
       "      <td>364046.000000</td>\n",
       "      <td>460.000000</td>\n",
       "      <td>1.520943e+12</td>\n",
       "      <td>0.0</td>\n",
       "      <td>6690.000000</td>\n",
       "    </tr>\n",
       "  </tbody>\n",
       "</table>\n",
       "</div>"
      ],
      "text/plain": [
       "          article_id    category_id  created_at_ts  publisher_id  \\\n",
       "count  364047.000000  364047.000000   3.640470e+05      364047.0   \n",
       "mean   182023.000000     283.108239   1.474070e+12           0.0   \n",
       "std    105091.461061     136.723470   4.293038e+10           0.0   \n",
       "min         0.000000       0.000000   1.159356e+12           0.0   \n",
       "25%     91011.500000     199.000000   1.444925e+12           0.0   \n",
       "50%    182023.000000     301.000000   1.489422e+12           0.0   \n",
       "75%    273034.500000     399.000000   1.509891e+12           0.0   \n",
       "max    364046.000000     460.000000   1.520943e+12           0.0   \n",
       "\n",
       "         words_count  \n",
       "count  364047.000000  \n",
       "mean      190.897727  \n",
       "std        59.502766  \n",
       "min         0.000000  \n",
       "25%       159.000000  \n",
       "50%       186.000000  \n",
       "75%       218.000000  \n",
       "max      6690.000000  "
      ]
     },
     "execution_count": 70,
     "metadata": {},
     "output_type": "execute_result"
    }
   ],
   "source": [
    "articles_metadata.describe()"
   ]
  },
  {
   "cell_type": "markdown",
   "id": "af711295-ab04-46dc-a031-49a1ff2c9a18",
   "metadata": {},
   "source": [
    "Il existe 461 catégories d'articles distribués de façon non homogène :"
   ]
  },
  {
   "cell_type": "code",
   "execution_count": 71,
   "id": "79b7e3b1-8ff7-4207-9e4e-a35f77257573",
   "metadata": {},
   "outputs": [
    {
     "data": {
      "image/png": "[encoded data removed]",
      "text/plain": [
       "<Figure size 800x600 with 1 Axes>"
      ]
     },
     "metadata": {},
     "output_type": "display_data"
    }
   ],
   "source": [
    "# Histogramme des catégories d'articles\n",
    "fig = plt.figure(figsize=figsize)\n",
    "\n",
    "plt.hist(articles_metadata[\"category_id\"], bins=20, color='blue')\n",
    "plt.xlabel(\"Catégorie de l'article)\")\n",
    "plt.ylabel(\"Nombre d'articles\")\n",
    "plt.title(f\"{len(articles_metadata['category_id'].value_counts())} catégories d'articles\")\n",
    "\n",
    "# Utiliser une échelle logarithmique sur l'axe y\n",
    "# plt.yscale('log')\n",
    "# plt.xlim([0, 40])\n",
    "# plt.ylim([0, 1.E6])\n",
    "\n",
    "plt.show()\n",
    "fig.savefig('data/figs/categories.png', dpi=300, bbox_inches='tight')"
   ]
  },
  {
   "cell_type": "markdown",
   "id": "bc02b1a0-48ae-4e63-9831-e0c4cbf249da",
   "metadata": {},
   "source": [
    "Le nombre de mots par article est en moyenne de 190, avec beaucoup de valeurs atypiques :"
   ]
  },
  {
   "cell_type": "code",
   "execution_count": 72,
   "id": "35fd687a-1e8e-4f21-962b-7df790784598",
   "metadata": {},
   "outputs": [
    {
     "data": {
      "image/png": "[encoded data removed]",
      "text/plain": [
       "<Figure size 800x600 with 1 Axes>"
      ]
     },
     "metadata": {},
     "output_type": "display_data"
    }
   ],
   "source": [
    "# Calcul des quartiles Q1, Q2 (médiane), Q3\n",
    "q1, q2, q3 = articles_metadata[\"words_count\"].quantile([0.25, 0.5, 0.75])\n",
    "\n",
    "# Calcul des limites des whiskers\n",
    "iqr = q3 - q1  # plage interquartile\n",
    "whisker_min = q1 - 1.5 * iqr\n",
    "whisker_max = q3 + 1.5 * iqr\n",
    "\n",
    "# Création du boxplot avec les limites de whisker et les quartiles\n",
    "fig = plt.figure(figsize=figsize)\n",
    "bp = plt.boxplot(articles_metadata[\"words_count\"], vert=False, widths=0.5, positions=[0], whis=[1,99])\n",
    "plt.setp(bp['whiskers'], linestyle='--', color='gray', lw=2, dashes=(5, 5))\n",
    "plt.setp(bp['fliers'], marker='.', markerfacecolor='red', markersize=8, alpha=0.5)\n",
    "plt.hlines(y=1, xmin=whisker_min, xmax=q1, colors='b', lw=2)\n",
    "plt.hlines(y=1, xmin=q3, xmax=whisker_max, colors='b', lw=2)\n",
    "plt.hlines(y=1, xmin=q1, xmax=q3, colors='r', lw=2)\n",
    "plt.title(\"Distribution du nombre de mots par article\")\n",
    "plt.xlabel(\"Nombre de mots de l'article\")\n",
    "plt.yticks([1], [\"Valeurs typiques\"])\n",
    "plt.grid(axis='x', linestyle='--', alpha=0.7)\n",
    "plt.xscale('log')\n",
    "\n",
    "plt.show()\n",
    "fig.savefig('data/figs/wordcount.png', dpi=300, bbox_inches='tight')"
   ]
  },
  {
   "cell_type": "markdown",
   "id": "2251054c-d8a0-42b9-acc7-0ec71e50b438",
   "metadata": {},
   "source": [
    "Les articles sont datés de 2012 à 2018 :"
   ]
  },
  {
   "cell_type": "code",
   "execution_count": 73,
   "id": "a95086a1-c4eb-4f12-937d-9be3494d75d7",
   "metadata": {},
   "outputs": [
    {
     "data": {
      "image/png": "[encoded data removed]",
      "text/plain": [
       "<Figure size 800x600 with 1 Axes>"
      ]
     },
     "metadata": {},
     "output_type": "display_data"
    }
   ],
   "source": [
    "# Histogramme de l'ancienneté des articles\n",
    "fig = plt.figure(figsize=figsize)\n",
    "plt.hist(articles_metadata[\"creation date\"], bins=20, color='blue')\n",
    "plt.xlabel(\"Ancienneté de l'article)\")\n",
    "plt.ylabel(\"Nombre d'articles\")\n",
    "plt.title(\"Ancienneté des articles\")\n",
    "\n",
    "# Utiliser une échelle logarithmique sur l'axe y\n",
    "# plt.yscale('log')\n",
    "# plt.xlim([0, 40])\n",
    "# plt.ylim([0, 1.E6])\n",
    "\n",
    "plt.show()\n",
    "fig.savefig('data/figs/article_creationdate.png', dpi=300, bbox_inches='tight')"
   ]
  },
  {
   "cell_type": "markdown",
   "id": "0bb4f352-4553-46a3-8889-cf306cb23f87",
   "metadata": {},
   "source": [
    "Ainsi, nous conservons dans ce datast, pour chaque que article :\n",
    "- Son id\n",
    "- Son ancienneté \n",
    "- Sa catégorie\n",
    "- Son nombre de mots"
   ]
  },
  {
   "cell_type": "markdown",
   "id": "edc4de32-517b-4d49-bc7a-351821d5f217",
   "metadata": {},
   "source": [
    "### 2.2 Clics\n",
    "\n",
    "#### 2.2.1 Echantillon clicks_sample\n",
    "\n",
    "Le dataset **clicks_sample** permet d'illustrer le contenu de chacun des fichiers click_hours.\n",
    "Il contient 1883 éléments avec, pour chacun :\n",
    "- des informations sur l'utilisateur :user_id,\n",
    "- des informations sur la session en cours : session_id,session_start,session_size,\n",
    "- des informations sur le clic : click_article_id, click_timestamp,click_environment,click_deviceGroup,click_os, click_country,click_region,click_referrer_type"
   ]
  },
  {
   "cell_type": "code",
   "execution_count": 74,
   "id": "2de45d03-c129-4cec-b43f-07f99d6e3a0d",
   "metadata": {},
   "outputs": [
    {
     "name": "stdout",
     "output_type": "stream",
     "text": [
      "Forme du dataset : (1883, 12)\n",
      "-\n",
      "Features : ['user_id', 'session_id', 'session_start', 'session_size', 'click_article_id', 'click_timestamp', 'click_environment', 'click_deviceGroup', 'click_os', 'click_country', 'click_region', 'click_referrer_type']\n",
      "-\n",
      "Types de fichiers : \n"
     ]
    },
    {
     "data": {
      "text/plain": [
       "user_id                int64\n",
       "session_id             int64\n",
       "session_start          int64\n",
       "session_size           int64\n",
       "click_article_id       int64\n",
       "click_timestamp        int64\n",
       "click_environment      int64\n",
       "click_deviceGroup      int64\n",
       "click_os               int64\n",
       "click_country          int64\n",
       "click_region           int64\n",
       "click_referrer_type    int64\n",
       "dtype: object"
      ]
     },
     "execution_count": 74,
     "metadata": {},
     "output_type": "execute_result"
    }
   ],
   "source": [
    "# Upload .csv file\n",
    "clicks_sample = pd.read_csv('data/clicks_sample.csv')\n",
    "\n",
    "print(\"Forme du dataset : \" + str(clicks_sample.shape))\n",
    "print(\"-\")\n",
    "print(\"Features : \" + str(clicks_sample.keys().tolist()))\n",
    "print(\"-\")\n",
    "print(\"Types de fichiers : \")\n",
    "clicks_sample.dtypes"
   ]
  },
  {
   "cell_type": "markdown",
   "id": "88b9af19-fd2a-460c-b237-1eb168a8a966",
   "metadata": {},
   "source": [
    "<u> Informations concernant l'échantillon clicks_sample </u>"
   ]
  },
  {
   "cell_type": "code",
   "execution_count": 75,
   "id": "27b8dcf3-3207-479f-82d3-c654d4495173",
   "metadata": {},
   "outputs": [
    {
     "name": "stdout",
     "output_type": "stream",
     "text": [
      "Informations concernant l'échantillon clicks_sample : \n",
      "- 1883 clics\n",
      "- 707 utilisateurs\n",
      "- 707 sessions\n",
      "- Plusieurs sessions commencent en même temps (619 valeurs uniques de début de session)\n",
      "- 11 tailles uniques de session : [2, 3, 7, 6, 4, 5, 16, 8, 10, 9, 24]\n",
      "- 323 articles différents consultés\n",
      "- click_timestamp renseigne sur la date de clic (1883 valeurs uniques)\n",
      "- 3 valeurs d'environnement : [4, 2, 1]\n",
      "- Similaire pour click_deviceGroup, click_os, click_country (7), click_region (26), click_referrer_type (6)\n"
     ]
    }
   ],
   "source": [
    "print(\"Informations concernant l'échantillon clicks_sample : \")\n",
    "print(f\"- {len(clicks_sample)} clics\")\n",
    "print(f\"- {len(clicks_sample['user_id'].value_counts())} utilisateurs\")\n",
    "print(f\"- {len(clicks_sample['session_id'].unique())} sessions\")\n",
    "print(f\"- Plusieurs sessions commencent en même temps ({len(clicks_sample['session_start'].unique())} valeurs uniques de début de session)\")\n",
    "print(f\"- {len(clicks_sample['session_size'].unique())} tailles uniques de session : {clicks_sample['session_size'].unique().tolist()}\")\n",
    "print(f\"- {len(clicks_sample['click_article_id'].unique())} articles différents consultés\")\n",
    "print(f\"- click_timestamp renseigne sur la date de clic ({len(clicks_sample['click_timestamp'].unique()) } valeurs uniques)\")\n",
    "print(f\"- {len(clicks_sample['click_environment'].unique())} valeurs d'environnement : {clicks_sample['click_environment'].unique().tolist()}\")\n",
    "print(f\"- Similaire pour click_deviceGroup, click_os, click_country (7), click_region (26), click_referrer_type (6)\")"
   ]
  },
  {
   "cell_type": "code",
   "execution_count": 76,
   "id": "2327f9c8-edfa-427f-9b03-d7de9b93a54d",
   "metadata": {},
   "outputs": [],
   "source": [
    "# Check  for different variables if all the data is the same per user \n",
    "for idx in clicks_sample['user_id']:\n",
    "    if len(clicks_sample[clicks_sample['user_id']==idx]['session_size'].unique())!=1:\n",
    "       print(idx)\n",
    "# Exceptions (minor) \n",
    "# - User 327 : region is changing\n",
    "# - User 231,648 : environment is changing\n",
    "# - Session size is not changing : it's the number of articles/clics per session/user"
   ]
  },
  {
   "cell_type": "markdown",
   "id": "04e2606a-c813-40eb-ba51-d3239ac9f595",
   "metadata": {},
   "source": [
    "Toutes les informations ne sont pas utiles pour notre étude. \n",
    "Certaines sont redondantes et donc supprimées du dataset.\n"
   ]
  },
  {
   "cell_type": "markdown",
   "id": "c593f6ce-ac80-46ae-9b8a-19176900b410",
   "metadata": {},
   "source": [
    "Ainsi, les informations pertinentes au regard de notre problématique sont :\n",
    "- user_id\n",
    "- session_size : nombre de clics/d'articles lus par l'utilisateur\n",
    "- click_article_id \n",
    "- click_timestamp : date de clic associé à un article (ajoutée en date abolue)"
   ]
  },
  {
   "cell_type": "markdown",
   "id": "e7c5524c-b49e-4dc1-b68a-1236b2994090",
   "metadata": {},
   "source": [
    "<u> Visualisation du dataset et de quelques données statistiques <u>"
   ]
  },
  {
   "cell_type": "code",
   "execution_count": 77,
   "id": "29766e91-3684-4f26-9c06-2b12f1c0d884",
   "metadata": {},
   "outputs": [],
   "source": [
    "clicks_sample['click_time'] = pd.to_datetime(clicks_sample['click_timestamp'], unit='ms')#.dt#.date"
   ]
  },
  {
   "cell_type": "code",
   "execution_count": 78,
   "id": "5ee496bc-2c44-4c2d-8c3f-d3b59f80a2d9",
   "metadata": {},
   "outputs": [],
   "source": [
    "clicks_sample = clicks_sample.drop(\n",
    "        columns=['session_start','session_id',\n",
    "                 'click_environment','click_os','click_referrer_type',\n",
    "                 'click_deviceGroup','click_region','click_country'])"
   ]
  },
  {
   "cell_type": "code",
   "execution_count": 79,
   "id": "a2828c35-5a84-45e1-8e02-5f5c120e92ab",
   "metadata": {},
   "outputs": [
    {
     "data": {
      "text/html": [
       "<div>\n",
       "<style scoped>\n",
       "    .dataframe tbody tr th:only-of-type {\n",
       "        vertical-align: middle;\n",
       "    }\n",
       "\n",
       "    .dataframe tbody tr th {\n",
       "        vertical-align: top;\n",
       "    }\n",
       "\n",
       "    .dataframe thead th {\n",
       "        text-align: right;\n",
       "    }\n",
       "</style>\n",
       "<table border=\"1\" class=\"dataframe\">\n",
       "  <thead>\n",
       "    <tr style=\"text-align: right;\">\n",
       "      <th></th>\n",
       "      <th>user_id</th>\n",
       "      <th>session_size</th>\n",
       "      <th>click_article_id</th>\n",
       "      <th>click_timestamp</th>\n",
       "      <th>click_time</th>\n",
       "    </tr>\n",
       "  </thead>\n",
       "  <tbody>\n",
       "    <tr>\n",
       "      <th>0</th>\n",
       "      <td>0</td>\n",
       "      <td>2</td>\n",
       "      <td>157541</td>\n",
       "      <td>1506826828020</td>\n",
       "      <td>2017-10-01 03:00:28.020</td>\n",
       "    </tr>\n",
       "    <tr>\n",
       "      <th>1</th>\n",
       "      <td>0</td>\n",
       "      <td>2</td>\n",
       "      <td>68866</td>\n",
       "      <td>1506826858020</td>\n",
       "      <td>2017-10-01 03:00:58.020</td>\n",
       "    </tr>\n",
       "    <tr>\n",
       "      <th>2</th>\n",
       "      <td>1</td>\n",
       "      <td>2</td>\n",
       "      <td>235840</td>\n",
       "      <td>1506827017951</td>\n",
       "      <td>2017-10-01 03:03:37.951</td>\n",
       "    </tr>\n",
       "    <tr>\n",
       "      <th>3</th>\n",
       "      <td>1</td>\n",
       "      <td>2</td>\n",
       "      <td>96663</td>\n",
       "      <td>1506827047951</td>\n",
       "      <td>2017-10-01 03:04:07.951</td>\n",
       "    </tr>\n",
       "    <tr>\n",
       "      <th>4</th>\n",
       "      <td>2</td>\n",
       "      <td>2</td>\n",
       "      <td>119592</td>\n",
       "      <td>1506827090575</td>\n",
       "      <td>2017-10-01 03:04:50.575</td>\n",
       "    </tr>\n",
       "  </tbody>\n",
       "</table>\n",
       "</div>"
      ],
      "text/plain": [
       "   user_id  session_size  click_article_id  click_timestamp  \\\n",
       "0        0             2            157541    1506826828020   \n",
       "1        0             2             68866    1506826858020   \n",
       "2        1             2            235840    1506827017951   \n",
       "3        1             2             96663    1506827047951   \n",
       "4        2             2            119592    1506827090575   \n",
       "\n",
       "               click_time  \n",
       "0 2017-10-01 03:00:28.020  \n",
       "1 2017-10-01 03:00:58.020  \n",
       "2 2017-10-01 03:03:37.951  \n",
       "3 2017-10-01 03:04:07.951  \n",
       "4 2017-10-01 03:04:50.575  "
      ]
     },
     "execution_count": 79,
     "metadata": {},
     "output_type": "execute_result"
    }
   ],
   "source": [
    "clicks_sample.head(5)"
   ]
  },
  {
   "cell_type": "code",
   "execution_count": 80,
   "id": "d9e07577-2e41-49ac-a80d-ad2d01c10add",
   "metadata": {},
   "outputs": [
    {
     "data": {
      "text/html": [
       "<div>\n",
       "<style scoped>\n",
       "    .dataframe tbody tr th:only-of-type {\n",
       "        vertical-align: middle;\n",
       "    }\n",
       "\n",
       "    .dataframe tbody tr th {\n",
       "        vertical-align: top;\n",
       "    }\n",
       "\n",
       "    .dataframe thead th {\n",
       "        text-align: right;\n",
       "    }\n",
       "</style>\n",
       "<table border=\"1\" class=\"dataframe\">\n",
       "  <thead>\n",
       "    <tr style=\"text-align: right;\">\n",
       "      <th></th>\n",
       "      <th>user_id</th>\n",
       "      <th>session_size</th>\n",
       "      <th>click_article_id</th>\n",
       "      <th>click_timestamp</th>\n",
       "    </tr>\n",
       "  </thead>\n",
       "  <tbody>\n",
       "    <tr>\n",
       "      <th>count</th>\n",
       "      <td>1883.000000</td>\n",
       "      <td>1883.000000</td>\n",
       "      <td>1883.000000</td>\n",
       "      <td>1.883000e+03</td>\n",
       "    </tr>\n",
       "    <tr>\n",
       "      <th>mean</th>\n",
       "      <td>355.893787</td>\n",
       "      <td>3.459904</td>\n",
       "      <td>176717.848646</td>\n",
       "      <td>1.506830e+12</td>\n",
       "    </tr>\n",
       "    <tr>\n",
       "      <th>std</th>\n",
       "      <td>206.162865</td>\n",
       "      <td>3.037467</td>\n",
       "      <td>82324.177259</td>\n",
       "      <td>1.064938e+07</td>\n",
       "    </tr>\n",
       "    <tr>\n",
       "      <th>min</th>\n",
       "      <td>0.000000</td>\n",
       "      <td>2.000000</td>\n",
       "      <td>2137.000000</td>\n",
       "      <td>1.506827e+12</td>\n",
       "    </tr>\n",
       "    <tr>\n",
       "      <th>25%</th>\n",
       "      <td>181.500000</td>\n",
       "      <td>2.000000</td>\n",
       "      <td>108854.000000</td>\n",
       "      <td>1.506828e+12</td>\n",
       "    </tr>\n",
       "    <tr>\n",
       "      <th>50%</th>\n",
       "      <td>353.000000</td>\n",
       "      <td>3.000000</td>\n",
       "      <td>157541.000000</td>\n",
       "      <td>1.506828e+12</td>\n",
       "    </tr>\n",
       "    <tr>\n",
       "      <th>75%</th>\n",
       "      <td>537.000000</td>\n",
       "      <td>4.000000</td>\n",
       "      <td>236697.500000</td>\n",
       "      <td>1.506829e+12</td>\n",
       "    </tr>\n",
       "    <tr>\n",
       "      <th>max</th>\n",
       "      <td>706.000000</td>\n",
       "      <td>24.000000</td>\n",
       "      <td>363291.000000</td>\n",
       "      <td>1.506998e+12</td>\n",
       "    </tr>\n",
       "  </tbody>\n",
       "</table>\n",
       "</div>"
      ],
      "text/plain": [
       "           user_id  session_size  click_article_id  click_timestamp\n",
       "count  1883.000000   1883.000000       1883.000000     1.883000e+03\n",
       "mean    355.893787      3.459904     176717.848646     1.506830e+12\n",
       "std     206.162865      3.037467      82324.177259     1.064938e+07\n",
       "min       0.000000      2.000000       2137.000000     1.506827e+12\n",
       "25%     181.500000      2.000000     108854.000000     1.506828e+12\n",
       "50%     353.000000      3.000000     157541.000000     1.506828e+12\n",
       "75%     537.000000      4.000000     236697.500000     1.506829e+12\n",
       "max     706.000000     24.000000     363291.000000     1.506998e+12"
      ]
     },
     "execution_count": 80,
     "metadata": {},
     "output_type": "execute_result"
    }
   ],
   "source": [
    "clicks_sample.describe()"
   ]
  },
  {
   "cell_type": "markdown",
   "id": "7a59214e-ebcb-4dda-b134-d24e061a94ce",
   "metadata": {},
   "source": [
    "Le nombre d'articles par utilisateur varie de 2 à 24 et est inégalement distribué :"
   ]
  },
  {
   "cell_type": "code",
   "execution_count": 81,
   "id": "444b6efe-56dc-4a83-b1bc-81feca1843d0",
   "metadata": {},
   "outputs": [
    {
     "data": {
      "image/png": "[encoded data removed]",
      "text/plain": [
       "<Figure size 800x600 with 1 Axes>"
      ]
     },
     "metadata": {},
     "output_type": "display_data"
    }
   ],
   "source": [
    "# Histogramme de session size avec échelle logarithmique sur l'axe y\n",
    "fig = plt.figure(figsize=figsize)\n",
    "plt.hist(clicks_sample['session_size'], bins=20, color='blue')\n",
    "plt.xlabel(\"Taille de la session (nombre d'articles lus)\")\n",
    "plt.ylabel(\"Nombre de clics\")\n",
    "plt.title(\"Distribution de la taille des sessions (nombre d'articles lus)\")\n",
    "\n",
    "# Utiliser une échelle logarithmique sur l'axe y\n",
    "plt.yscale('log')\n",
    "# plt.xlim([0, 40])\n",
    "#plt.ylim([0, 1.E6])\n",
    "\n",
    "plt.show()"
   ]
  },
  {
   "cell_type": "code",
   "execution_count": 82,
   "id": "4b345f0e-309b-4916-83b3-72d1d110a5d8",
   "metadata": {},
   "outputs": [
    {
     "name": "stdout",
     "output_type": "stream",
     "text": [
      "Date du premier article consulté : 2017-10-01 03:00:00.026000\n",
      "Date du dernier article consulté : 2017-10-03 02:35:54.157000\n"
     ]
    }
   ],
   "source": [
    "print(f\"Date du premier article consulté : {clicks_sample['click_time'].min()}\")\n",
    "print(f\"Date du dernier article consulté : {clicks_sample['click_time'].max()}\")"
   ]
  },
  {
   "cell_type": "markdown",
   "id": "45038506-926c-4377-ab10-d51d158ca4a6",
   "metadata": {},
   "source": [
    "#### 2.2.2 Concaténation des fichiers click_hours\n",
    "\n",
    "Concaténons l'ensemble des fichiers du dossier clicks afin d'obtenir l'historique complet des clics enregistrés :"
   ]
  },
  {
   "cell_type": "code",
   "execution_count": 83,
   "id": "772e77df-b6eb-42a2-8e4e-00bdbe46f132",
   "metadata": {},
   "outputs": [],
   "source": [
    "def merge_csv_files(folder_path, merged_file_name):\n",
    "    \"\"\"\n",
    "    Fusionne tous les fichiers CSV dans un dossier en un seul fichier CSV.\n",
    "\n",
    "    Args:\n",
    "        folder_path (str): Le chemin d'accès au dossier contenant les fichiers CSV.\n",
    "        merged_file_name (str): Le nom du fichier fusionné.\n",
    "\n",
    "    Returns:\n",
    "        Merged dataframe\n",
    "    \"\"\"\n",
    "    csv_files = glob.glob(os.path.join(folder_path, '*.csv'))\n",
    "    \n",
    "    merged_clicks = pd.DataFrame()\n",
    "    \n",
    "    for csv_file in csv_files:\n",
    "        df = pd.read_csv(csv_file.replace(\"\\\\\\\\\", \"\\\\\"))\n",
    "        merged_clicks = pd.concat([merged_clicks, df], ignore_index=True)\n",
    "\n",
    "    merged_clicks.to_csv(merged_file_name, index=False)\n",
    "\n",
    "    return merged_clicks"
   ]
  },
  {
   "cell_type": "code",
   "execution_count": 84,
   "id": "31376c4c-867b-449f-87a7-4ccaf0e74c70",
   "metadata": {},
   "outputs": [
    {
     "name": "stdout",
     "output_type": "stream",
     "text": [
      "Merged_clicks file already exists. Upload complete\n"
     ]
    }
   ],
   "source": [
    "# Upload or concatenated the history of the clicks\n",
    "folder_path ='data\\clicks\\clicks'\n",
    "merged_file_name = 'data\\merged_clicks.csv'\n",
    "if os.path.isfile(merged_file_name):\n",
    "    merged_clicks = pd.read_csv(merged_file_name)\n",
    "    print(\"Merged_clicks file already exists. Upload complete\")\n",
    "else:\n",
    "    merged_clicks = merge_csv_files(folder_path, merged_file_name)"
   ]
  },
  {
   "cell_type": "code",
   "execution_count": 85,
   "id": "95e789f2-1d93-4392-a87c-5f7dfd286615",
   "metadata": {},
   "outputs": [],
   "source": [
    "merged_clicks = merged_clicks.astype('int64')"
   ]
  },
  {
   "cell_type": "markdown",
   "id": "1507fca1-7eae-4ce9-b9c2-d15705b9fcac",
   "metadata": {},
   "source": [
    "Le dataset obtenu, **merged_clicks** contient l'historique de 2164021 clics que nous allons analyser de la même façon que l'échantillon précédent.\n",
    "\n",
    "<u> Forme et propriétés du dataset </u> "
   ]
  },
  {
   "cell_type": "code",
   "execution_count": 86,
   "id": "be102f4b-518f-4247-82c8-cfe2289600e8",
   "metadata": {},
   "outputs": [
    {
     "name": "stdout",
     "output_type": "stream",
     "text": [
      "Forme du dataset : (2988181, 12)\n",
      "-\n",
      "Features : ['user_id', 'session_id', 'session_start', 'session_size', 'click_article_id', 'click_timestamp', 'click_environment', 'click_deviceGroup', 'click_os', 'click_country', 'click_region', 'click_referrer_type']\n",
      "-\n",
      "Types de fichiers : \n"
     ]
    },
    {
     "data": {
      "text/plain": [
       "user_id                int64\n",
       "session_id             int64\n",
       "session_start          int64\n",
       "session_size           int64\n",
       "click_article_id       int64\n",
       "click_timestamp        int64\n",
       "click_environment      int64\n",
       "click_deviceGroup      int64\n",
       "click_os               int64\n",
       "click_country          int64\n",
       "click_region           int64\n",
       "click_referrer_type    int64\n",
       "dtype: object"
      ]
     },
     "execution_count": 86,
     "metadata": {},
     "output_type": "execute_result"
    }
   ],
   "source": [
    "# Content and properties of the dataset\n",
    "print(\"Forme du dataset : \" + str(merged_clicks.shape))\n",
    "print(\"-\")\n",
    "print(\"Features : \" + str(merged_clicks.keys().tolist()))\n",
    "print(\"-\")\n",
    "print(\"Types de fichiers : \")\n",
    "merged_clicks.dtypes"
   ]
  },
  {
   "cell_type": "markdown",
   "id": "22be5bbb-6bf6-43da-afd3-ed9e0b8aa0cf",
   "metadata": {},
   "source": [
    "<u> Conversion des dates de clic et suppression des variables non pertinentes </u>"
   ]
  },
  {
   "cell_type": "code",
   "execution_count": 87,
   "id": "6a43e0fb-a7fd-447d-aa7a-0c18a19cf5ca",
   "metadata": {},
   "outputs": [],
   "source": [
    "# Convert click_timestamp in dates\n",
    "merged_clicks['click_time'] = pd.to_datetime(merged_clicks['click_timestamp'], unit='ms')#.dt.date"
   ]
  },
  {
   "cell_type": "code",
   "execution_count": 88,
   "id": "12c3dcc5-0a33-4a29-b6d2-d41c2d1f3d1c",
   "metadata": {},
   "outputs": [],
   "source": [
    "# Remove non relevant data\n",
    "merged_clicks = merged_clicks.drop(\n",
    "        columns=['session_start','session_id',\n",
    "                 'click_environment','click_os','click_referrer_type',\n",
    "                 'click_deviceGroup','click_region','click_country'])"
   ]
  },
  {
   "cell_type": "markdown",
   "id": "289191f0-891b-4c57-9549-dfe062778681",
   "metadata": {},
   "source": [
    "<u> Analyse des données </u>"
   ]
  },
  {
   "cell_type": "code",
   "execution_count": 89,
   "id": "7f0a67a0-86ed-4bee-a153-3bef7fe81a4a",
   "metadata": {},
   "outputs": [
    {
     "data": {
      "text/html": [
       "<div>\n",
       "<style scoped>\n",
       "    .dataframe tbody tr th:only-of-type {\n",
       "        vertical-align: middle;\n",
       "    }\n",
       "\n",
       "    .dataframe tbody tr th {\n",
       "        vertical-align: top;\n",
       "    }\n",
       "\n",
       "    .dataframe thead th {\n",
       "        text-align: right;\n",
       "    }\n",
       "</style>\n",
       "<table border=\"1\" class=\"dataframe\">\n",
       "  <thead>\n",
       "    <tr style=\"text-align: right;\">\n",
       "      <th></th>\n",
       "      <th>user_id</th>\n",
       "      <th>session_size</th>\n",
       "      <th>click_article_id</th>\n",
       "      <th>click_timestamp</th>\n",
       "      <th>click_time</th>\n",
       "    </tr>\n",
       "  </thead>\n",
       "  <tbody>\n",
       "    <tr>\n",
       "      <th>0</th>\n",
       "      <td>0</td>\n",
       "      <td>2</td>\n",
       "      <td>157541</td>\n",
       "      <td>1506826828020</td>\n",
       "      <td>2017-10-01 03:00:28.020</td>\n",
       "    </tr>\n",
       "    <tr>\n",
       "      <th>1</th>\n",
       "      <td>0</td>\n",
       "      <td>2</td>\n",
       "      <td>68866</td>\n",
       "      <td>1506826858020</td>\n",
       "      <td>2017-10-01 03:00:58.020</td>\n",
       "    </tr>\n",
       "    <tr>\n",
       "      <th>2</th>\n",
       "      <td>1</td>\n",
       "      <td>2</td>\n",
       "      <td>235840</td>\n",
       "      <td>1506827017951</td>\n",
       "      <td>2017-10-01 03:03:37.951</td>\n",
       "    </tr>\n",
       "    <tr>\n",
       "      <th>3</th>\n",
       "      <td>1</td>\n",
       "      <td>2</td>\n",
       "      <td>96663</td>\n",
       "      <td>1506827047951</td>\n",
       "      <td>2017-10-01 03:04:07.951</td>\n",
       "    </tr>\n",
       "    <tr>\n",
       "      <th>4</th>\n",
       "      <td>2</td>\n",
       "      <td>2</td>\n",
       "      <td>119592</td>\n",
       "      <td>1506827090575</td>\n",
       "      <td>2017-10-01 03:04:50.575</td>\n",
       "    </tr>\n",
       "  </tbody>\n",
       "</table>\n",
       "</div>"
      ],
      "text/plain": [
       "   user_id  session_size  click_article_id  click_timestamp  \\\n",
       "0        0             2            157541    1506826828020   \n",
       "1        0             2             68866    1506826858020   \n",
       "2        1             2            235840    1506827017951   \n",
       "3        1             2             96663    1506827047951   \n",
       "4        2             2            119592    1506827090575   \n",
       "\n",
       "               click_time  \n",
       "0 2017-10-01 03:00:28.020  \n",
       "1 2017-10-01 03:00:58.020  \n",
       "2 2017-10-01 03:03:37.951  \n",
       "3 2017-10-01 03:04:07.951  \n",
       "4 2017-10-01 03:04:50.575  "
      ]
     },
     "execution_count": 89,
     "metadata": {},
     "output_type": "execute_result"
    }
   ],
   "source": [
    "merged_clicks.head(5)"
   ]
  },
  {
   "cell_type": "code",
   "execution_count": 90,
   "id": "bae7e551-588f-440f-ab7f-11633643a541",
   "metadata": {},
   "outputs": [
    {
     "data": {
      "text/html": [
       "<div>\n",
       "<style scoped>\n",
       "    .dataframe tbody tr th:only-of-type {\n",
       "        vertical-align: middle;\n",
       "    }\n",
       "\n",
       "    .dataframe tbody tr th {\n",
       "        vertical-align: top;\n",
       "    }\n",
       "\n",
       "    .dataframe thead th {\n",
       "        text-align: right;\n",
       "    }\n",
       "</style>\n",
       "<table border=\"1\" class=\"dataframe\">\n",
       "  <thead>\n",
       "    <tr style=\"text-align: right;\">\n",
       "      <th></th>\n",
       "      <th>user_id</th>\n",
       "      <th>session_size</th>\n",
       "      <th>click_article_id</th>\n",
       "      <th>click_timestamp</th>\n",
       "    </tr>\n",
       "  </thead>\n",
       "  <tbody>\n",
       "    <tr>\n",
       "      <th>count</th>\n",
       "      <td>2.988181e+06</td>\n",
       "      <td>2.988181e+06</td>\n",
       "      <td>2.988181e+06</td>\n",
       "      <td>2.988181e+06</td>\n",
       "    </tr>\n",
       "    <tr>\n",
       "      <th>mean</th>\n",
       "      <td>1.079478e+05</td>\n",
       "      <td>3.901885e+00</td>\n",
       "      <td>1.949226e+05</td>\n",
       "      <td>1.507474e+12</td>\n",
       "    </tr>\n",
       "    <tr>\n",
       "      <th>std</th>\n",
       "      <td>8.364836e+04</td>\n",
       "      <td>3.929941e+00</td>\n",
       "      <td>9.076842e+04</td>\n",
       "      <td>3.858510e+08</td>\n",
       "    </tr>\n",
       "    <tr>\n",
       "      <th>min</th>\n",
       "      <td>0.000000e+00</td>\n",
       "      <td>2.000000e+00</td>\n",
       "      <td>3.000000e+00</td>\n",
       "      <td>1.506827e+12</td>\n",
       "    </tr>\n",
       "    <tr>\n",
       "      <th>25%</th>\n",
       "      <td>4.034100e+04</td>\n",
       "      <td>2.000000e+00</td>\n",
       "      <td>1.242280e+05</td>\n",
       "      <td>1.507127e+12</td>\n",
       "    </tr>\n",
       "    <tr>\n",
       "      <th>50%</th>\n",
       "      <td>8.622900e+04</td>\n",
       "      <td>3.000000e+00</td>\n",
       "      <td>2.023810e+05</td>\n",
       "      <td>1.507495e+12</td>\n",
       "    </tr>\n",
       "    <tr>\n",
       "      <th>75%</th>\n",
       "      <td>1.632610e+05</td>\n",
       "      <td>4.000000e+00</td>\n",
       "      <td>2.770670e+05</td>\n",
       "      <td>1.507751e+12</td>\n",
       "    </tr>\n",
       "    <tr>\n",
       "      <th>max</th>\n",
       "      <td>3.228960e+05</td>\n",
       "      <td>1.240000e+02</td>\n",
       "      <td>3.640460e+05</td>\n",
       "      <td>1.510603e+12</td>\n",
       "    </tr>\n",
       "  </tbody>\n",
       "</table>\n",
       "</div>"
      ],
      "text/plain": [
       "            user_id  session_size  click_article_id  click_timestamp\n",
       "count  2.988181e+06  2.988181e+06      2.988181e+06     2.988181e+06\n",
       "mean   1.079478e+05  3.901885e+00      1.949226e+05     1.507474e+12\n",
       "std    8.364836e+04  3.929941e+00      9.076842e+04     3.858510e+08\n",
       "min    0.000000e+00  2.000000e+00      3.000000e+00     1.506827e+12\n",
       "25%    4.034100e+04  2.000000e+00      1.242280e+05     1.507127e+12\n",
       "50%    8.622900e+04  3.000000e+00      2.023810e+05     1.507495e+12\n",
       "75%    1.632610e+05  4.000000e+00      2.770670e+05     1.507751e+12\n",
       "max    3.228960e+05  1.240000e+02      3.640460e+05     1.510603e+12"
      ]
     },
     "execution_count": 90,
     "metadata": {},
     "output_type": "execute_result"
    }
   ],
   "source": [
    "merged_clicks.drop(columns={'click_time'}).describe()"
   ]
  },
  {
   "cell_type": "code",
   "execution_count": 91,
   "id": "b3eabe38-a538-4dfc-a536-4dd413ae1be6",
   "metadata": {},
   "outputs": [
    {
     "data": {
      "image/png": "[encoded data removed]",
      "text/plain": [
       "<Figure size 800x600 with 1 Axes>"
      ]
     },
     "metadata": {},
     "output_type": "display_data"
    }
   ],
   "source": [
    "# Histogramme de session size avec échelle logarithmique sur l'axe y\n",
    "fig = plt.figure(figsize=figsize)\n",
    "plt.hist(merged_clicks['session_size'], bins=20, color='blue')\n",
    "plt.xlabel(\"Taille de la session (nombre d'articles lus)\")\n",
    "plt.ylabel(\"Nombre de clics\")\n",
    "plt.title(\"Distribution de la taille des sessions (nombre d'articles lus)\")\n",
    "\n",
    "# Utiliser une échelle logarithmique sur l'axe y\n",
    "plt.yscale('log')\n",
    "\n",
    "# Définir les étiquettes et les emplacements de l'axe y\n",
    "# plt.yticks([1, 10, 100, 1000, 10000], [1, 10, 100, 1000, 10000])\n",
    "\n",
    "# Limites des axes\n",
    "# plt.xlim([0, 40])\n",
    "# plt.ylim([0, 1.E6])\n",
    "\n",
    "# Ajouter une grille\n",
    "# plt.grid(True, which='both')\n",
    "\n",
    "plt.show()\n",
    "fig.savefig('data/figs/sessionsize.png', dpi=300, bbox_inches='tight')"
   ]
  },
  {
   "cell_type": "code",
   "execution_count": 92,
   "id": "14bbe56e-95fd-4d72-a40e-a860b376312d",
   "metadata": {},
   "outputs": [
    {
     "data": {
      "image/png": "[encoded data removed]",
      "text/plain": [
       "<Figure size 800x600 with 1 Axes>"
      ]
     },
     "metadata": {},
     "output_type": "display_data"
    }
   ],
   "source": [
    "# Histogramme des dates de clic avec échelle logarithmique sur l'axe y\n",
    "fig = plt.figure(figsize=figsize)\n",
    "plt.hist(merged_clicks['click_time'], bins=20, color='blue')\n",
    "plt.xlabel(\"Date de clic\")\n",
    "plt.ylabel(\"Nombre de clics\")\n",
    "plt.title(\"Historique des clics\")\n",
    "\n",
    "# Utiliser une échelle logarithmique sur l'axe y\n",
    "plt.yscale('log')\n",
    "\n",
    "# Définir les étiquettes et les emplacements de l'axe y\n",
    "# plt.yticks([1, 10, 100, 1000, 10000], [1, 10, 100, 1000, 10000])\n",
    "\n",
    "# Limites des axes\n",
    "# plt.xlim([0, 40])\n",
    "# plt.ylim([0, 1.E6])\n",
    "\n",
    "# Ajouter une grille\n",
    "# plt.grid(True, which='both')\n",
    "\n",
    "plt.show()\n",
    "fig.savefig('data/figs/clics_history.png', dpi=300, bbox_inches='tight')"
   ]
  },
  {
   "cell_type": "code",
   "execution_count": 93,
   "id": "700113fc-b4fc-41e6-a4c9-e53d803bec3c",
   "metadata": {},
   "outputs": [
    {
     "name": "stdout",
     "output_type": "stream",
     "text": [
      "Date du premier article consulté : 2017-10-01 03:00:00.026000\n",
      "Date du dernier article consulté : 2017-11-13 20:04:14.886000\n"
     ]
    }
   ],
   "source": [
    "print(f\"Date du premier article consulté : {merged_clicks['click_time'].min()}\")\n",
    "print(f\"Date du dernier article consulté : {merged_clicks['click_time'].max()}\")"
   ]
  },
  {
   "cell_type": "code",
   "execution_count": 94,
   "id": "94dc5e13-3778-4280-a3c0-8bed8b823e86",
   "metadata": {},
   "outputs": [
    {
     "name": "stdout",
     "output_type": "stream",
     "text": [
      "Nombre de clics : 2988181\n",
      "Nombre d'utilisateurs uniques : 322897\n",
      "Nombre d'articles uniques : 46033\n"
     ]
    }
   ],
   "source": [
    "print(f\"Nombre de clics : {len(merged_clicks)}\")\n",
    "print(f\"Nombre d'utilisateurs uniques : {len(merged_clicks['user_id'].unique())}\")\n",
    "print(f\"Nombre d'articles uniques : {len(merged_clicks['click_article_id'].unique())}\")"
   ]
  },
  {
   "cell_type": "markdown",
   "id": "8f5efa75-e90d-414a-acfc-cdc0103eab9a",
   "metadata": {},
   "source": [
    "Ainsi, le dataset **clics** contient:\n",
    "- 277379 utilisateurs uniques ayant sollicité 2164021 clics;\n",
    "- les clics couvrent une période allant du 1er octobre au 13 novembre 2017;\n",
    "- chaque utilisateur a cliqué sur un nombre d'articles compris entre 2 et 124"
   ]
  },
  {
   "cell_type": "markdown",
   "id": "9e4ad4cd-f37a-4a2d-aa6f-4bb2a7dff6ef",
   "metadata": {},
   "source": [
    "### 2.3 Matrice d'embedding "
   ]
  },
  {
   "cell_type": "markdown",
   "id": "2ebf7bd4-ca0d-4ccf-83d7-dea5064211ac",
   "metadata": {},
   "source": [
    "Le fichier **articles_embeddings.pickle** contient une matrice d'embeddings d'articles, avec 364 047 vecteurs d'embeddings de dimension 250, représentant chacun un vecteur. "
   ]
  },
  {
   "cell_type": "code",
   "execution_count": 95,
   "id": "04574b95-2987-408c-9ec5-4fe8da5e3a1a",
   "metadata": {},
   "outputs": [
    {
     "name": "stdout",
     "output_type": "stream",
     "text": [
      "(364047, 250)\n"
     ]
    }
   ],
   "source": [
    "import pickle\n",
    "\n",
    "# Ouverture du fichier en mode lecture binaire\n",
    "with open(r'data\\articles_embeddings.pickle', 'rb') as f:\n",
    "    # Chargement des données du fichier pickle\n",
    "    articles_embeddings = pickle.load(f)\n",
    "\n",
    "# Affichage des données chargées\n",
    "print(articles_embeddings.shape)"
   ]
  },
  {
   "cell_type": "markdown",
   "id": "df63470d-5a7c-4546-9622-edc42a833130",
   "metadata": {},
   "source": [
    "##### Réduction de dimension par la méthode TSNE"
   ]
  },
  {
   "cell_type": "markdown",
   "id": "99676b39-a970-42c6-8c77-5128cc32483e",
   "metadata": {},
   "source": [
    "La méthode t-SNE (t-distributed Stochastic Neighbor Embedding) est appliquée sur l'embedding d'articles afin de réduire ses dimensions et mieux comprendre visuellement sa structure.\n",
    "\n",
    "Il a été envisagé de réaliser une ACP en prétraitement afin d'améliorer la qualité des projections de la t-SNE.\n",
    "\n",
    "Les temps de calculs étant conséquents, l'utilisation de la t-SNE a été finalement effectuée sans ACP et uniquement sur les 5000 premiers articles.\n",
    "Cela permet de montrer que les articles semblent classés par catégories, les 5000 premiers articles correspondant à une partie des 3 premières catégories."
   ]
  },
  {
   "attachments": {},
   "cell_type": "markdown",
   "id": "7336456e-7f1d-4507-b261-acb73215bf2f",
   "metadata": {},
   "source": [
    "    # Réduction avec méthode plus rapide pca\n",
    "\n",
    "    from sklearn.decomposition import TruncatedSVD\n",
    "    from sklearn.preprocessing import StandardScaler\n",
    "\n",
    "    # Centrer et réduire la matrice d'embeddings\n",
    "    scaler = StandardScaler()\n",
    "    matrix_scaled = scaler.fit_transform(matrix)\n",
    "\n",
    "    # Réaliser l'ACP\n",
    "    n_components = 50 # nombre de composantes souhaité\n",
    "    pca = TruncatedSVD(n_components=n_components, random_state=random_state)\n",
    "    components = pca.fit_transform(matrix_scaled)\n"
   ]
  },
  {
   "cell_type": "markdown",
   "id": "83449d71-67cb-4cd3-a0f9-f9be87b1d39b",
   "metadata": {},
   "source": [
    "    # Réduction de dimension avec PCA\n",
    "    from sklearn.decomposition import PCA\n",
    "    pca = PCA(n_components=50)\n",
    "    pca_result = pca.fit_transform(articles_embeddings)"
   ]
  },
  {
   "attachments": {},
   "cell_type": "markdown",
   "id": "d24b72b9-96c1-42a8-866e-47dc72dac1cb",
   "metadata": {},
   "source": [
    "    # Réduction de dimension avec t-SNE\n",
    "    tsne = TSNE(n_components=2, random_state=random_state)\n",
    "    tsne_result = tsne.fit_transform(pca_result)\n",
    "\n",
    "    # Création du scatter plot\n",
    "    fig = plt.figure(figsize=figsize)\n",
    "    plt.scatter(tsne_result[:,0], tsne_result[:,1])\n",
    "    plt.show()"
   ]
  },
  {
   "cell_type": "markdown",
   "id": "fb965e54-f5b2-447d-96c4-7c99869b02d0",
   "metadata": {},
   "source": [
    "    # Print top 5 categories and get associated indexes\n",
    "    top_5_categories = articles_metadata[\"category_id\"].value_counts()[:5].index.tolist()\n",
    "    print(f\"Top 5 des catégories d'articles : {top_5_categories}\")\n",
    "\n",
    "    indexes = articles_metadata.index[articles_metadata[\"category_id\"].isin(top_5_categories)].tolist() \n",
    "    print(f\"Nombre d'articles associés : {len(indexes)}\")"
   ]
  },
  {
   "attachments": {},
   "cell_type": "markdown",
   "id": "efb9d618-aa62-4ae6-bc9f-f0ece112558b",
   "metadata": {},
   "source": [
    "    from sklearn.manifold import TSNE\n",
    "    import random\n",
    "    import seaborn as sns\n",
    "\n",
    "    # sample_size = 5000\n",
    "    # indexes = random.sample(range(len(articles_embeddings)), sample_size)\n",
    "    indexes = range(len(articles_embeddings))# range(5000)\n",
    "\n",
    "    # Instanciation de la méthode t-SNE pour 2 dimensions\n",
    "    tsne = TSNE(n_components=2, random_state=random_state)\n",
    "\n",
    "    tsne = TSNE(n_components=2) \n",
    "    X_tsne = tsne.fit_transform(articles_embeddings[indexes])\n",
    "\n",
    "    df_tsne = pd.DataFrame(X_tsne, columns=['tsne1', 'tsne2'])\n",
    "    print(f\"Forme du TSNE : {df_tsne.shape}\")"
   ]
  },
  {
   "cell_type": "markdown",
   "id": "5d5396b8-2c19-4082-bf6b-fbce10a36b08",
   "metadata": {},
   "source": [
    "    df_tsne.head(3)"
   ]
  },
  {
   "cell_type": "markdown",
   "id": "b8aba60e-0545-4cb8-9380-0e6768aae70a",
   "metadata": {},
   "source": [
    "    # Visualisation graphique des données par la technique TSNE\n",
    "    fig = plt.figure(figsize=figsize)\n",
    "\n",
    "    df_tsne[\"category_id\"] = articles_metadata[\"category_id\"][indexes]\n",
    "    sns.scatterplot(\n",
    "        x=\"tsne1\", y=\"tsne2\",hue=\"category_id\",\n",
    "        palette=sns.color_palette('Set2',articles_metadata[\"category_id\"][indexes].nunique()),\n",
    "        data=df_tsne,s=50, alpha=0.6)#, legend=None)\n",
    "\n",
    "    plt.title('TSNE', fontsize = 30, pad = 35, fontweight = 'bold')\n",
    "    plt.xlabel('tsne1', fontsize = 26, fontweight = 'bold')\n",
    "    plt.ylabel('tsne2', fontsize = 26, fontweight = 'bold') \n",
    "\n",
    "    plt.show()\n",
    "    fig.savefig('data/figs/TSNE_partiel.png', dpi=300, bbox_inches='tight')"
   ]
  },
  {
   "cell_type": "markdown",
   "id": "95fb2dd0-9744-437c-8925-c165a6a5c5c5",
   "metadata": {},
   "source": [
    "### 2.4 Elements supplémentaires d'analyse exploratoire \n",
    "\n",
    "La réalisation d'un système de recommandation suscite quelques questions qui peuvent être éclaircies par une analyse exporatoire :\n",
    "- Quel est le nombre d'articles lus par utilisateur ? \n",
    "- Par combien d'utilisateurs chaque article est-il lu ?\n",
    "- Comment classer les articles consultés par un utilisateur : récence de la consultation, nombre de clics, durée de consultation ? Une combinaison ?"
   ]
  },
  {
   "cell_type": "code",
   "execution_count": 96,
   "id": "a036f1e7-5c0b-4243-9835-25de44388914",
   "metadata": {},
   "outputs": [
    {
     "data": {
      "text/html": [
       "<div>\n",
       "<style scoped>\n",
       "    .dataframe tbody tr th:only-of-type {\n",
       "        vertical-align: middle;\n",
       "    }\n",
       "\n",
       "    .dataframe tbody tr th {\n",
       "        vertical-align: top;\n",
       "    }\n",
       "\n",
       "    .dataframe thead th {\n",
       "        text-align: right;\n",
       "    }\n",
       "</style>\n",
       "<table border=\"1\" class=\"dataframe\">\n",
       "  <thead>\n",
       "    <tr style=\"text-align: right;\">\n",
       "      <th></th>\n",
       "      <th>user_id</th>\n",
       "      <th>session_size</th>\n",
       "      <th>click_article_id</th>\n",
       "      <th>click_timestamp</th>\n",
       "      <th>click_time</th>\n",
       "    </tr>\n",
       "  </thead>\n",
       "  <tbody>\n",
       "    <tr>\n",
       "      <th>0</th>\n",
       "      <td>0</td>\n",
       "      <td>2</td>\n",
       "      <td>157541</td>\n",
       "      <td>1506826828020</td>\n",
       "      <td>2017-10-01 03:00:28.020</td>\n",
       "    </tr>\n",
       "    <tr>\n",
       "      <th>1</th>\n",
       "      <td>0</td>\n",
       "      <td>2</td>\n",
       "      <td>68866</td>\n",
       "      <td>1506826858020</td>\n",
       "      <td>2017-10-01 03:00:58.020</td>\n",
       "    </tr>\n",
       "    <tr>\n",
       "      <th>2</th>\n",
       "      <td>1</td>\n",
       "      <td>2</td>\n",
       "      <td>235840</td>\n",
       "      <td>1506827017951</td>\n",
       "      <td>2017-10-01 03:03:37.951</td>\n",
       "    </tr>\n",
       "  </tbody>\n",
       "</table>\n",
       "</div>"
      ],
      "text/plain": [
       "   user_id  session_size  click_article_id  click_timestamp  \\\n",
       "0        0             2            157541    1506826828020   \n",
       "1        0             2             68866    1506826858020   \n",
       "2        1             2            235840    1506827017951   \n",
       "\n",
       "               click_time  \n",
       "0 2017-10-01 03:00:28.020  \n",
       "1 2017-10-01 03:00:58.020  \n",
       "2 2017-10-01 03:03:37.951  "
      ]
     },
     "execution_count": 96,
     "metadata": {},
     "output_type": "execute_result"
    }
   ],
   "source": [
    "clicks = merged_clicks#.drop(columns=['click_timestamp'])\n",
    "clicks['click_time'] = pd.to_datetime(clicks['click_time'])\n",
    "clicks.head(3)"
   ]
  },
  {
   "cell_type": "markdown",
   "id": "86c37252-00cb-42a2-b2f0-d8cf0e662621",
   "metadata": {},
   "source": [
    "##### Merge par utilisateur\n",
    "\n",
    "Sur une duréee de 43 jours :\n",
    "- chaque utilisateur a cliqué entre 2 et 1232 fois et en médiane 4 fois et consulté entre 2 et 124 articles par session, avec une moyenne de 3;\n",
    "- chaque utilisateur a consulté chaque article entre 2 et 1048 articles avec une médiane de 4\n",
    "- la plupart des utilisateurs ont été actifs sur les 15 premiers jours uniquement."
   ]
  },
  {
   "cell_type": "code",
   "execution_count": 97,
   "id": "7dfce1d3-96b8-4c35-af31-0efe7194e39c",
   "metadata": {},
   "outputs": [],
   "source": [
    "var = 'user_id'\n",
    "# Group data\n",
    "df_user = clicks.groupby(var).agg({\n",
    "    'click_article_id':'count',\n",
    "    'session_size':'max', # median\n",
    "    'click_time':'last'})\n",
    "\n",
    "# Rename \n",
    "df_user = df_user.rename(columns={'session_size':'largest_session_by_user',# average session size\n",
    "                                  'click_time':'last_clic_by_user',\n",
    "                                  'click_article_id':'total_clics_by_user'\n",
    "                                           })\n",
    "df_user['total_articles_by_user'] = clicks.groupby(var).agg({'click_article_id':'unique'})['click_article_id']\n",
    "df_user['total_articles_by_user'] = df_user['total_articles_by_user'].apply(lambda x: len(x))"
   ]
  },
  {
   "cell_type": "code",
   "execution_count": 98,
   "id": "1905e47d-86df-4ab1-a304-e3716ed77b01",
   "metadata": {},
   "outputs": [
    {
     "data": {
      "text/html": [
       "<div>\n",
       "<style scoped>\n",
       "    .dataframe tbody tr th:only-of-type {\n",
       "        vertical-align: middle;\n",
       "    }\n",
       "\n",
       "    .dataframe tbody tr th {\n",
       "        vertical-align: top;\n",
       "    }\n",
       "\n",
       "    .dataframe thead th {\n",
       "        text-align: right;\n",
       "    }\n",
       "</style>\n",
       "<table border=\"1\" class=\"dataframe\">\n",
       "  <thead>\n",
       "    <tr style=\"text-align: right;\">\n",
       "      <th></th>\n",
       "      <th>total_clics_by_user</th>\n",
       "      <th>largest_session_by_user</th>\n",
       "      <th>last_clic_by_user</th>\n",
       "      <th>total_articles_by_user</th>\n",
       "    </tr>\n",
       "    <tr>\n",
       "      <th>user_id</th>\n",
       "      <th></th>\n",
       "      <th></th>\n",
       "      <th></th>\n",
       "      <th></th>\n",
       "    </tr>\n",
       "  </thead>\n",
       "  <tbody>\n",
       "    <tr>\n",
       "      <th>0</th>\n",
       "      <td>8</td>\n",
       "      <td>2</td>\n",
       "      <td>2017-10-09 01:54:46.617</td>\n",
       "      <td>8</td>\n",
       "    </tr>\n",
       "    <tr>\n",
       "      <th>1</th>\n",
       "      <td>12</td>\n",
       "      <td>2</td>\n",
       "      <td>2017-10-17 01:01:09.398</td>\n",
       "      <td>12</td>\n",
       "    </tr>\n",
       "    <tr>\n",
       "      <th>2</th>\n",
       "      <td>4</td>\n",
       "      <td>2</td>\n",
       "      <td>2017-10-17 01:15:09.725</td>\n",
       "      <td>4</td>\n",
       "    </tr>\n",
       "    <tr>\n",
       "      <th>3</th>\n",
       "      <td>17</td>\n",
       "      <td>4</td>\n",
       "      <td>2017-10-12 03:19:55.593</td>\n",
       "      <td>17</td>\n",
       "    </tr>\n",
       "    <tr>\n",
       "      <th>4</th>\n",
       "      <td>7</td>\n",
       "      <td>3</td>\n",
       "      <td>2017-10-10 03:15:20.003</td>\n",
       "      <td>7</td>\n",
       "    </tr>\n",
       "    <tr>\n",
       "      <th>5</th>\n",
       "      <td>87</td>\n",
       "      <td>10</td>\n",
       "      <td>2017-10-16 22:19:20.852</td>\n",
       "      <td>84</td>\n",
       "    </tr>\n",
       "  </tbody>\n",
       "</table>\n",
       "</div>"
      ],
      "text/plain": [
       "         total_clics_by_user  largest_session_by_user       last_clic_by_user  \\\n",
       "user_id                                                                         \n",
       "0                          8                        2 2017-10-09 01:54:46.617   \n",
       "1                         12                        2 2017-10-17 01:01:09.398   \n",
       "2                          4                        2 2017-10-17 01:15:09.725   \n",
       "3                         17                        4 2017-10-12 03:19:55.593   \n",
       "4                          7                        3 2017-10-10 03:15:20.003   \n",
       "5                         87                       10 2017-10-16 22:19:20.852   \n",
       "\n",
       "         total_articles_by_user  \n",
       "user_id                          \n",
       "0                             8  \n",
       "1                            12  \n",
       "2                             4  \n",
       "3                            17  \n",
       "4                             7  \n",
       "5                            84  "
      ]
     },
     "execution_count": 98,
     "metadata": {},
     "output_type": "execute_result"
    }
   ],
   "source": [
    "df_user.head(6)"
   ]
  },
  {
   "cell_type": "code",
   "execution_count": 99,
   "id": "fac23c4e-f050-4d77-a7c4-55c020c802b3",
   "metadata": {},
   "outputs": [
    {
     "data": {
      "text/html": [
       "<div>\n",
       "<style scoped>\n",
       "    .dataframe tbody tr th:only-of-type {\n",
       "        vertical-align: middle;\n",
       "    }\n",
       "\n",
       "    .dataframe tbody tr th {\n",
       "        vertical-align: top;\n",
       "    }\n",
       "\n",
       "    .dataframe thead th {\n",
       "        text-align: right;\n",
       "    }\n",
       "</style>\n",
       "<table border=\"1\" class=\"dataframe\">\n",
       "  <thead>\n",
       "    <tr style=\"text-align: right;\">\n",
       "      <th></th>\n",
       "      <th>total_clics_by_user</th>\n",
       "      <th>largest_session_by_user</th>\n",
       "      <th>total_articles_by_user</th>\n",
       "    </tr>\n",
       "  </thead>\n",
       "  <tbody>\n",
       "    <tr>\n",
       "      <th>count</th>\n",
       "      <td>322897.000000</td>\n",
       "      <td>322897.000000</td>\n",
       "      <td>322897.000000</td>\n",
       "    </tr>\n",
       "    <tr>\n",
       "      <th>mean</th>\n",
       "      <td>9.254285</td>\n",
       "      <td>3.266156</td>\n",
       "      <td>9.138239</td>\n",
       "    </tr>\n",
       "    <tr>\n",
       "      <th>std</th>\n",
       "      <td>14.946358</td>\n",
       "      <td>2.147438</td>\n",
       "      <td>14.344677</td>\n",
       "    </tr>\n",
       "    <tr>\n",
       "      <th>min</th>\n",
       "      <td>2.000000</td>\n",
       "      <td>2.000000</td>\n",
       "      <td>2.000000</td>\n",
       "    </tr>\n",
       "    <tr>\n",
       "      <th>25%</th>\n",
       "      <td>2.000000</td>\n",
       "      <td>2.000000</td>\n",
       "      <td>2.000000</td>\n",
       "    </tr>\n",
       "    <tr>\n",
       "      <th>50%</th>\n",
       "      <td>4.000000</td>\n",
       "      <td>3.000000</td>\n",
       "      <td>4.000000</td>\n",
       "    </tr>\n",
       "    <tr>\n",
       "      <th>75%</th>\n",
       "      <td>10.000000</td>\n",
       "      <td>4.000000</td>\n",
       "      <td>10.000000</td>\n",
       "    </tr>\n",
       "    <tr>\n",
       "      <th>max</th>\n",
       "      <td>1232.000000</td>\n",
       "      <td>124.000000</td>\n",
       "      <td>1048.000000</td>\n",
       "    </tr>\n",
       "  </tbody>\n",
       "</table>\n",
       "</div>"
      ],
      "text/plain": [
       "       total_clics_by_user  largest_session_by_user  total_articles_by_user\n",
       "count        322897.000000            322897.000000           322897.000000\n",
       "mean              9.254285                 3.266156                9.138239\n",
       "std              14.946358                 2.147438               14.344677\n",
       "min               2.000000                 2.000000                2.000000\n",
       "25%               2.000000                 2.000000                2.000000\n",
       "50%               4.000000                 3.000000                4.000000\n",
       "75%              10.000000                 4.000000               10.000000\n",
       "max            1232.000000               124.000000             1048.000000"
      ]
     },
     "execution_count": 99,
     "metadata": {},
     "output_type": "execute_result"
    }
   ],
   "source": [
    "df_user.describe()"
   ]
  },
  {
   "cell_type": "code",
   "execution_count": 100,
   "id": "d13240e3-0c98-4921-a018-32bfdd51994d",
   "metadata": {},
   "outputs": [
    {
     "data": {
      "text/plain": [
       "3.0"
      ]
     },
     "execution_count": 100,
     "metadata": {},
     "output_type": "execute_result"
    }
   ],
   "source": [
    "# Compute median values\n",
    "df_user['total_clics_by_user'].median()\n",
    "df_user['largest_session_by_user'].median()"
   ]
  },
  {
   "cell_type": "code",
   "execution_count": 101,
   "id": "2801c1ed-a2ee-4a36-b21b-e6fd18f6b5f0",
   "metadata": {},
   "outputs": [
    {
     "data": {
      "image/png": "[encoded data removed]",
      "text/plain": [
       "<Figure size 800x600 with 1 Axes>"
      ]
     },
     "metadata": {},
     "output_type": "display_data"
    }
   ],
   "source": [
    "# Histogramme des derniers clics\n",
    "fig = plt.figure(figsize=figsize)\n",
    "plt.hist(df_user['last_clic_by_user'], bins=20, color='blue')\n",
    "plt.xlabel(\"Dernier clic\")\n",
    "plt.ylabel(\"Nombre d'utilisateurs\")\n",
    "plt.title(\"Dernière activité des utilisateurs\")\n",
    "\n",
    "# Utiliser une échelle logarithmique sur l'axe y\n",
    "plt.yscale('log')\n",
    "\n",
    "# Limites des axes\n",
    "# plt.xlim([0, 40])\n",
    "# plt.ylim([0, 1.E6])\n",
    "\n",
    "plt.show()\n",
    "fig.savefig('data/figs/df_user_history.png', dpi=300, bbox_inches='tight')"
   ]
  },
  {
   "cell_type": "markdown",
   "id": "e842bf51-3f7f-4eee-b94e-b4a00ab3ce50",
   "metadata": {},
   "source": [
    "##### Merge par article\n",
    "\n",
    "Sur une duréee de 43 jours, chaque article lu :\n",
    "- a reçu entre 1 et 32713 clics, avec plus de 50% des articles n'ayant été consultés qu'une seule fois;\n",
    "- a été consulté dans les 15 premiers jours uniquement.\n",
    "\n",
    "Au total un peu moins de 13% des articles seulements ont été consultés."
   ]
  },
  {
   "cell_type": "code",
   "execution_count": 102,
   "id": "e71edebd-fab0-4881-9e68-aebae3daec36",
   "metadata": {},
   "outputs": [
    {
     "data": {
      "text/html": [
       "<div>\n",
       "<style scoped>\n",
       "    .dataframe tbody tr th:only-of-type {\n",
       "        vertical-align: middle;\n",
       "    }\n",
       "\n",
       "    .dataframe tbody tr th {\n",
       "        vertical-align: top;\n",
       "    }\n",
       "\n",
       "    .dataframe thead th {\n",
       "        text-align: right;\n",
       "    }\n",
       "</style>\n",
       "<table border=\"1\" class=\"dataframe\">\n",
       "  <thead>\n",
       "    <tr style=\"text-align: right;\">\n",
       "      <th></th>\n",
       "      <th>total_clics_by_article</th>\n",
       "      <th>last_click_by_article</th>\n",
       "      <th>total_readers</th>\n",
       "    </tr>\n",
       "    <tr>\n",
       "      <th>click_article_id</th>\n",
       "      <th></th>\n",
       "      <th></th>\n",
       "      <th></th>\n",
       "    </tr>\n",
       "  </thead>\n",
       "  <tbody>\n",
       "    <tr>\n",
       "      <th>3</th>\n",
       "      <td>1</td>\n",
       "      <td>2017-10-09 18:06:18.399</td>\n",
       "      <td>1</td>\n",
       "    </tr>\n",
       "    <tr>\n",
       "      <th>27</th>\n",
       "      <td>1</td>\n",
       "      <td>2017-10-04 19:21:06.293</td>\n",
       "      <td>1</td>\n",
       "    </tr>\n",
       "    <tr>\n",
       "      <th>69</th>\n",
       "      <td>1</td>\n",
       "      <td>2017-10-12 18:14:29.718</td>\n",
       "      <td>1</td>\n",
       "    </tr>\n",
       "    <tr>\n",
       "      <th>81</th>\n",
       "      <td>2</td>\n",
       "      <td>2017-10-02 19:56:55.111</td>\n",
       "      <td>2</td>\n",
       "    </tr>\n",
       "    <tr>\n",
       "      <th>84</th>\n",
       "      <td>1</td>\n",
       "      <td>2017-10-09 14:48:05.152</td>\n",
       "      <td>1</td>\n",
       "    </tr>\n",
       "  </tbody>\n",
       "</table>\n",
       "</div>"
      ],
      "text/plain": [
       "                  total_clics_by_article   last_click_by_article  \\\n",
       "click_article_id                                                   \n",
       "3                                      1 2017-10-09 18:06:18.399   \n",
       "27                                     1 2017-10-04 19:21:06.293   \n",
       "69                                     1 2017-10-12 18:14:29.718   \n",
       "81                                     2 2017-10-02 19:56:55.111   \n",
       "84                                     1 2017-10-09 14:48:05.152   \n",
       "\n",
       "                  total_readers  \n",
       "click_article_id                 \n",
       "3                             1  \n",
       "27                            1  \n",
       "69                            1  \n",
       "81                            2  \n",
       "84                            1  "
      ]
     },
     "execution_count": 102,
     "metadata": {},
     "output_type": "execute_result"
    }
   ],
   "source": [
    "var = 'click_article_id'\n",
    "# Group data\n",
    "df_article = clicks.groupby(var).agg({\n",
    "    'user_id':'count',\n",
    "    'click_time':'last'})\n",
    "\n",
    "# Rename \n",
    "df_article = df_article.rename(columns={'click_time':'last_click_by_article',\n",
    "                                        'user_id':'total_clics_by_article',\n",
    "                                           })\n",
    "df_article['total_readers'] = clicks.groupby(var).agg({'user_id':'unique'})['user_id']\n",
    "df_article['total_readers'] = df_article['total_readers'].apply(lambda x: len(x))\n",
    "#df_user['total_articles_by_user'] = clicks.groupby(var)['click_article_id'].nunique()\n",
    "\n",
    "df_article.head(5)"
   ]
  },
  {
   "cell_type": "code",
   "execution_count": 103,
   "id": "cd655186-3331-413b-a53a-1dda1788b864",
   "metadata": {},
   "outputs": [
    {
     "data": {
      "text/html": [
       "<div>\n",
       "<style scoped>\n",
       "    .dataframe tbody tr th:only-of-type {\n",
       "        vertical-align: middle;\n",
       "    }\n",
       "\n",
       "    .dataframe tbody tr th {\n",
       "        vertical-align: top;\n",
       "    }\n",
       "\n",
       "    .dataframe thead th {\n",
       "        text-align: right;\n",
       "    }\n",
       "</style>\n",
       "<table border=\"1\" class=\"dataframe\">\n",
       "  <thead>\n",
       "    <tr style=\"text-align: right;\">\n",
       "      <th></th>\n",
       "      <th>total_clics_by_article</th>\n",
       "      <th>total_readers</th>\n",
       "    </tr>\n",
       "  </thead>\n",
       "  <tbody>\n",
       "    <tr>\n",
       "      <th>count</th>\n",
       "      <td>46033.000000</td>\n",
       "      <td>46033.000000</td>\n",
       "    </tr>\n",
       "    <tr>\n",
       "      <th>mean</th>\n",
       "      <td>64.913888</td>\n",
       "      <td>64.099885</td>\n",
       "    </tr>\n",
       "    <tr>\n",
       "      <th>std</th>\n",
       "      <td>629.322888</td>\n",
       "      <td>617.366810</td>\n",
       "    </tr>\n",
       "    <tr>\n",
       "      <th>min</th>\n",
       "      <td>1.000000</td>\n",
       "      <td>1.000000</td>\n",
       "    </tr>\n",
       "    <tr>\n",
       "      <th>25%</th>\n",
       "      <td>1.000000</td>\n",
       "      <td>1.000000</td>\n",
       "    </tr>\n",
       "    <tr>\n",
       "      <th>50%</th>\n",
       "      <td>1.000000</td>\n",
       "      <td>1.000000</td>\n",
       "    </tr>\n",
       "    <tr>\n",
       "      <th>75%</th>\n",
       "      <td>6.000000</td>\n",
       "      <td>6.000000</td>\n",
       "    </tr>\n",
       "    <tr>\n",
       "      <th>max</th>\n",
       "      <td>37213.000000</td>\n",
       "      <td>34145.000000</td>\n",
       "    </tr>\n",
       "  </tbody>\n",
       "</table>\n",
       "</div>"
      ],
      "text/plain": [
       "       total_clics_by_article  total_readers\n",
       "count            46033.000000   46033.000000\n",
       "mean                64.913888      64.099885\n",
       "std                629.322888     617.366810\n",
       "min                  1.000000       1.000000\n",
       "25%                  1.000000       1.000000\n",
       "50%                  1.000000       1.000000\n",
       "75%                  6.000000       6.000000\n",
       "max              37213.000000   34145.000000"
      ]
     },
     "execution_count": 103,
     "metadata": {},
     "output_type": "execute_result"
    }
   ],
   "source": [
    "df_article.describe()"
   ]
  },
  {
   "cell_type": "code",
   "execution_count": 104,
   "id": "4eefc5ae-35e5-4c5d-be79-0bda012f2da1",
   "metadata": {},
   "outputs": [
    {
     "data": {
      "text/plain": [
       "13.0"
      ]
     },
     "execution_count": 104,
     "metadata": {},
     "output_type": "execute_result"
    }
   ],
   "source": [
    "# Percentage of articles read \n",
    "np.round(100*df_article.shape[0]/articles_metadata.shape[0])"
   ]
  },
  {
   "cell_type": "code",
   "execution_count": 105,
   "id": "08a3d88f-61ad-4340-9aac-0a6ed2946ea2",
   "metadata": {},
   "outputs": [
    {
     "data": {
      "text/plain": [
       "1.0"
      ]
     },
     "execution_count": 105,
     "metadata": {},
     "output_type": "execute_result"
    }
   ],
   "source": [
    "# Median values\n",
    "df_article['total_readers'].median()\n",
    "df_article['total_clics_by_article'].median()"
   ]
  },
  {
   "cell_type": "code",
   "execution_count": 106,
   "id": "e53e54d3-a24e-4568-b9ab-9b0e3374a304",
   "metadata": {},
   "outputs": [
    {
     "data": {
      "image/png": "[encoded data removed]",
      "text/plain": [
       "<Figure size 800x600 with 1 Axes>"
      ]
     },
     "metadata": {},
     "output_type": "display_data"
    }
   ],
   "source": [
    "# Histogramme des derniers clics\n",
    "fig = plt.figure(figsize=figsize)\n",
    "plt.hist(df_article['last_click_by_article'], bins=20, color='blue')\n",
    "plt.xlabel(\"Dernière consultation\")\n",
    "plt.ylabel(\"Nombre d'articles\")\n",
    "plt.title(\"Dernière consultation \")\n",
    "\n",
    "# Utiliser une échelle logarithmique sur l'axe y\n",
    "plt.yscale('log')\n",
    "\n",
    "# Limites des axes\n",
    "# plt.xlim([0, 40])\n",
    "# plt.ylim([0, 1.E6])\n",
    "\n",
    "plt.show()\n",
    "fig.savefig('data/figs/df_article_history.png', dpi=300, bbox_inches='tight')"
   ]
  },
  {
   "cell_type": "code",
   "execution_count": 107,
   "id": "edb361e1-1adb-496c-a49d-559f8459fd64",
   "metadata": {},
   "outputs": [
    {
     "data": {
      "image/png": "[encoded data removed]",
      "text/plain": [
       "<Figure size 800x600 with 1 Axes>"
      ]
     },
     "metadata": {},
     "output_type": "display_data"
    }
   ],
   "source": [
    "# Calcul des quartiles Q1, Q2 (médiane), Q3\n",
    "q1, q2, q3 = df_article[\"total_readers\"].quantile([0.25, 0.5, 0.75])\n",
    "\n",
    "# Calcul des limites des whiskers\n",
    "iqr = q3 - q1  # plage interquartile\n",
    "whisker_min = q1 - 1.5 * iqr\n",
    "whisker_max = q3 + 1.5 * iqr\n",
    "\n",
    "# Création du boxplot avec les limites de whisker et les quartiles\n",
    "fig = plt.figure(figsize=figsize)\n",
    "bp = plt.boxplot(df_article[\"total_readers\"], vert=False, widths=0.5, positions=[0], whis=[1,99])\n",
    "plt.setp(bp['whiskers'], linestyle='--', color='gray', lw=2, dashes=(5, 5))\n",
    "plt.setp(bp['fliers'], marker='.', markerfacecolor='red', markersize=8, alpha=0.5)\n",
    "plt.hlines(y=1, xmin=whisker_min, xmax=q1, colors='b', lw=2)\n",
    "plt.hlines(y=1, xmin=q3, xmax=whisker_max, colors='b', lw=2)\n",
    "plt.hlines(y=1, xmin=q1, xmax=q3, colors='r', lw=2)\n",
    "plt.title(\"Distribution du nombre de lecteurs(non uniques) par article\")\n",
    "plt.xlabel(\"Nombre de lecteurs\")\n",
    "plt.yticks([1], [\"Valeurs typiques\"])\n",
    "plt.grid(axis='x', linestyle='--', alpha=0.7)\n",
    "plt.xscale('log')\n",
    "\n",
    "plt.show()\n",
    "fig.savefig('data/figs/readers_by_article.png', dpi=300, bbox_inches='tight')"
   ]
  },
  {
   "cell_type": "code",
   "execution_count": 108,
   "id": "aefeb211-e3f1-44e1-819c-cdf7ee30b35d",
   "metadata": {},
   "outputs": [
    {
     "data": {
      "image/png": "[encoded data removed]",
      "text/plain": [
       "<Figure size 800x600 with 1 Axes>"
      ]
     },
     "metadata": {},
     "output_type": "display_data"
    }
   ],
   "source": [
    "# Calcul des quartiles Q1, Q2 (médiane), Q3\n",
    "q1, q2, q3 = df_article[\"total_clics_by_article\"].quantile([0.25, 0.5, 0.75])\n",
    "\n",
    "# Calcul des limites des whiskers\n",
    "iqr = q3 - q1  # plage interquartile\n",
    "whisker_min = q1 - 1.5 * iqr\n",
    "whisker_max = q3 + 1.5 * iqr\n",
    "\n",
    "# Création du boxplot avec les limites de whisker et les quartiles\n",
    "fig = plt.figure(figsize=figsize)\n",
    "bp = plt.boxplot(df_article['total_clics_by_article'], vert=False, widths=0.5, positions=[0], whis=[1,99])\n",
    "plt.setp(bp['whiskers'], linestyle='--', color='gray', lw=2, dashes=(5, 5))\n",
    "plt.setp(bp['fliers'], marker='.', markerfacecolor='red', markersize=8, alpha=0.5)\n",
    "plt.hlines(y=1, xmin=whisker_min, xmax=q1, colors='b', lw=2)\n",
    "plt.hlines(y=1, xmin=q3, xmax=whisker_max, colors='b', lw=2)\n",
    "plt.hlines(y=1, xmin=q1, xmax=q3, colors='r', lw=2)\n",
    "plt.title(\"Distribution du nombre de clics (non uniques) par article\")\n",
    "plt.xlabel(\"Nombre de clics\")\n",
    "plt.yticks([1], [\"Valeurs typiques\"])\n",
    "plt.grid(axis='x', linestyle='--', alpha=0.7)\n",
    "plt.xscale('log')\n",
    "\n",
    "plt.show()\n",
    "fig.savefig('data/figs/clics_by_article.png', dpi=300, bbox_inches='tight')"
   ]
  },
  {
   "cell_type": "markdown",
   "id": "c179ddc0-bd75-49b8-9443-b7e2989f10af",
   "metadata": {},
   "source": [
    "##### Merge par couple (user-article)\n",
    "\n",
    "Pour plus de 75% des articles lus l'utilisateur ne clique qu'une fois. Il clique au maximum 33 fois."
   ]
  },
  {
   "cell_type": "code",
   "execution_count": 109,
   "id": "0e2e0aba-acf4-40b6-90c8-dff3685be655",
   "metadata": {},
   "outputs": [
    {
     "data": {
      "text/html": [
       "<div>\n",
       "<style scoped>\n",
       "    .dataframe tbody tr th:only-of-type {\n",
       "        vertical-align: middle;\n",
       "    }\n",
       "\n",
       "    .dataframe tbody tr th {\n",
       "        vertical-align: top;\n",
       "    }\n",
       "\n",
       "    .dataframe thead th {\n",
       "        text-align: right;\n",
       "    }\n",
       "</style>\n",
       "<table border=\"1\" class=\"dataframe\">\n",
       "  <thead>\n",
       "    <tr style=\"text-align: right;\">\n",
       "      <th></th>\n",
       "      <th>user_id</th>\n",
       "      <th>click_article_id</th>\n",
       "      <th>clics_by_ua</th>\n",
       "      <th>largest_session_by_ua</th>\n",
       "      <th>last_clic_by_ua</th>\n",
       "    </tr>\n",
       "  </thead>\n",
       "  <tbody>\n",
       "    <tr>\n",
       "      <th>0</th>\n",
       "      <td>0</td>\n",
       "      <td>68866</td>\n",
       "      <td>1</td>\n",
       "      <td>2</td>\n",
       "      <td>2017-10-01 03:00:58.020</td>\n",
       "    </tr>\n",
       "    <tr>\n",
       "      <th>1</th>\n",
       "      <td>0</td>\n",
       "      <td>87205</td>\n",
       "      <td>1</td>\n",
       "      <td>2</td>\n",
       "      <td>2017-10-09 01:54:46.617</td>\n",
       "    </tr>\n",
       "    <tr>\n",
       "      <th>2</th>\n",
       "      <td>0</td>\n",
       "      <td>87224</td>\n",
       "      <td>1</td>\n",
       "      <td>2</td>\n",
       "      <td>2017-10-09 01:54:16.617</td>\n",
       "    </tr>\n",
       "    <tr>\n",
       "      <th>3</th>\n",
       "      <td>0</td>\n",
       "      <td>96755</td>\n",
       "      <td>1</td>\n",
       "      <td>2</td>\n",
       "      <td>2017-10-07 01:33:53.155</td>\n",
       "    </tr>\n",
       "    <tr>\n",
       "      <th>4</th>\n",
       "      <td>0</td>\n",
       "      <td>157541</td>\n",
       "      <td>1</td>\n",
       "      <td>2</td>\n",
       "      <td>2017-10-01 03:00:28.020</td>\n",
       "    </tr>\n",
       "    <tr>\n",
       "      <th>5</th>\n",
       "      <td>0</td>\n",
       "      <td>160158</td>\n",
       "      <td>1</td>\n",
       "      <td>2</td>\n",
       "      <td>2017-10-07 14:54:50.915</td>\n",
       "    </tr>\n",
       "    <tr>\n",
       "      <th>6</th>\n",
       "      <td>0</td>\n",
       "      <td>233470</td>\n",
       "      <td>1</td>\n",
       "      <td>2</td>\n",
       "      <td>2017-10-07 14:55:20.915</td>\n",
       "    </tr>\n",
       "    <tr>\n",
       "      <th>7</th>\n",
       "      <td>0</td>\n",
       "      <td>313996</td>\n",
       "      <td>1</td>\n",
       "      <td>2</td>\n",
       "      <td>2017-10-07 01:34:23.155</td>\n",
       "    </tr>\n",
       "    <tr>\n",
       "      <th>8</th>\n",
       "      <td>1</td>\n",
       "      <td>36162</td>\n",
       "      <td>1</td>\n",
       "      <td>2</td>\n",
       "      <td>2017-10-17 01:00:39.398</td>\n",
       "    </tr>\n",
       "    <tr>\n",
       "      <th>9</th>\n",
       "      <td>1</td>\n",
       "      <td>59758</td>\n",
       "      <td>1</td>\n",
       "      <td>2</td>\n",
       "      <td>2017-10-01 17:36:36.845</td>\n",
       "    </tr>\n",
       "    <tr>\n",
       "      <th>10</th>\n",
       "      <td>1</td>\n",
       "      <td>96663</td>\n",
       "      <td>1</td>\n",
       "      <td>2</td>\n",
       "      <td>2017-10-01 03:04:07.951</td>\n",
       "    </tr>\n",
       "    <tr>\n",
       "      <th>11</th>\n",
       "      <td>1</td>\n",
       "      <td>156723</td>\n",
       "      <td>1</td>\n",
       "      <td>2</td>\n",
       "      <td>2017-10-05 02:20:14.373</td>\n",
       "    </tr>\n",
       "    <tr>\n",
       "      <th>12</th>\n",
       "      <td>1</td>\n",
       "      <td>160474</td>\n",
       "      <td>1</td>\n",
       "      <td>2</td>\n",
       "      <td>2017-10-01 17:37:06.845</td>\n",
       "    </tr>\n",
       "    <tr>\n",
       "      <th>13</th>\n",
       "      <td>1</td>\n",
       "      <td>183176</td>\n",
       "      <td>1</td>\n",
       "      <td>2</td>\n",
       "      <td>2017-10-12 16:33:31.163</td>\n",
       "    </tr>\n",
       "    <tr>\n",
       "      <th>14</th>\n",
       "      <td>1</td>\n",
       "      <td>205973</td>\n",
       "      <td>1</td>\n",
       "      <td>2</td>\n",
       "      <td>2017-10-06 15:09:50.584</td>\n",
       "    </tr>\n",
       "  </tbody>\n",
       "</table>\n",
       "</div>"
      ],
      "text/plain": [
       "    user_id  click_article_id  clics_by_ua  largest_session_by_ua  \\\n",
       "0         0             68866            1                      2   \n",
       "1         0             87205            1                      2   \n",
       "2         0             87224            1                      2   \n",
       "3         0             96755            1                      2   \n",
       "4         0            157541            1                      2   \n",
       "5         0            160158            1                      2   \n",
       "6         0            233470            1                      2   \n",
       "7         0            313996            1                      2   \n",
       "8         1             36162            1                      2   \n",
       "9         1             59758            1                      2   \n",
       "10        1             96663            1                      2   \n",
       "11        1            156723            1                      2   \n",
       "12        1            160474            1                      2   \n",
       "13        1            183176            1                      2   \n",
       "14        1            205973            1                      2   \n",
       "\n",
       "           last_clic_by_ua  \n",
       "0  2017-10-01 03:00:58.020  \n",
       "1  2017-10-09 01:54:46.617  \n",
       "2  2017-10-09 01:54:16.617  \n",
       "3  2017-10-07 01:33:53.155  \n",
       "4  2017-10-01 03:00:28.020  \n",
       "5  2017-10-07 14:54:50.915  \n",
       "6  2017-10-07 14:55:20.915  \n",
       "7  2017-10-07 01:34:23.155  \n",
       "8  2017-10-17 01:00:39.398  \n",
       "9  2017-10-01 17:36:36.845  \n",
       "10 2017-10-01 03:04:07.951  \n",
       "11 2017-10-05 02:20:14.373  \n",
       "12 2017-10-01 17:37:06.845  \n",
       "13 2017-10-12 16:33:31.163  \n",
       "14 2017-10-06 15:09:50.584  "
      ]
     },
     "execution_count": 109,
     "metadata": {},
     "output_type": "execute_result"
    }
   ],
   "source": [
    "var = ['user_id','click_article_id']\n",
    "# Group data\n",
    "user_article = clicks.groupby(var,as_index=False).agg(\n",
    "    user_id=('user_id','first'),\n",
    "    click_article_id=('click_article_id','first'),\n",
    "    clics_by_ua=('click_article_id','count'), # Nombre de clics par article (toutes sessions confondues)\n",
    "    largest_session_by_ua=('session_size','max'),# plus large taille de session lorsque l'article est consulté\n",
    "    last_clic_by_ua=('click_time','last')) # Dernier clic sur l'article\n",
    "\n",
    "# user_article['']\n",
    "# Note pour l'amélioration : il serait possible de rajouter plusieurs variables pour noter l'article par utilisateur\n",
    "# - Récence de dernière lecture de l'article : à partir de la dernière date de clic enregistrée pour l'article\n",
    "# - Nombre de sessions ouvertes avec l'article : il faudrait récupérer l'id de session (différent du user_id)\n",
    "# - Durée moyenne de session avec l'article\n",
    "\n",
    "# Preview dataframe\n",
    "user_article.head(15)"
   ]
  },
  {
   "cell_type": "code",
   "execution_count": 110,
   "id": "8297ed9c",
   "metadata": {},
   "outputs": [
    {
     "data": {
      "text/html": [
       "<div>\n",
       "<style scoped>\n",
       "    .dataframe tbody tr th:only-of-type {\n",
       "        vertical-align: middle;\n",
       "    }\n",
       "\n",
       "    .dataframe tbody tr th {\n",
       "        vertical-align: top;\n",
       "    }\n",
       "\n",
       "    .dataframe thead th {\n",
       "        text-align: right;\n",
       "    }\n",
       "</style>\n",
       "<table border=\"1\" class=\"dataframe\">\n",
       "  <thead>\n",
       "    <tr style=\"text-align: right;\">\n",
       "      <th></th>\n",
       "      <th>total_clics_by_user</th>\n",
       "      <th>largest_session_by_user</th>\n",
       "      <th>total_articles_by_user</th>\n",
       "    </tr>\n",
       "  </thead>\n",
       "  <tbody>\n",
       "    <tr>\n",
       "      <th>count</th>\n",
       "      <td>322897.000000</td>\n",
       "      <td>322897.000000</td>\n",
       "      <td>322897.000000</td>\n",
       "    </tr>\n",
       "    <tr>\n",
       "      <th>mean</th>\n",
       "      <td>9.254285</td>\n",
       "      <td>3.266156</td>\n",
       "      <td>9.138239</td>\n",
       "    </tr>\n",
       "    <tr>\n",
       "      <th>std</th>\n",
       "      <td>14.946358</td>\n",
       "      <td>2.147438</td>\n",
       "      <td>14.344677</td>\n",
       "    </tr>\n",
       "    <tr>\n",
       "      <th>min</th>\n",
       "      <td>2.000000</td>\n",
       "      <td>2.000000</td>\n",
       "      <td>2.000000</td>\n",
       "    </tr>\n",
       "    <tr>\n",
       "      <th>25%</th>\n",
       "      <td>2.000000</td>\n",
       "      <td>2.000000</td>\n",
       "      <td>2.000000</td>\n",
       "    </tr>\n",
       "    <tr>\n",
       "      <th>50%</th>\n",
       "      <td>4.000000</td>\n",
       "      <td>3.000000</td>\n",
       "      <td>4.000000</td>\n",
       "    </tr>\n",
       "    <tr>\n",
       "      <th>75%</th>\n",
       "      <td>10.000000</td>\n",
       "      <td>4.000000</td>\n",
       "      <td>10.000000</td>\n",
       "    </tr>\n",
       "    <tr>\n",
       "      <th>max</th>\n",
       "      <td>1232.000000</td>\n",
       "      <td>124.000000</td>\n",
       "      <td>1048.000000</td>\n",
       "    </tr>\n",
       "  </tbody>\n",
       "</table>\n",
       "</div>"
      ],
      "text/plain": [
       "       total_clics_by_user  largest_session_by_user  total_articles_by_user\n",
       "count        322897.000000            322897.000000           322897.000000\n",
       "mean              9.254285                 3.266156                9.138239\n",
       "std              14.946358                 2.147438               14.344677\n",
       "min               2.000000                 2.000000                2.000000\n",
       "25%               2.000000                 2.000000                2.000000\n",
       "50%               4.000000                 3.000000                4.000000\n",
       "75%              10.000000                 4.000000               10.000000\n",
       "max            1232.000000               124.000000             1048.000000"
      ]
     },
     "execution_count": 110,
     "metadata": {},
     "output_type": "execute_result"
    }
   ],
   "source": [
    "df_user.describe()"
   ]
  },
  {
   "cell_type": "code",
   "execution_count": 111,
   "id": "8c4493c9",
   "metadata": {},
   "outputs": [
    {
     "data": {
      "text/html": [
       "<div>\n",
       "<style scoped>\n",
       "    .dataframe tbody tr th:only-of-type {\n",
       "        vertical-align: middle;\n",
       "    }\n",
       "\n",
       "    .dataframe tbody tr th {\n",
       "        vertical-align: top;\n",
       "    }\n",
       "\n",
       "    .dataframe thead th {\n",
       "        text-align: right;\n",
       "    }\n",
       "</style>\n",
       "<table border=\"1\" class=\"dataframe\">\n",
       "  <thead>\n",
       "    <tr style=\"text-align: right;\">\n",
       "      <th></th>\n",
       "      <th>total_clics_by_article</th>\n",
       "      <th>total_readers</th>\n",
       "    </tr>\n",
       "  </thead>\n",
       "  <tbody>\n",
       "    <tr>\n",
       "      <th>count</th>\n",
       "      <td>46033.000000</td>\n",
       "      <td>46033.000000</td>\n",
       "    </tr>\n",
       "    <tr>\n",
       "      <th>mean</th>\n",
       "      <td>64.913888</td>\n",
       "      <td>64.099885</td>\n",
       "    </tr>\n",
       "    <tr>\n",
       "      <th>std</th>\n",
       "      <td>629.322888</td>\n",
       "      <td>617.366810</td>\n",
       "    </tr>\n",
       "    <tr>\n",
       "      <th>min</th>\n",
       "      <td>1.000000</td>\n",
       "      <td>1.000000</td>\n",
       "    </tr>\n",
       "    <tr>\n",
       "      <th>25%</th>\n",
       "      <td>1.000000</td>\n",
       "      <td>1.000000</td>\n",
       "    </tr>\n",
       "    <tr>\n",
       "      <th>50%</th>\n",
       "      <td>1.000000</td>\n",
       "      <td>1.000000</td>\n",
       "    </tr>\n",
       "    <tr>\n",
       "      <th>75%</th>\n",
       "      <td>6.000000</td>\n",
       "      <td>6.000000</td>\n",
       "    </tr>\n",
       "    <tr>\n",
       "      <th>max</th>\n",
       "      <td>37213.000000</td>\n",
       "      <td>34145.000000</td>\n",
       "    </tr>\n",
       "  </tbody>\n",
       "</table>\n",
       "</div>"
      ],
      "text/plain": [
       "       total_clics_by_article  total_readers\n",
       "count            46033.000000   46033.000000\n",
       "mean                64.913888      64.099885\n",
       "std                629.322888     617.366810\n",
       "min                  1.000000       1.000000\n",
       "25%                  1.000000       1.000000\n",
       "50%                  1.000000       1.000000\n",
       "75%                  6.000000       6.000000\n",
       "max              37213.000000   34145.000000"
      ]
     },
     "execution_count": 111,
     "metadata": {},
     "output_type": "execute_result"
    }
   ],
   "source": [
    "df_article.describe()"
   ]
  },
  {
   "cell_type": "code",
   "execution_count": 112,
   "id": "dda3cb8a-59fd-461e-a8f4-41499932bc90",
   "metadata": {},
   "outputs": [],
   "source": [
    "user_article = user_article.merge(df_user, on = 'user_id', how = 'left')"
   ]
  },
  {
   "cell_type": "code",
   "execution_count": 113,
   "id": "f20babe3",
   "metadata": {},
   "outputs": [],
   "source": [
    "user_article = user_article.merge(df_article, on = 'click_article_id', how = 'left')"
   ]
  },
  {
   "cell_type": "code",
   "execution_count": 114,
   "id": "cfefec55-c14b-4812-ace4-7431e98c00c0",
   "metadata": {},
   "outputs": [
    {
     "data": {
      "text/html": [
       "<div>\n",
       "<style scoped>\n",
       "    .dataframe tbody tr th:only-of-type {\n",
       "        vertical-align: middle;\n",
       "    }\n",
       "\n",
       "    .dataframe tbody tr th {\n",
       "        vertical-align: top;\n",
       "    }\n",
       "\n",
       "    .dataframe thead th {\n",
       "        text-align: right;\n",
       "    }\n",
       "</style>\n",
       "<table border=\"1\" class=\"dataframe\">\n",
       "  <thead>\n",
       "    <tr style=\"text-align: right;\">\n",
       "      <th></th>\n",
       "      <th>user_id</th>\n",
       "      <th>click_article_id</th>\n",
       "      <th>clics_by_ua</th>\n",
       "      <th>largest_session_by_ua</th>\n",
       "      <th>total_clics_by_user</th>\n",
       "      <th>largest_session_by_user</th>\n",
       "      <th>total_articles_by_user</th>\n",
       "      <th>total_clics_by_article</th>\n",
       "      <th>total_readers</th>\n",
       "    </tr>\n",
       "  </thead>\n",
       "  <tbody>\n",
       "    <tr>\n",
       "      <th>count</th>\n",
       "      <td>2.950710e+06</td>\n",
       "      <td>2.950710e+06</td>\n",
       "      <td>2.950710e+06</td>\n",
       "      <td>2.950710e+06</td>\n",
       "      <td>2.950710e+06</td>\n",
       "      <td>2.950710e+06</td>\n",
       "      <td>2.950710e+06</td>\n",
       "      <td>2.950710e+06</td>\n",
       "      <td>2.950710e+06</td>\n",
       "    </tr>\n",
       "    <tr>\n",
       "      <th>mean</th>\n",
       "      <td>1.083921e+05</td>\n",
       "      <td>1.950297e+05</td>\n",
       "      <td>1.012699e+00</td>\n",
       "      <td>3.907438e+00</td>\n",
       "      <td>3.264312e+01</td>\n",
       "      <td>5.812462e+00</td>\n",
       "      <td>3.165561e+01</td>\n",
       "      <td>6.124626e+03</td>\n",
       "      <td>6.010031e+03</td>\n",
       "    </tr>\n",
       "    <tr>\n",
       "      <th>std</th>\n",
       "      <td>8.372895e+04</td>\n",
       "      <td>9.083343e+04</td>\n",
       "      <td>1.344699e-01</td>\n",
       "      <td>3.934087e+00</td>\n",
       "      <td>5.677744e+01</td>\n",
       "      <td>5.800024e+00</td>\n",
       "      <td>5.203223e+01</td>\n",
       "      <td>7.382307e+03</td>\n",
       "      <td>7.134619e+03</td>\n",
       "    </tr>\n",
       "    <tr>\n",
       "      <th>min</th>\n",
       "      <td>0.000000e+00</td>\n",
       "      <td>3.000000e+00</td>\n",
       "      <td>1.000000e+00</td>\n",
       "      <td>2.000000e+00</td>\n",
       "      <td>2.000000e+00</td>\n",
       "      <td>2.000000e+00</td>\n",
       "      <td>2.000000e+00</td>\n",
       "      <td>1.000000e+00</td>\n",
       "      <td>1.000000e+00</td>\n",
       "    </tr>\n",
       "    <tr>\n",
       "      <th>25%</th>\n",
       "      <td>4.072000e+04</td>\n",
       "      <td>1.242280e+05</td>\n",
       "      <td>1.000000e+00</td>\n",
       "      <td>2.000000e+00</td>\n",
       "      <td>8.000000e+00</td>\n",
       "      <td>3.000000e+00</td>\n",
       "      <td>8.000000e+00</td>\n",
       "      <td>6.620000e+02</td>\n",
       "      <td>6.540000e+02</td>\n",
       "    </tr>\n",
       "    <tr>\n",
       "      <th>50%</th>\n",
       "      <td>8.683000e+04</td>\n",
       "      <td>2.023880e+05</td>\n",
       "      <td>1.000000e+00</td>\n",
       "      <td>3.000000e+00</td>\n",
       "      <td>1.700000e+01</td>\n",
       "      <td>4.000000e+00</td>\n",
       "      <td>1.700000e+01</td>\n",
       "      <td>3.097000e+03</td>\n",
       "      <td>3.072000e+03</td>\n",
       "    </tr>\n",
       "    <tr>\n",
       "      <th>75%</th>\n",
       "      <td>1.639750e+05</td>\n",
       "      <td>2.770680e+05</td>\n",
       "      <td>1.000000e+00</td>\n",
       "      <td>4.000000e+00</td>\n",
       "      <td>3.800000e+01</td>\n",
       "      <td>7.000000e+00</td>\n",
       "      <td>3.700000e+01</td>\n",
       "      <td>9.203000e+03</td>\n",
       "      <td>9.083000e+03</td>\n",
       "    </tr>\n",
       "    <tr>\n",
       "      <th>max</th>\n",
       "      <td>3.228960e+05</td>\n",
       "      <td>3.640460e+05</td>\n",
       "      <td>3.300000e+01</td>\n",
       "      <td>1.240000e+02</td>\n",
       "      <td>1.232000e+03</td>\n",
       "      <td>1.240000e+02</td>\n",
       "      <td>1.048000e+03</td>\n",
       "      <td>3.721300e+04</td>\n",
       "      <td>3.414500e+04</td>\n",
       "    </tr>\n",
       "  </tbody>\n",
       "</table>\n",
       "</div>"
      ],
      "text/plain": [
       "            user_id  click_article_id   clics_by_ua  largest_session_by_ua  \\\n",
       "count  2.950710e+06      2.950710e+06  2.950710e+06           2.950710e+06   \n",
       "mean   1.083921e+05      1.950297e+05  1.012699e+00           3.907438e+00   \n",
       "std    8.372895e+04      9.083343e+04  1.344699e-01           3.934087e+00   \n",
       "min    0.000000e+00      3.000000e+00  1.000000e+00           2.000000e+00   \n",
       "25%    4.072000e+04      1.242280e+05  1.000000e+00           2.000000e+00   \n",
       "50%    8.683000e+04      2.023880e+05  1.000000e+00           3.000000e+00   \n",
       "75%    1.639750e+05      2.770680e+05  1.000000e+00           4.000000e+00   \n",
       "max    3.228960e+05      3.640460e+05  3.300000e+01           1.240000e+02   \n",
       "\n",
       "       total_clics_by_user  largest_session_by_user  total_articles_by_user  \\\n",
       "count         2.950710e+06             2.950710e+06            2.950710e+06   \n",
       "mean          3.264312e+01             5.812462e+00            3.165561e+01   \n",
       "std           5.677744e+01             5.800024e+00            5.203223e+01   \n",
       "min           2.000000e+00             2.000000e+00            2.000000e+00   \n",
       "25%           8.000000e+00             3.000000e+00            8.000000e+00   \n",
       "50%           1.700000e+01             4.000000e+00            1.700000e+01   \n",
       "75%           3.800000e+01             7.000000e+00            3.700000e+01   \n",
       "max           1.232000e+03             1.240000e+02            1.048000e+03   \n",
       "\n",
       "       total_clics_by_article  total_readers  \n",
       "count            2.950710e+06   2.950710e+06  \n",
       "mean             6.124626e+03   6.010031e+03  \n",
       "std              7.382307e+03   7.134619e+03  \n",
       "min              1.000000e+00   1.000000e+00  \n",
       "25%              6.620000e+02   6.540000e+02  \n",
       "50%              3.097000e+03   3.072000e+03  \n",
       "75%              9.203000e+03   9.083000e+03  \n",
       "max              3.721300e+04   3.414500e+04  "
      ]
     },
     "execution_count": 114,
     "metadata": {},
     "output_type": "execute_result"
    }
   ],
   "source": [
    "user_article.describe()"
   ]
  },
  {
   "cell_type": "code",
   "execution_count": 115,
   "id": "9d5d8233-3230-4af2-a865-ee518d108a4a",
   "metadata": {},
   "outputs": [
    {
     "data": {
      "text/plain": [
       "1.0"
      ]
     },
     "execution_count": 115,
     "metadata": {},
     "output_type": "execute_result"
    }
   ],
   "source": [
    "# Compute median\n",
    "user_article['clics_by_ua'].median()"
   ]
  },
  {
   "cell_type": "code",
   "execution_count": 116,
   "id": "e1f29924-3988-4b0f-afca-50a4b2598fa3",
   "metadata": {},
   "outputs": [
    {
     "data": {
      "image/png": "[encoded data removed]",
      "text/plain": [
       "<Figure size 800x600 with 1 Axes>"
      ]
     },
     "metadata": {},
     "output_type": "display_data"
    }
   ],
   "source": [
    "# Calcul des quartiles Q1, Q2 (médiane), Q3\n",
    "q1, q2, q3 = user_article['clics_by_ua'].quantile([0.25, 0.5, 0.75])\n",
    "\n",
    "# Calcul des limites des whiskers\n",
    "iqr = q3 - q1  # plage interquartile\n",
    "whisker_min = q1 - 1.5 * iqr\n",
    "whisker_max = q3 + 1.5 * iqr\n",
    "\n",
    "# Création du boxplot avec les limites de whisker et les quartiles\n",
    "fig = plt.figure(figsize=figsize)\n",
    "bp = plt.boxplot(user_article['clics_by_ua'], vert=False, widths=0.5, positions=[0], whis=[1,99])\n",
    "plt.setp(bp['whiskers'], linestyle='--', color='gray', lw=2, dashes=(5, 5))\n",
    "plt.setp(bp['fliers'], marker='.', markerfacecolor='red', markersize=8, alpha=0.5)\n",
    "plt.hlines(y=1, xmin=whisker_min, xmax=q1, colors='b', lw=2)\n",
    "plt.hlines(y=1, xmin=q3, xmax=whisker_max, colors='b', lw=2)\n",
    "plt.hlines(y=1, xmin=q1, xmax=q3, colors='r', lw=2)\n",
    "plt.title(\"Distribution du nombre de clics par article\")\n",
    "plt.xlabel(\"Nombre de clics\")\n",
    "plt.yticks([1], [\"Valeurs typiques\"])\n",
    "plt.grid(axis='x', linestyle='--', alpha=0.7)\n",
    "plt.xscale('log')\n",
    "\n",
    "plt.show()\n",
    "fig.savefig('data/figs/unique_clicks_by_article.png', dpi=300, bbox_inches='tight')"
   ]
  },
  {
   "attachments": {},
   "cell_type": "markdown",
   "id": "fa051732-46ec-4498-8e23-71994a759f37",
   "metadata": {
    "tags": [],
    "toc-hr-collapsed": true
   },
   "source": [
    "## 3. Modélisation du système de recommandation\n",
    "\n",
    "Deux approches sont considérées :\n",
    "- **content-based** : Cette méthode utilise seulement les informations sur les articles que les utilisateurs ont consommés pour recommander des articles similaires. Les algorithmes cherchent à recommander des articles qui correspondent aux préférences de l'utilisateur en se basant sur ses évaluations précédentes.\n",
    "\n",
    "- **collaboratif-filtering**: Cette méthode utilise la collaboration de nombreuses préférences d'utilisateurs pour faire des prédictions automatiques sur les intérêts d'un utilisateur. Elle est basée sur l'hypothèse que si deux personnes ont des opinions similaires sur plusieurs éléments, elles auront probablement des opinions similaires sur d'autres éléments.\n",
    "\n",
    "### 3.1 Approche content-based\n",
    "\n",
    "#### Démarche générale\n",
    "\n",
    "La démarche générale de recommandation d'articles via l'approche content-based comporte plusieurs étapes :\n",
    "- Choix de l'utilisateur : sélectionné au hasard ou par user_id;\n",
    "- Choix de l'article de référence pour la recommandation : \n",
    "    - Dernier article consulté (ancienneté);\n",
    "    - Article le plus consulté (nombre de clics); si plusieurs, le plus récent; \n",
    "- Recommandations avec l'approche content-based, basées sur le calcul du coefficient de cosin similarité avec l'article de référence : les articles les plus proches de ce dernier sont ceux dont le coefficient est le plus proche de 1. Les 5 premiers articles sont ainsi séléctionnés en recommandation."
   ]
  },
  {
   "attachments": {},
   "cell_type": "markdown",
   "id": "ff7d9a80",
   "metadata": {},
   "source": [
    "#### Recommandations"
   ]
  },
  {
   "cell_type": "code",
   "execution_count": 117,
   "id": "ab306577-f2ea-4b24-84ed-e8779f40c087",
   "metadata": {},
   "outputs": [
    {
     "data": {
      "application/vnd.jupyter.widget-view+json": {
       "model_id": "95bda770b81b421c9d0b75fb9c589f95",
       "version_major": 2,
       "version_minor": 0
      },
      "text/plain": [
       "interactive(children=(IntSlider(value=57288, description='User Id :', max=322897), Output()), _dom_classes=('w…"
      ]
     },
     "metadata": {},
     "output_type": "display_data"
    }
   ],
   "source": [
    "# Content-based recommendation for a chosen user\n",
    "@interact(\n",
    "    idx=widgets.IntSlider(min=0, max=len(clicks['user_id'].unique()),\n",
    "                          step=1, value=57288,\n",
    "                          description=\"User Id :\"))\n",
    "def show_data(idx):\n",
    "\n",
    "    # 0. Get random user_id\n",
    "\n",
    "    # rng = np.random.RandomState(18)\n",
    "    # user_id = rng.choice(clicks['user_id'].unique())\n",
    "    # user_id = 5880#\n",
    "    #user_id = random.choice(clicks['user_id'].unique())\n",
    "    user_id = idx\n",
    "    print('SELECTED USER')\n",
    "    print(f\"User id : {user_id}\")\n",
    "\n",
    "    # 1. Get reference article based on metier preference\n",
    "\n",
    "    print('--')    \n",
    "    print('REFERENCE ARTICLE')\n",
    "    #article_id = select_article(last', clicks, user_id)\n",
    "    article_id = select_article('most clicked',clicks,user_id)\n",
    "    display(articles_metadata[articles_metadata['article_id']==article_id].drop(columns=['created_at_ts','publisher_id']))\n",
    "\n",
    "    ## 2. Compute cosin similarity of this article with those of the embedding matrix  & get recos\n",
    "\n",
    "    df_articles_embeddings = pd.DataFrame(articles_embeddings, columns=[\"embedding_\" + str(i) for i in range(articles_embeddings.shape[1])])\n",
    "    recos = get_cosinsimilarity(df_articles_embeddings,article_id)\n",
    "    print('--')    \n",
    "    print(f\"RECOMMENDED ARTICLES : {recos}\")\n",
    "\n",
    "    display(articles_metadata.loc[recos].drop(columns=['created_at_ts','publisher_id']))\n"
   ]
  },
  {
   "attachments": {},
   "cell_type": "markdown",
   "id": "468dd9ff-c7c9-4aea-9fb3-7c41711b567b",
   "metadata": {},
   "source": [
    "#### 3.2 Approche collaborative featuring\n",
    "\n",
    "#### Démarche générale\n",
    "\n",
    "La filtrage collaboratif est une famille d'algorithmes permettant d'identifier des utilisateurs ou des éléments similaires et de calculer une note basée sur celles des utilisateurs similaires.\n",
    "\n",
    "La première étape pour notre problème de recommandation d'articles est donc d'assigner une note, par lecteur, à chacun des articles consultés, à partir des données disponibles.\n",
    "\n",
    "Un algorithme de filtrage collaboratif sera ensuite utilisé pour assigner, pour chaque lecteur, une note à chacun des articles qu'il n'a pas consultés mais qui l'ont été par d'autres utilisateurs.\n",
    "\n",
    "L'approche par filtrage collaboratif dit user-based consiste à apprendre du comportement passé de lecteur ainsi que de celui des lecteurs identifiés comme similaires pour prédire les préférences de lecture.\n",
    "\n",
    "La recommandation d'articles en utilsant cette approche consiste en les étapes suivantes :\n",
    "- Choix du lecteur : par hasard ou séléctionné par id;\n",
    "- Identification des lecteurs aux goûts similaires par l'approche filtrage collaboratif. Un calcul de similarité est effectué entre utilisateurs, en se basant sur les articles consultés en commun. Différentes métriques peuvent être utilisées à cet effet;\n",
    "- Affectation d'une note pour les articles encore non consultés, pondérée par la similarité avec les autres utilisateurs; cette affectation est obtenue grâce à l'entraînement d'un algorithme de factorisation matricielle qui prédit des notes pour chaque couple article-lecteur;  \n",
    "- Recommandations pour le lecteur choisi des 5 articles non lus ayant obtenu les meilleures notes.\n",
    "\n",
    "La librairie Surprise est utilisée pour mettre en place et entraîner l'algorithme de filtrage collaboratif. L'algorithme utilisé est la technique de factorisation matricielle SVD. Elle permet de découvrir les caractéristiques latentes sous-jacentes aux interactions entre les utilisateurs et les éléments et minimise les risques de surapprentissage. \n",
    "\n",
    "L'évaluation du modèle est obtenue en analysant l'erreur RMSE (root mean square erreur) entre les notes réelles et celles prédites. Le modèle peut être optimisé par un choix judicieux d'hyperparamètres permettant de minimiser cette erreur.\n",
    "\n",
    "\n",
    "#### Calcul de note \n",
    "\n",
    "Considérons les notes suivantes pour le couple utilisateur-article :\n",
    "- **Nombre de clics** \n",
    "- **Nombre de clics / Nombre de clics total effectués par l'utilisateur**. Cette note permet d'estimer l'importance relative de l'article pour l'utilisateur par rapport au nombre de clics effectués sur l'ensemble des autres articles consultés.\n",
    "- **Nombre de clics / Taille de session maximale lorsque l'article est consulté**. Cette dernière note permet d'indiquer l'intérêt de l'utilisateur en fonction du nombre de clics sur l'article ainsi que relativement au temps passé dessus. Si la taille de session maximale est petite, cela signifie que l'utilisateur a probablement passé un temps plus significatif sur l'article que si la taille de session était grande et qu'il avait donc partagé son temps sur plusieurs autres articles."
   ]
  },
  {
   "cell_type": "code",
   "execution_count": 118,
   "id": "bb1d567a",
   "metadata": {},
   "outputs": [
    {
     "data": {
      "text/html": [
       "<div>\n",
       "<style scoped>\n",
       "    .dataframe tbody tr th:only-of-type {\n",
       "        vertical-align: middle;\n",
       "    }\n",
       "\n",
       "    .dataframe tbody tr th {\n",
       "        vertical-align: top;\n",
       "    }\n",
       "\n",
       "    .dataframe thead th {\n",
       "        text-align: right;\n",
       "    }\n",
       "</style>\n",
       "<table border=\"1\" class=\"dataframe\">\n",
       "  <thead>\n",
       "    <tr style=\"text-align: right;\">\n",
       "      <th></th>\n",
       "      <th>clics_by_ua</th>\n",
       "      <th>largest_session_by_ua</th>\n",
       "      <th>total_clics_by_user</th>\n",
       "      <th>largest_session_by_user</th>\n",
       "      <th>last_clic_by_user</th>\n",
       "      <th>total_articles_by_user</th>\n",
       "      <th>total_clics_by_article</th>\n",
       "      <th>total_readers</th>\n",
       "    </tr>\n",
       "  </thead>\n",
       "  <tbody>\n",
       "    <tr>\n",
       "      <th>0</th>\n",
       "      <td>1</td>\n",
       "      <td>2</td>\n",
       "      <td>8</td>\n",
       "      <td>2</td>\n",
       "      <td>2017-10-09 01:54:46.617</td>\n",
       "      <td>8</td>\n",
       "      <td>1500</td>\n",
       "      <td>1491</td>\n",
       "    </tr>\n",
       "    <tr>\n",
       "      <th>1</th>\n",
       "      <td>1</td>\n",
       "      <td>2</td>\n",
       "      <td>8</td>\n",
       "      <td>2</td>\n",
       "      <td>2017-10-09 01:54:46.617</td>\n",
       "      <td>8</td>\n",
       "      <td>1344</td>\n",
       "      <td>1334</td>\n",
       "    </tr>\n",
       "    <tr>\n",
       "      <th>2</th>\n",
       "      <td>1</td>\n",
       "      <td>2</td>\n",
       "      <td>8</td>\n",
       "      <td>2</td>\n",
       "      <td>2017-10-09 01:54:46.617</td>\n",
       "      <td>8</td>\n",
       "      <td>4885</td>\n",
       "      <td>4812</td>\n",
       "    </tr>\n",
       "    <tr>\n",
       "      <th>3</th>\n",
       "      <td>1</td>\n",
       "      <td>2</td>\n",
       "      <td>8</td>\n",
       "      <td>2</td>\n",
       "      <td>2017-10-09 01:54:46.617</td>\n",
       "      <td>8</td>\n",
       "      <td>5967</td>\n",
       "      <td>5930</td>\n",
       "    </tr>\n",
       "    <tr>\n",
       "      <th>4</th>\n",
       "      <td>1</td>\n",
       "      <td>2</td>\n",
       "      <td>8</td>\n",
       "      <td>2</td>\n",
       "      <td>2017-10-09 01:54:46.617</td>\n",
       "      <td>8</td>\n",
       "      <td>368</td>\n",
       "      <td>364</td>\n",
       "    </tr>\n",
       "  </tbody>\n",
       "</table>\n",
       "</div>"
      ],
      "text/plain": [
       "   clics_by_ua  largest_session_by_ua  total_clics_by_user  \\\n",
       "0            1                      2                    8   \n",
       "1            1                      2                    8   \n",
       "2            1                      2                    8   \n",
       "3            1                      2                    8   \n",
       "4            1                      2                    8   \n",
       "\n",
       "   largest_session_by_user       last_clic_by_user  total_articles_by_user  \\\n",
       "0                        2 2017-10-09 01:54:46.617                       8   \n",
       "1                        2 2017-10-09 01:54:46.617                       8   \n",
       "2                        2 2017-10-09 01:54:46.617                       8   \n",
       "3                        2 2017-10-09 01:54:46.617                       8   \n",
       "4                        2 2017-10-09 01:54:46.617                       8   \n",
       "\n",
       "   total_clics_by_article  total_readers  \n",
       "0                    1500           1491  \n",
       "1                    1344           1334  \n",
       "2                    4885           4812  \n",
       "3                    5967           5930  \n",
       "4                     368            364  "
      ]
     },
     "execution_count": 118,
     "metadata": {},
     "output_type": "execute_result"
    }
   ],
   "source": [
    "# Preview of all variables that could be used to define a rate\n",
    "user_article.drop(columns=['user_id','click_article_id','last_clic_by_ua','last_click_by_article']).head(5)"
   ]
  },
  {
   "cell_type": "code",
   "execution_count": 119,
   "id": "bf0fc629",
   "metadata": {},
   "outputs": [
    {
     "data": {
      "text/html": [
       "<div>\n",
       "<style scoped>\n",
       "    .dataframe tbody tr th:only-of-type {\n",
       "        vertical-align: middle;\n",
       "    }\n",
       "\n",
       "    .dataframe tbody tr th {\n",
       "        vertical-align: top;\n",
       "    }\n",
       "\n",
       "    .dataframe thead th {\n",
       "        text-align: right;\n",
       "    }\n",
       "</style>\n",
       "<table border=\"1\" class=\"dataframe\">\n",
       "  <thead>\n",
       "    <tr style=\"text-align: right;\">\n",
       "      <th></th>\n",
       "      <th>user_id</th>\n",
       "      <th>click_article_id</th>\n",
       "      <th>clics_by_ua</th>\n",
       "      <th>user_clic_ratio</th>\n",
       "      <th>clics_per_session</th>\n",
       "    </tr>\n",
       "  </thead>\n",
       "  <tbody>\n",
       "    <tr>\n",
       "      <th>0</th>\n",
       "      <td>0</td>\n",
       "      <td>68866</td>\n",
       "      <td>1</td>\n",
       "      <td>0.125000</td>\n",
       "      <td>0.5</td>\n",
       "    </tr>\n",
       "    <tr>\n",
       "      <th>1</th>\n",
       "      <td>0</td>\n",
       "      <td>87205</td>\n",
       "      <td>1</td>\n",
       "      <td>0.125000</td>\n",
       "      <td>0.5</td>\n",
       "    </tr>\n",
       "    <tr>\n",
       "      <th>2</th>\n",
       "      <td>0</td>\n",
       "      <td>87224</td>\n",
       "      <td>1</td>\n",
       "      <td>0.125000</td>\n",
       "      <td>0.5</td>\n",
       "    </tr>\n",
       "    <tr>\n",
       "      <th>3</th>\n",
       "      <td>0</td>\n",
       "      <td>96755</td>\n",
       "      <td>1</td>\n",
       "      <td>0.125000</td>\n",
       "      <td>0.5</td>\n",
       "    </tr>\n",
       "    <tr>\n",
       "      <th>4</th>\n",
       "      <td>0</td>\n",
       "      <td>157541</td>\n",
       "      <td>1</td>\n",
       "      <td>0.125000</td>\n",
       "      <td>0.5</td>\n",
       "    </tr>\n",
       "    <tr>\n",
       "      <th>5</th>\n",
       "      <td>0</td>\n",
       "      <td>160158</td>\n",
       "      <td>1</td>\n",
       "      <td>0.125000</td>\n",
       "      <td>0.5</td>\n",
       "    </tr>\n",
       "    <tr>\n",
       "      <th>6</th>\n",
       "      <td>0</td>\n",
       "      <td>233470</td>\n",
       "      <td>1</td>\n",
       "      <td>0.125000</td>\n",
       "      <td>0.5</td>\n",
       "    </tr>\n",
       "    <tr>\n",
       "      <th>7</th>\n",
       "      <td>0</td>\n",
       "      <td>313996</td>\n",
       "      <td>1</td>\n",
       "      <td>0.125000</td>\n",
       "      <td>0.5</td>\n",
       "    </tr>\n",
       "    <tr>\n",
       "      <th>8</th>\n",
       "      <td>1</td>\n",
       "      <td>36162</td>\n",
       "      <td>1</td>\n",
       "      <td>0.083333</td>\n",
       "      <td>0.5</td>\n",
       "    </tr>\n",
       "    <tr>\n",
       "      <th>9</th>\n",
       "      <td>1</td>\n",
       "      <td>59758</td>\n",
       "      <td>1</td>\n",
       "      <td>0.083333</td>\n",
       "      <td>0.5</td>\n",
       "    </tr>\n",
       "  </tbody>\n",
       "</table>\n",
       "</div>"
      ],
      "text/plain": [
       "   user_id  click_article_id  clics_by_ua  user_clic_ratio  clics_per_session\n",
       "0        0             68866            1         0.125000                0.5\n",
       "1        0             87205            1         0.125000                0.5\n",
       "2        0             87224            1         0.125000                0.5\n",
       "3        0             96755            1         0.125000                0.5\n",
       "4        0            157541            1         0.125000                0.5\n",
       "5        0            160158            1         0.125000                0.5\n",
       "6        0            233470            1         0.125000                0.5\n",
       "7        0            313996            1         0.125000                0.5\n",
       "8        1             36162            1         0.083333                0.5\n",
       "9        1             59758            1         0.083333                0.5"
      ]
     },
     "execution_count": 119,
     "metadata": {},
     "output_type": "execute_result"
    }
   ],
   "source": [
    "# Define a rate for each user-article pair\n",
    "rates = user_article[['user_id','click_article_id','clics_by_ua']].copy()\n",
    "rates['user_clic_ratio'] = user_article['clics_by_ua'] / user_article['total_clics_by_user'] # click ratio de l'utilsateur sur l'article\n",
    "rates['clics_per_session'] = user_article['clics_by_ua'] / user_article['largest_session_by_ua'] # click\n",
    "rates.head(10)"
   ]
  },
  {
   "attachments": {},
   "cell_type": "markdown",
   "id": "d2c31237",
   "metadata": {},
   "source": [
    "##### Visualisation des notes"
   ]
  },
  {
   "cell_type": "code",
   "execution_count": 120,
   "id": "dd58f26a-615b-4b27-a40f-f965c3e71b96",
   "metadata": {},
   "outputs": [
    {
     "data": {
      "image/png": "[encoded data removed]",
      "text/plain": [
       "<Figure size 800x600 with 1 Axes>"
      ]
     },
     "metadata": {},
     "output_type": "display_data"
    }
   ],
   "source": [
    "visualize_histogram(rates[\"clics_by_ua\"], \"Note 1: nombre de clics par utilisateur sur un article\", \"Nombre de clics\", 'data/figs/rate_1.png')"
   ]
  },
  {
   "cell_type": "code",
   "execution_count": 121,
   "id": "39b27fac",
   "metadata": {},
   "outputs": [
    {
     "data": {
      "image/png": "[encoded data removed]",
      "text/plain": [
       "<Figure size 800x600 with 1 Axes>"
      ]
     },
     "metadata": {},
     "output_type": "display_data"
    }
   ],
   "source": [
    "visualize_histogram(rates[\"user_clic_ratio\"], \"Note 2 : ratio de clics par utilisateur sur un article\", \"Nombre de clics\", 'data/figs/rate_2.png')"
   ]
  },
  {
   "cell_type": "code",
   "execution_count": 122,
   "id": "add7faa1",
   "metadata": {},
   "outputs": [
    {
     "data": {
      "image/png": "[encoded data removed]",
      "text/plain": [
       "<Figure size 800x600 with 1 Axes>"
      ]
     },
     "metadata": {},
     "output_type": "display_data"
    }
   ],
   "source": [
    "visualize_histogram( rates[\"clics_per_session\"], \"Note 3 : ratio de clics par taille de session sur un article\", \"Nombre de clics\", 'data/figs/rate_3.png')"
   ]
  },
  {
   "attachments": {},
   "cell_type": "markdown",
   "id": "abea9249",
   "metadata": {},
   "source": [
    "Le **ratio de clics par session** sur chaque article semble être la meilleure option car elle possède la plus grande variabilité de valeurs.\n",
    "Il sera intéressant de tester également le nombre de **ratio de clics par utilisateur***.\n"
   ]
  },
  {
   "attachments": {},
   "cell_type": "markdown",
   "id": "f2f38fcb",
   "metadata": {},
   "source": [
    "#### Algorithme de filtrage collaboratif SVD\n",
    "\n",
    "L'algorthime SVD  est utilisé pour le réaliser le filtrage collaboratif basé sur les comportements d'utilisateurs (user-based collaborative filtering). RAJOUTER DESCRIPTION SUR FACTO MATRICIELLE\n",
    "https://surprise.readthedocs.io/en/stable/matrix_factorization.html#surprise.prediction_algorithms.matrix_factorization.SVD \n",
    "\n",
    "- Les données reliant articles et utilisateurs sont fournies de façon **explicite** puisqu'il s'agit d'une note calculée;\n",
    "- Les notes \"clics_by_session\" sont comprises entre 0 et 5. Le paramètre rating_scale de la classe Reader, utilisé dans la librairie surprise, est modifié de façon à spécifier la bonne échelle de notation des données dans la librairie;\n",
    "- Les hyperparamètres **n_factors**, **n_epochs**, **lr_all** et **reg_all**  de l'algorithme SVD sont optimisés à l'aide d'une fonction gridsearch;\n",
    "    -  n_factors correspond au nombre de facteurs latents (ou de dimensions cachées) utilisé pour décrire les utilisateurs et les articles dans le modèle;\n",
    "    - n_epochs est le nombre d'itérations;\n",
    "    - lr_all est le taux d'apprentissage pour tous les paramètres, qui est un paramètre qui décide de la quantité de réglage des paramètres à chaque itération;\n",
    "    - reg_all est le terme de régularisation pour tous les paramètres, qui est un terme de pénalité ajouté pour éviter le surapprentissage. \n",
    "- Les métriques RMSE et MAE sont utilisés pour l'évaluation. Les valeurs des notes prédites et réelles sont également visualisées pour quelques paires article-utilisateur choisies.\n",
    "\n",
    "\n",
    "<u> Approche item-based vs user-based</u>\n",
    "\n",
    "EXPLIQUER ITEM VS USER \n",
    "Si le nombre d'utilisateurs est plus large que le nombre d'articles, l'approche item-based est plus rapide et plus stable. La note moyenne reçue par un article ne change pas aussi rapidement que la note moyenne donnée par un utilisateur à différents articles. Cette approche fonctionne également mieux lorsque la matrice de notes est clairsemée.\n",
    "\n",
    "Dans notre cas le nombre d'utilisateurs est légèrement inférieur au nombre d'articles (lus), le taux de remplissage de la matrice est de 0.02 %.\n",
    "\n",
    "La matrice étant quasiment vide, une technique de réduction de dimension comme une méthode de factorisation est utilisée pour améliorer les performances de l'algorithme de filtrage.\n"
   ]
  },
  {
   "cell_type": "code",
   "execution_count": 123,
   "id": "887e9be8",
   "metadata": {},
   "outputs": [
    {
     "name": "stdout",
     "output_type": "stream",
     "text": [
      "Nombre d'utilisateurs : 322897\n",
      "Nombre d'articles lus : 46033\n",
      "Nombre total d'articles : 364047\n",
      "Nombre de paires utilisateur-article : 2950710\n",
      "Taux de remplissage de la matrice user-article : 0.02 %\n",
      "Taille de la matrice : 117.55 milliards\n"
     ]
    }
   ],
   "source": [
    "print(f\"Nombre d'utilisateurs : {user_article['user_id'].nunique()}\")\n",
    "print(f\"Nombre d'articles lus : {user_article['click_article_id'].nunique()}\")\n",
    "print(f\"Nombre total d'articles : {articles_metadata['article_id'].nunique()}\")\n",
    "print(f\"Nombre de paires utilisateur-article : {user_article.shape[0]}\")\n",
    "print(f\"Taux de remplissage de la matrice user-article : {np.round(100*user_article.shape[0]/(user_article['user_id'].nunique()*user_article['click_article_id'].nunique()),2)} %\")\n",
    "print(f\"Taille de la matrice : {np.round((1E-9)*(user_article['user_id'].nunique()*articles_metadata['article_id'].nunique()),2)} milliards\")"
   ]
  },
  {
   "cell_type": "code",
   "execution_count": 125,
   "id": "d5f87a1d",
   "metadata": {},
   "outputs": [
    {
     "ename": "ModuleNotFoundError",
     "evalue": "No module named 'surprise'",
     "output_type": "error",
     "traceback": [
      "\u001b[1;31m---------------------------------------------------------------------------\u001b[0m",
      "\u001b[1;31mModuleNotFoundError\u001b[0m                       Traceback (most recent call last)",
      "Cell \u001b[1;32mIn[125], line 1\u001b[0m\n\u001b[1;32m----> 1\u001b[0m \u001b[39mfrom\u001b[39;00m \u001b[39msurprise\u001b[39;00m \u001b[39mimport\u001b[39;00m Reader, Dataset\n\u001b[0;32m      2\u001b[0m \u001b[39mfrom\u001b[39;00m \u001b[39msurprise\u001b[39;00m\u001b[39m.\u001b[39;00m\u001b[39mmodel_selection\u001b[39;00m \u001b[39mimport\u001b[39;00m train_test_split\n\u001b[0;32m      3\u001b[0m \u001b[39mfrom\u001b[39;00m \u001b[39msurprise\u001b[39;00m \u001b[39mimport\u001b[39;00m SVD, accuracy\n",
      "\u001b[1;31mModuleNotFoundError\u001b[0m: No module named 'surprise'"
     ]
    }
   ],
   "source": [
    "from surprise import Reader, Dataset\n",
    "from surprise.model_selection import train_test_split\n",
    "from surprise import SVD, accuracy\n",
    "from surprise.model_selection import GridSearchCV\n",
    "from surprise.model_selection import cross_validate\n",
    "\n",
    "\n",
    "# Data prepation for surprise\n",
    "userId = 'user_id'\n",
    "articleId = 'click_article_id'\n",
    "# rating = 'user_clic_ratio' # Note 2\n",
    "rating = 'clics_per_session' # Note 3\n",
    "pred_rating = 'pred_' + rating \n",
    "data = rates\n",
    "\n",
    "# Format data for surprise\n",
    "# reader = Reader(rating_scale=(0,0.5)) # Note 2\n",
    "reader = Reader(rating_scale=(0,5)) # Note 3\n",
    "\n",
    "data = Dataset.load_from_df(data[[userId, articleId, rating]], reader)\n",
    "\n",
    "# Choose training type\n",
    "training_type = 'simple' \n",
    "#training_type = 'grid_search'\n",
    "\n",
    "\n",
    "if training_type == 'simple':\n",
    "    # Split data into train and test sets\n",
    "    trainset, testset = train_test_split(data, test_size=0.25, random_state=random_state)\n",
    "    # trainset = data.build_full_trainset() # to use all data for training\n",
    "     \n",
    "    # Train the model\n",
    "    SVD_model = SVD(n_factors=100, n_epochs=20, random_state=random_state)  \n",
    "    cross_validate(SVD_model, data, measures=[\"RMSE\", \"MAE\"], cv=5, verbose=True) # Run 5-fold cross-validation and print results\n",
    "    # SVD_model.fit(trainset, verbose=True, n_jobs=-1)\n",
    "\n",
    "    # Predict accuracy\n",
    "    predictions = SVD_model.test(testset)  \n",
    "    print('Basic model accuracy :')\n",
    "    print(f\"(rmse) : {accuracy.rmse(predictions)}\")\n",
    "    print(f\"(mae): {accuracy.mae(predictions)}\")\n",
    "    print(f\"(fcp): {accuracy.fcp(predictions)}\")\n",
    "    print(f\"(mse): {accuracy.mae(predictions)}\")\n",
    "\n",
    "\n",
    "elif training_type == \"grid_search\":\n",
    "    # grid search parameters\n",
    "    param_grid = {'n_factors': [50, 100, 150], 'n_epochs': [10, 20, 50], 'lr_all':[0.002, 0.005, 0.007], 'reg_all':[0.01, 0.02, 0.04]} \n",
    "\n",
    "    # Train the model\n",
    "    gs = GridSearchCV(SVD, param_grid, measures=['rmse','mae'], cv=3) # add  to use all cores\n",
    "    gs.fit(data, verbose=True, n_jobs=-1)\n",
    "\n",
    "    # best RMSE score and parameters\n",
    "    print('(Gridsearch-)Optimized model accuracy :')\n",
    "    print(f\"Best RMSE score : {gs.best_score['rmse']}\")\n",
    "    print(f\"Best MAE score : {gs.best_score['mae']}\")\n",
    "    print(f\"Best hyperparameters (rmse): {gs.best_params['rmse']}\")\n",
    "    print(f\"Best hyperparameters (mae) : {gs.best_params['mae']}\")\n",
    "    print(f\"Best model (rmse) : {gs.best_estimator['rmse']}\")\n",
    "    print(f\"Best model (mae) : {gs.best_estimator['mae']}\")\n",
    "\n",
    "    # Train the best model\n",
    "    SVD_model = gs.best_estimator['rmse']\n",
    "    trainset = data.build_full_trainset() # to use all data for training\n",
    "    SVD_model.fit(trainset, verbose=True, n_jobs=-1)\n",
    "\n",
    "# Get predicted rates for each user-article pair already rated\n",
    "rates[pred_rating] = rates.apply(lambda x: SVD_model.predict(x['user_id'], x['click_article_id']).est, axis=1) "
   ]
  },
  {
   "attachments": {},
   "cell_type": "markdown",
   "id": "074e553f",
   "metadata": {},
   "source": [
    "##### Métrique d'évaluation\n",
    "\n",
    "Plusieurs métriques sont utilisées pour évaluer les prédictions. Ces évaluations sont réalisées sur un jeu de test contenant donc des paires article-utilisateur avec déjà une note réelle.\n",
    "- Erreur RMSE (Root Mean Square Error): moyenne quadratique des erreurs des prediction\n",
    "- Mean Absolute Error (MAE) : moyenne des valeurs absolues des erreurs"
   ]
  },
  {
   "attachments": {},
   "cell_type": "markdown",
   "id": "92320049",
   "metadata": {},
   "source": [
    "##### Visualisation des prédictions"
   ]
  },
  {
   "cell_type": "code",
   "execution_count": null,
   "id": "1015fcd1",
   "metadata": {},
   "outputs": [
    {
     "data": {
      "image/png": "[encoded data removed]",
      "text/plain": [
       "<Figure size 800x600 with 1 Axes>"
      ]
     },
     "metadata": {},
     "output_type": "display_data"
    }
   ],
   "source": [
    "# Plot Boxplots for predicted rates and real rates\n",
    "fig = plt.figure(figsize=figsize)\n",
    "\n",
    "# Real rates\n",
    "bp = plt.boxplot(rates[rating], vert=False, widths=0.5, positions=[0], whis=[1,99])\n",
    "plt.setp(bp['whiskers'], linestyle='--', color='gray', lw=2, dashes=(5, 5))\n",
    "plt.setp(bp['fliers'], marker='.', markerfacecolor='red', markersize=8, alpha=0.5)\n",
    "\n",
    "# Predicted rates\n",
    "bp = plt.boxplot(rates[pred_rating], vert=False, widths=0.5, positions=[1], whis=[1,99])\n",
    "plt.setp(bp['whiskers'], linestyle='--', color='gray', lw=2, dashes=(5, 5))\n",
    "plt.setp(bp['fliers'], marker='.', markerfacecolor='red', markersize=8, alpha=0.5)\n",
    "\n",
    "# Predicted rates fullset\n",
    "# bp = plt.boxplot(rates[pred_rating +'_fullset'], vert=False, widths=0.5, positions=[2], whis=[1,99])\n",
    "# plt.setp(bp['whiskers'], linestyle='--', color='gray', lw=2, dashes=(5, 5))\n",
    "# plt.setp(bp['fliers'], marker='.', markerfacecolor='red', markersize=8, alpha=0.5)\n",
    "\n",
    "plt.yticks([0, 1], [\"Notes réelles\", \"Notes prédites\"])\n",
    "#plt.yticks([0, 1, 2], [\"Notes réelles\", \"Notes prédites - Modèle de base\", \"Notes prédites - Modèle optimisé\"])\n",
    "\n",
    "\n",
    "plt.title(\"Notes prédites par article et lecteur\") \n",
    "plt.xlabel(\"Note prédite\")\n",
    "\n",
    "plt.grid(axis='x', linestyle='--', alpha=0.7)\n",
    "\n",
    "plt.show()\n",
    "fig.savefig('data/figs/real_vs_pred_rates.png', dpi=300, bbox_inches='tight')"
   ]
  },
  {
   "cell_type": "code",
   "execution_count": null,
   "id": "28c818e8",
   "metadata": {},
   "outputs": [
    {
     "data": {
      "application/vnd.jupyter.widget-view+json": {
       "model_id": "5ef72d5574f44dfa8eb3d9d77b8b36d7",
       "version_major": 2,
       "version_minor": 0
      },
      "text/plain": [
       "interactive(children=(IntSlider(value=57288, description='User Id :', max=322896), Output()), _dom_classes=('w…"
      ]
     },
     "metadata": {},
     "output_type": "display_data"
    }
   ],
   "source": [
    "# Side by side comparison of real rates and predicted rates by user  \n",
    "@interact(\n",
    "    idx=widgets.IntSlider(min=min(rates['user_id'].unique()), max=max(rates['user_id'].unique()),\n",
    "                          step=1, value=57288,#149963,\n",
    "                          description=\"User Id :\"))   \n",
    "\n",
    "\n",
    "def show_side_by_side(idx):\n",
    "    width = 0.35  # width of the bars\n",
    "    n_bars = len(rates[rates['user_id']==idx])  # number of bars to plot\n",
    "    ind = np.arange(n_bars)  # indices of the bars\n",
    "    \n",
    "    fig, ax = plt.subplots()\n",
    "\n",
    "    # bars with real rates\n",
    "    rects1 = ax.bar(ind, rates[rates['user_id']==idx][rating], width, color='r')\n",
    "\n",
    "    # bars with predicted rates\n",
    "    rects2 = ax.bar(ind + width, rates[rates['user_id']==idx][pred_rating], width, color='y')\n",
    "\n",
    "    # bars with predicted rates fullset\n",
    "    # rects3 = ax.bar(ind + width*2, rates[rates['user_id']==idx][pred_rating +'_fullset'], width, color='g')\n",
    "\n",
    "    # legend and labels\n",
    "    ax.set_xlabel('Observations')\n",
    "    ax.set_ylabel('Valeurs')\n",
    "    ax.legend((rects1[0], rects2[0]), ('Réelles', 'Prédites'))# , 'Prédites fullset')) #, rects3[0],\n",
    "    ax.set_title('Comparaison des notes réelles et prédites pour les articles lus par un utilisateur')\n",
    "\n",
    "    plt.show()\n"
   ]
  },
  {
   "cell_type": "code",
   "execution_count": null,
   "id": "52a1dd8e",
   "metadata": {},
   "outputs": [
    {
     "data": {
      "application/vnd.jupyter.widget-view+json": {
       "model_id": "70fb9ea5266c4a42b532b20e417dccc7",
       "version_major": 2,
       "version_minor": 0
      },
      "text/plain": [
       "interactive(children=(IntSlider(value=10, description=\"Nombre d'échantillons :\"), Output()), _dom_classes=('wi…"
      ]
     },
     "metadata": {},
     "output_type": "display_data"
    }
   ],
   "source": [
    "# Side by side comparison of real rates and predicted rates for a chosen number of samples\n",
    "@interact(n_bars=widgets.IntSlider(min=0, max=100,\n",
    "                          step=1, value=10,\n",
    "                          description=\"Nombre d'échantillons :\"))   \n",
    "def show_side_by_side(n_bars):\n",
    "    width = 0.35  # width of the bars\n",
    "    \n",
    "    ind = np.arange(len(rates[rating]))  # indices of the bars\n",
    "    selected_bars = np.random.choice(ind, n_bars)\n",
    "    \n",
    "    fig, ax = plt.subplots()\n",
    "\n",
    "    # bars with real rates\n",
    "    rects1 = ax.bar(np.arange(n_bars), rates[rating][selected_bars], width, color='r')\n",
    "\n",
    "    # bars with predicted rates\n",
    "    rects2 = ax.bar(np.arange(n_bars) + width, rates[pred_rating][selected_bars], width, color='y')\n",
    "\n",
    "    # legend and labels\n",
    "    ax.set_xlabel('Observations')\n",
    "    ax.set_ylabel('Valeurs')\n",
    "    ax.legend((rects1[0], rects2[0]), ('Réelles', 'Prédites'))\n",
    "    ax.set_title(f\"Comparaison des notes réelles et prédites pour un échantillon de {n_bars} paires article/lecteur\")\n",
    "\n",
    "    plt.show()\n"
   ]
  },
  {
   "attachments": {},
   "cell_type": "markdown",
   "id": "2319d2b0",
   "metadata": {},
   "source": [
    "##### Recommandations"
   ]
  },
  {
   "cell_type": "code",
   "execution_count": null,
   "id": "57e4f4c4",
   "metadata": {},
   "outputs": [],
   "source": [
    "def get_best_rated_reco(user_id, articles_metadata, SVD_model):\n",
    "    # Get all articles of the articles_metadata base (read and unread)\n",
    "    recos = articles_metadata.drop(columns='created_at_ts').copy()\n",
    "\n",
    "    # Rate for a user_id all the articles from the articles_metadata base\n",
    "    recos['predicted_rate'] = recos['article_id'].apply(lambda x: SVD_model.predict(user_id, x).est)\n",
    "    \n",
    "    # Sort the articles by predicted rate\n",
    "    recos = recos.sort_values(by='predicted_rate', ascending=False)\n",
    "\n",
    "    # Remove the articles already read by the user\n",
    "    recos = recos[~recos['article_id'].isin(rates[rates['user_id']==user_id]['click_article_id'].values)]\n",
    "\n",
    "    # Get the top 5 articles\n",
    "    top_recos = recos['article_id'][:5].values\n",
    "    \n",
    "    return top_recos, recos"
   ]
  },
  {
   "cell_type": "code",
   "execution_count": null,
   "id": "cc0b2283",
   "metadata": {},
   "outputs": [
    {
     "data": {
      "application/vnd.jupyter.widget-view+json": {
       "model_id": "88d88391ee1f4236971e57ce42ebee96",
       "version_major": 2,
       "version_minor": 0
      },
      "text/plain": [
       "interactive(children=(IntSlider(value=57288, description='User Id :', max=322897), Output()), _dom_classes=('w…"
      ]
     },
     "metadata": {},
     "output_type": "display_data"
    }
   ],
   "source": [
    "# Recommendation tool for collaborative filtering\n",
    "@interact(\n",
    "    idx=widgets.IntSlider(min=0, max=len(clicks['user_id'].unique()),\n",
    "                          step=1, value=57288,\n",
    "                          description=\"User Id :\"))   \n",
    "def show_data(idx):\n",
    "\n",
    "    # 0. Get random user_id\n",
    "    user_id = idx\n",
    "    print('SELECTED USER : READ ARTICLES')\n",
    "    print(f\"User id : {user_id}\")\n",
    "    display(articles_metadata[articles_metadata['article_id'].isin(\n",
    "        user_article[user_article['user_id']==idx]['click_article_id'].values)].drop(columns=['created_at_ts','publisher_id']))\n",
    "\n",
    "    # 1. Predit rates for all the articles for this user_id and get the top 5 most rated articles\n",
    "    top_recos, recos = get_best_rated_reco(user_id, articles_metadata, SVD_model)\n",
    "    print('--')    \n",
    "    print(f\"RECOMMENDED ARTICLES : {top_recos}\")\n",
    "    display(recos[recos['article_id'].isin(top_recos)].drop(columns=['predicted_rate','publisher_id']))"
   ]
  },
  {
   "attachments": {},
   "cell_type": "markdown",
   "id": "c5e5b9e5",
   "metadata": {},
   "source": [
    "##### Sauvegarde du modèle final"
   ]
  },
  {
   "cell_type": "code",
   "execution_count": null,
   "id": "1ab7054e",
   "metadata": {},
   "outputs": [],
   "source": [
    "#### Sauvegarde du modèle\n",
    "\n",
    "with open('model.pkl', 'wb') as f:\n",
    "    pickle.dump(SVD_model, f)\n"
   ]
  },
  {
   "attachments": {},
   "cell_type": "markdown",
   "id": "09a80c12",
   "metadata": {},
   "source": [
    "## Synthèse des modèles de recommandation\n"
   ]
  },
  {
   "cell_type": "markdown",
   "id": "8a1fa2d6-cfcf-47c8-bd68-818b1fd7879c",
   "metadata": {},
   "source": [
    "### 4. Application Serverless"
   ]
  },
  {
   "cell_type": "markdown",
   "id": "5f2c670c-a9d2-4f17-8122-71c2ad50c988",
   "metadata": {},
   "source": [
    "Le principe du Serverless est de pouvoir concevoir des applications sans avoir à penser à la gestion parfois fastidieuse des servers physiques, notamment:\n",
    "- la configuration du framework Web\n",
    "- le routage et la définition des requêtes\n",
    "\n",
    "Le service le plus associé à la fonction Serverless est le service **Azure FaaS dit Azure Fonctions** (Function as a Service) :\n",
    "- son fonctionnement se veut aussi simple qu'un fichier avec une seule méthode, la fonction Azure;\n",
    "- cette méthode est appelée avec des déclencheurs (\"trigger\").\n",
    "\n",
    "Il existe trois principes de Serverless :\n",
    "- Pay as you go\n",
    "- Event driven \n",
    "- Stateless : pour les fonctions de courte durée (5-10 min)\n",
    "\n",
    "Le serverless est paticulièrement pratique pour les processus où la demande est faible ou chaotique, ainsi que pour ceux déclenché par des évènements  \n"
   ]
  }
 ],
 "metadata": {
  "kernelspec": {
   "display_name": "Python 3",
   "language": "python",
   "name": "python3"
  },
  "language_info": {
   "codemirror_mode": {
    "name": "ipython",
    "version": 3
   },
   "file_extension": ".py",
   "mimetype": "text/x-python",
   "name": "python",
   "nbconvert_exporter": "python",
   "pygments_lexer": "ipython3",
   "version": "3.10.9"
  },
  "vscode": {
   "interpreter": {
    "hash": "7e94d2f06ec75dcb491c23231be00dabc24952b20f56c0367358582b4261a172"
   }
  }
 },
 "nbformat": 4,
 "nbformat_minor": 5
}
