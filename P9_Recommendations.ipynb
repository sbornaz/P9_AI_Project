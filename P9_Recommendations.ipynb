{
 "cells": [
  {
   "cell_type": "markdown",
   "id": "cec10018-7c93-4f31-8f69-a6c81192a7ca",
   "metadata": {},
   "source": [
    "# P9 - Réalisez une application de recommandation de contenu"
   ]
  },
  {
   "attachments": {},
   "cell_type": "markdown",
   "id": "d1c6205f-9ae6-4f69-8dbd-83bf6e39b2fe",
   "metadata": {},
   "source": [
    "#### Installations et imports"
   ]
  },
  {
   "cell_type": "code",
   "execution_count": 1,
   "id": "4874a508",
   "metadata": {},
   "outputs": [],
   "source": [
    "# Libraries installation\n",
    "# from src.libraries_install import *\n",
    "\n",
    "# Global variables\n",
    "from src.global_vars import * # import global variables\n",
    "\n",
    "# Libraries import \n",
    "from src.libraries import *\n",
    "\n",
    "# Functions import\n",
    "from src.functions import *\n",
    "\n",
    "# Ignore warnings\n",
    "# warnings.filterwarnings(\"ignore\")\n",
    "\n",
    "# PEP8 convention\n",
    "# %load_ext nb_black\n",
    "# %load_ext pycodestyle_magic\n",
    "# %pycodestyle_on"
   ]
  },
  {
   "cell_type": "markdown",
   "id": "88eb6331",
   "metadata": {},
   "source": [
    "## 2. Jeu de données"
   ]
  },
  {
   "cell_type": "code",
   "execution_count": 2,
   "id": "fd11a647-65de-4562-b0f7-165da48e18b4",
   "metadata": {},
   "outputs": [],
   "source": [
    "# Upload articles_metadata file\n",
    "articles_metadata = pd.read_csv('data/articles_metadata.csv')\n",
    "articles_metadata['creation date'] = pd.to_datetime(articles_metadata['created_at_ts'], unit='ms').dt.date"
   ]
  },
  {
   "cell_type": "code",
   "execution_count": 3,
   "id": "31376c4c-867b-449f-87a7-4ccaf0e74c70",
   "metadata": {},
   "outputs": [],
   "source": [
    "# Upload or concatenate clic files\n",
    "folder_path ='data\\clicks\\clicks'\n",
    "merged_file_name = 'data\\merged_clicks.csv'\n",
    "if os.path.isfile(merged_file_name):\n",
    "    clicks = pd.read_csv(merged_file_name)\n",
    "else:\n",
    "    clicks = merge_csv_files(folder_path, merged_file_name)\n",
    "clicks = clicks.astype('int64')\n",
    "clicks['click_time'] = pd.to_datetime(clicks['click_timestamp'], unit='ms') #.dt.date\n",
    "clicks = clicks.drop(\n",
    "        columns=['session_start','session_id',\n",
    "                 'click_environment','click_os','click_referrer_type',\n",
    "                 'click_deviceGroup','click_region','click_country'])\n",
    "clicks['click_time'] = pd.to_datetime(clicks['click_time'])"
   ]
  },
  {
   "cell_type": "code",
   "execution_count": 4,
   "id": "04574b95-2987-408c-9ec5-4fe8da5e3a1a",
   "metadata": {},
   "outputs": [],
   "source": [
    "# Upload articles_embeddings file\n",
    "articles_embeddings = pd.read_pickle('data/articles_embeddings.pickle')"
   ]
  },
  {
   "cell_type": "code",
   "execution_count": 5,
   "id": "7dfce1d3-96b8-4c35-af31-0efe7194e39c",
   "metadata": {},
   "outputs": [],
   "source": [
    "var = 'user_id'\n",
    "df_user = clicks.groupby(var).agg({\n",
    "    'click_article_id':'count',\n",
    "    'session_size':'max', # median\n",
    "    'click_time':'last'})\n",
    "\n",
    "df_user = df_user.rename(columns={'session_size':'largest_session_by_user',# average session size\n",
    "                                  'click_time':'last_clic_by_user',\n",
    "                                  'click_article_id':'total_clics_by_user'\n",
    "                                           })\n",
    "df_user['total_articles_by_user'] = clicks.groupby(var).agg({'click_article_id':'unique'})['click_article_id']\n",
    "df_user['total_articles_by_user'] = df_user['total_articles_by_user'].apply(lambda x: len(x))"
   ]
  },
  {
   "cell_type": "code",
   "execution_count": 6,
   "id": "e71edebd-fab0-4881-9e68-aebae3daec36",
   "metadata": {},
   "outputs": [],
   "source": [
    "var = 'click_article_id'\n",
    "df_article = clicks.groupby(var).agg({\n",
    "    'user_id':'count',\n",
    "    'click_time':'last'})\n",
    "df_article = df_article.rename(columns={'click_time':'last_click_by_article',\n",
    "                                        'user_id':'total_clics_by_article',\n",
    "                                           })\n",
    "df_article['total_readers'] = clicks.groupby(var).agg({'user_id':'unique'})['user_id']\n",
    "df_article['total_readers'] = df_article['total_readers'].apply(lambda x: len(x))"
   ]
  },
  {
   "cell_type": "code",
   "execution_count": 7,
   "id": "0e2e0aba-acf4-40b6-90c8-dff3685be655",
   "metadata": {},
   "outputs": [],
   "source": [
    "var = ['user_id','click_article_id']\n",
    "user_article = clicks.groupby(var,as_index=False).agg(\n",
    "    user_id=('user_id','first'),\n",
    "    click_article_id=('click_article_id','first'),\n",
    "    clics_by_ua=('click_article_id','count'), # Nombre de clics par article (toutes sessions confondues)\n",
    "    largest_session_by_ua=('session_size','max'),# plus large taille de session lorsque l'article est consulté\n",
    "    last_clic_by_ua=('click_time','last')) # Dernier clic sur l'article\n",
    "user_article = user_article.merge(df_user, on = 'user_id', how = 'left')\n",
    "user_article = user_article.merge(df_article, on = 'click_article_id', how = 'left')"
   ]
  },
  {
   "attachments": {},
   "cell_type": "markdown",
   "id": "fa051732-46ec-4498-8e23-71994a759f37",
   "metadata": {
    "tags": [],
    "toc-hr-collapsed": true
   },
   "source": [
    "## 3. Modélisation du système de recommandation\n",
    "\n",
    "Deux approches sont considérées :\n",
    "- **content-based** : Cette méthode utilise seulement les informations sur les articles que les utilisateurs ont consommés pour recommander des articles similaires. Les algorithmes cherchent à recommander des articles qui correspondent aux préférences de l'utilisateur en se basant sur ses évaluations précédentes.\n",
    "\n",
    "- **collaboratif-filtering**: Cette méthode utilise la collaboration de nombreuses préférences d'utilisateurs pour faire des prédictions automatiques sur les intérêts d'un utilisateur. Elle est basée sur l'hypothèse que si deux personnes ont des opinions similaires sur plusieurs éléments, elles auront probablement des opinions similaires sur d'autres éléments.\n",
    "\n",
    "### 3.1 Approche content-based\n",
    "\n",
    "#### Démarche générale\n",
    "\n",
    "La démarche générale de recommandation d'articles via l'approche content-based comporte plusieurs étapes :\n",
    "- Choix de l'utilisateur : sélectionné au hasard ou par user_id;\n",
    "- Choix de l'article de référence pour la recommandation : \n",
    "    - Dernier article consulté (ancienneté);\n",
    "    - Article le plus consulté (nombre de clics); si plusieurs, le plus récent; \n",
    "- Recommandations avec l'approche content-based, basées sur le calcul du coefficient de cosin similarité avec l'article de référence : les articles les plus proches de ce dernier sont ceux dont le coefficient est le plus proche de 1. Les 5 premiers articles sont ainsi séléctionnés en recommandation."
   ]
  },
  {
   "attachments": {},
   "cell_type": "markdown",
   "id": "ff7d9a80",
   "metadata": {},
   "source": [
    "#### Recommandations"
   ]
  },
  {
   "cell_type": "code",
   "execution_count": 8,
   "id": "ab306577-f2ea-4b24-84ed-e8779f40c087",
   "metadata": {},
   "outputs": [
    {
     "data": {
      "application/vnd.jupyter.widget-view+json": {
       "model_id": "e70557952dda43e9807726dc64953d32",
       "version_major": 2,
       "version_minor": 0
      },
      "text/plain": [
       "interactive(children=(IntSlider(value=57288, description='User Id :', max=322897), Dropdown(description='Refer…"
      ]
     },
     "metadata": {},
     "output_type": "display_data"
    }
   ],
   "source": [
    "# Content-based recommendation for a chosen user\n",
    "@interact(\n",
    "    idx=widgets.IntSlider(min=0, max=len(clicks['user_id'].unique()),\n",
    "                          step=1, value=57288,\n",
    "                          description=\"User Id :\"),\n",
    "    option=widgets.Dropdown(options=['most clicked', 'last','random'], value='most clicked', description='Reference article :'),\n",
    "    )\n",
    "\n",
    "def show_data(idx,option):\n",
    "\n",
    "    # 0. Get user_id\n",
    "\n",
    "    user_id = idx\n",
    "    print('SELECTED USER')\n",
    "    print(f\"User id : {user_id}\")\n",
    "\n",
    "    # 1. Get reference article based on metier preference\n",
    "\n",
    "    print('--')    \n",
    "    print('REFERENCE ARTICLE')\n",
    "    article_id = select_article(option,clicks,user_id)\n",
    "    \n",
    "    display(articles_metadata[articles_metadata['article_id']==article_id].drop(columns=['created_at_ts','publisher_id']))\n",
    "\n",
    "    ## 2. Compute cosin similarity of this article with those of the embedding matrix  & get recos\n",
    "\n",
    "    df_articles_embeddings = pd.DataFrame(articles_embeddings, columns=[\"embedding_\" + str(i) for i in range(articles_embeddings.shape[1])])\n",
    "    recos = get_cosinsimilarity(df_articles_embeddings,article_id)\n",
    "    print('--')    \n",
    "    print(f\"RECOMMENDED ARTICLES : {recos}\")\n",
    "\n",
    "    display(articles_metadata.loc[recos].drop(columns=['created_at_ts','publisher_id']))\n"
   ]
  },
  {
   "attachments": {},
   "cell_type": "markdown",
   "id": "468dd9ff-c7c9-4aea-9fb3-7c41711b567b",
   "metadata": {},
   "source": [
    "#### 3.2 Approche collaborative featuring\n",
    "\n",
    "#### Démarche générale\n",
    "\n",
    "La filtrage collaboratif est une famille d'algorithmes permettant d'identifier des utilisateurs ou des éléments similaires et de calculer une note basée sur celles des utilisateurs similaires.\n",
    "\n",
    "La première étape pour notre problème de recommandation d'articles est donc d'assigner une note, par lecteur, à chacun des articles consultés, à partir des données disponibles.\n",
    "\n",
    "Un algorithme de filtrage collaboratif sera ensuite utilisé pour assigner, pour chaque lecteur, une note à chacun des articles qu'il n'a pas consultés mais qui l'ont été par d'autres utilisateurs.\n",
    "\n",
    "L'approche par filtrage collaboratif dit user-based consiste à apprendre du comportement passé de lecteur ainsi que de celui des lecteurs identifiés comme similaires pour prédire les préférences de lecture.\n",
    "\n",
    "La recommandation d'articles en utilsant cette approche consiste en les étapes suivantes :\n",
    "- Choix du lecteur : par hasard ou séléctionné par id;\n",
    "- Identification des lecteurs aux goûts similaires par l'approche filtrage collaboratif. Un calcul de similarité est effectué entre utilisateurs, en se basant sur les articles consultés en commun. Différentes métriques peuvent être utilisées à cet effet;\n",
    "- Affectation d'une note pour les articles encore non consultés, pondérée par la similarité avec les autres utilisateurs; cette affectation est obtenue grâce à l'entraînement d'un algorithme de factorisation matricielle qui prédit des notes pour chaque couple article-lecteur;  \n",
    "- Recommandations pour le lecteur choisi des 5 articles non lus ayant obtenu les meilleures notes.\n",
    "\n",
    "La librairie Surprise est utilisée pour mettre en place et entraîner l'algorithme de filtrage collaboratif. L'algorithme utilisé est la technique de factorisation matricielle SVD. Elle permet de découvrir les caractéristiques latentes sous-jacentes aux interactions entre les utilisateurs et les éléments et minimise les risques de surapprentissage. \n",
    "\n",
    "L'évaluation du modèle est obtenue en analysant l'erreur RMSE (root mean square erreur) entre les notes réelles et celles prédites. Le modèle peut être optimisé par un choix judicieux d'hyperparamètres permettant de minimiser cette erreur.\n",
    "\n",
    "\n",
    "#### Calcul de note \n",
    "\n",
    "Considérons les notes suivantes pour le couple utilisateur-article :\n",
    "- **Nombre de clics** \n",
    "- **Nombre de clics / Nombre de clics total effectués par l'utilisateur**. Cette note permet d'estimer l'importance relative de l'article pour l'utilisateur par rapport au nombre de clics effectués sur l'ensemble des autres articles consultés.\n",
    "- **Nombre de clics / Taille de session maximale lorsque l'article est consulté**. Cette dernière note permet d'indiquer l'intérêt de l'utilisateur en fonction du nombre de clics sur l'article ainsi que relativement au temps passé dessus. Si la taille de session maximale est petite, cela signifie que l'utilisateur a probablement passé un temps plus significatif sur l'article que si la taille de session était grande et qu'il avait donc partagé son temps sur plusieurs autres articles."
   ]
  },
  {
   "cell_type": "code",
   "execution_count": 9,
   "id": "bb1d567a",
   "metadata": {},
   "outputs": [
    {
     "data": {
      "text/html": [
       "<div>\n",
       "<style scoped>\n",
       "    .dataframe tbody tr th:only-of-type {\n",
       "        vertical-align: middle;\n",
       "    }\n",
       "\n",
       "    .dataframe tbody tr th {\n",
       "        vertical-align: top;\n",
       "    }\n",
       "\n",
       "    .dataframe thead th {\n",
       "        text-align: right;\n",
       "    }\n",
       "</style>\n",
       "<table border=\"1\" class=\"dataframe\">\n",
       "  <thead>\n",
       "    <tr style=\"text-align: right;\">\n",
       "      <th></th>\n",
       "      <th>clics_by_ua</th>\n",
       "      <th>largest_session_by_ua</th>\n",
       "      <th>total_clics_by_user</th>\n",
       "      <th>largest_session_by_user</th>\n",
       "      <th>last_clic_by_user</th>\n",
       "      <th>total_articles_by_user</th>\n",
       "      <th>total_clics_by_article</th>\n",
       "      <th>total_readers</th>\n",
       "    </tr>\n",
       "  </thead>\n",
       "  <tbody>\n",
       "    <tr>\n",
       "      <th>0</th>\n",
       "      <td>1</td>\n",
       "      <td>2</td>\n",
       "      <td>8</td>\n",
       "      <td>2</td>\n",
       "      <td>2017-10-09 01:54:46.617</td>\n",
       "      <td>8</td>\n",
       "      <td>1500</td>\n",
       "      <td>1491</td>\n",
       "    </tr>\n",
       "    <tr>\n",
       "      <th>1</th>\n",
       "      <td>1</td>\n",
       "      <td>2</td>\n",
       "      <td>8</td>\n",
       "      <td>2</td>\n",
       "      <td>2017-10-09 01:54:46.617</td>\n",
       "      <td>8</td>\n",
       "      <td>1344</td>\n",
       "      <td>1334</td>\n",
       "    </tr>\n",
       "    <tr>\n",
       "      <th>2</th>\n",
       "      <td>1</td>\n",
       "      <td>2</td>\n",
       "      <td>8</td>\n",
       "      <td>2</td>\n",
       "      <td>2017-10-09 01:54:46.617</td>\n",
       "      <td>8</td>\n",
       "      <td>4885</td>\n",
       "      <td>4812</td>\n",
       "    </tr>\n",
       "    <tr>\n",
       "      <th>3</th>\n",
       "      <td>1</td>\n",
       "      <td>2</td>\n",
       "      <td>8</td>\n",
       "      <td>2</td>\n",
       "      <td>2017-10-09 01:54:46.617</td>\n",
       "      <td>8</td>\n",
       "      <td>5967</td>\n",
       "      <td>5930</td>\n",
       "    </tr>\n",
       "    <tr>\n",
       "      <th>4</th>\n",
       "      <td>1</td>\n",
       "      <td>2</td>\n",
       "      <td>8</td>\n",
       "      <td>2</td>\n",
       "      <td>2017-10-09 01:54:46.617</td>\n",
       "      <td>8</td>\n",
       "      <td>368</td>\n",
       "      <td>364</td>\n",
       "    </tr>\n",
       "  </tbody>\n",
       "</table>\n",
       "</div>"
      ],
      "text/plain": [
       "   clics_by_ua  largest_session_by_ua  total_clics_by_user  \\\n",
       "0            1                      2                    8   \n",
       "1            1                      2                    8   \n",
       "2            1                      2                    8   \n",
       "3            1                      2                    8   \n",
       "4            1                      2                    8   \n",
       "\n",
       "   largest_session_by_user       last_clic_by_user  total_articles_by_user  \\\n",
       "0                        2 2017-10-09 01:54:46.617                       8   \n",
       "1                        2 2017-10-09 01:54:46.617                       8   \n",
       "2                        2 2017-10-09 01:54:46.617                       8   \n",
       "3                        2 2017-10-09 01:54:46.617                       8   \n",
       "4                        2 2017-10-09 01:54:46.617                       8   \n",
       "\n",
       "   total_clics_by_article  total_readers  \n",
       "0                    1500           1491  \n",
       "1                    1344           1334  \n",
       "2                    4885           4812  \n",
       "3                    5967           5930  \n",
       "4                     368            364  "
      ]
     },
     "execution_count": 9,
     "metadata": {},
     "output_type": "execute_result"
    }
   ],
   "source": [
    "# Preview of all variables that could be used to define a rate\n",
    "user_article.drop(columns=['user_id','click_article_id','last_clic_by_ua','last_click_by_article']).head(5)"
   ]
  },
  {
   "cell_type": "code",
   "execution_count": 10,
   "id": "bf0fc629",
   "metadata": {},
   "outputs": [
    {
     "data": {
      "text/html": [
       "<div>\n",
       "<style scoped>\n",
       "    .dataframe tbody tr th:only-of-type {\n",
       "        vertical-align: middle;\n",
       "    }\n",
       "\n",
       "    .dataframe tbody tr th {\n",
       "        vertical-align: top;\n",
       "    }\n",
       "\n",
       "    .dataframe thead th {\n",
       "        text-align: right;\n",
       "    }\n",
       "</style>\n",
       "<table border=\"1\" class=\"dataframe\">\n",
       "  <thead>\n",
       "    <tr style=\"text-align: right;\">\n",
       "      <th></th>\n",
       "      <th>user_id</th>\n",
       "      <th>click_article_id</th>\n",
       "      <th>clics_by_ua</th>\n",
       "      <th>user_clic_ratio</th>\n",
       "      <th>clics_per_session</th>\n",
       "    </tr>\n",
       "  </thead>\n",
       "  <tbody>\n",
       "    <tr>\n",
       "      <th>0</th>\n",
       "      <td>0</td>\n",
       "      <td>68866</td>\n",
       "      <td>1</td>\n",
       "      <td>0.125000</td>\n",
       "      <td>0.5</td>\n",
       "    </tr>\n",
       "    <tr>\n",
       "      <th>1</th>\n",
       "      <td>0</td>\n",
       "      <td>87205</td>\n",
       "      <td>1</td>\n",
       "      <td>0.125000</td>\n",
       "      <td>0.5</td>\n",
       "    </tr>\n",
       "    <tr>\n",
       "      <th>2</th>\n",
       "      <td>0</td>\n",
       "      <td>87224</td>\n",
       "      <td>1</td>\n",
       "      <td>0.125000</td>\n",
       "      <td>0.5</td>\n",
       "    </tr>\n",
       "    <tr>\n",
       "      <th>3</th>\n",
       "      <td>0</td>\n",
       "      <td>96755</td>\n",
       "      <td>1</td>\n",
       "      <td>0.125000</td>\n",
       "      <td>0.5</td>\n",
       "    </tr>\n",
       "    <tr>\n",
       "      <th>4</th>\n",
       "      <td>0</td>\n",
       "      <td>157541</td>\n",
       "      <td>1</td>\n",
       "      <td>0.125000</td>\n",
       "      <td>0.5</td>\n",
       "    </tr>\n",
       "    <tr>\n",
       "      <th>5</th>\n",
       "      <td>0</td>\n",
       "      <td>160158</td>\n",
       "      <td>1</td>\n",
       "      <td>0.125000</td>\n",
       "      <td>0.5</td>\n",
       "    </tr>\n",
       "    <tr>\n",
       "      <th>6</th>\n",
       "      <td>0</td>\n",
       "      <td>233470</td>\n",
       "      <td>1</td>\n",
       "      <td>0.125000</td>\n",
       "      <td>0.5</td>\n",
       "    </tr>\n",
       "    <tr>\n",
       "      <th>7</th>\n",
       "      <td>0</td>\n",
       "      <td>313996</td>\n",
       "      <td>1</td>\n",
       "      <td>0.125000</td>\n",
       "      <td>0.5</td>\n",
       "    </tr>\n",
       "    <tr>\n",
       "      <th>8</th>\n",
       "      <td>1</td>\n",
       "      <td>36162</td>\n",
       "      <td>1</td>\n",
       "      <td>0.083333</td>\n",
       "      <td>0.5</td>\n",
       "    </tr>\n",
       "    <tr>\n",
       "      <th>9</th>\n",
       "      <td>1</td>\n",
       "      <td>59758</td>\n",
       "      <td>1</td>\n",
       "      <td>0.083333</td>\n",
       "      <td>0.5</td>\n",
       "    </tr>\n",
       "  </tbody>\n",
       "</table>\n",
       "</div>"
      ],
      "text/plain": [
       "   user_id  click_article_id  clics_by_ua  user_clic_ratio  clics_per_session\n",
       "0        0             68866            1         0.125000                0.5\n",
       "1        0             87205            1         0.125000                0.5\n",
       "2        0             87224            1         0.125000                0.5\n",
       "3        0             96755            1         0.125000                0.5\n",
       "4        0            157541            1         0.125000                0.5\n",
       "5        0            160158            1         0.125000                0.5\n",
       "6        0            233470            1         0.125000                0.5\n",
       "7        0            313996            1         0.125000                0.5\n",
       "8        1             36162            1         0.083333                0.5\n",
       "9        1             59758            1         0.083333                0.5"
      ]
     },
     "execution_count": 10,
     "metadata": {},
     "output_type": "execute_result"
    }
   ],
   "source": [
    "# Define a rate for each user-article pair\n",
    "rates = user_article[['user_id','click_article_id','clics_by_ua']].copy()\n",
    "rates['user_clic_ratio'] = user_article['clics_by_ua'] / user_article['total_clics_by_user'] # click ratio de l'utilsateur sur l'article\n",
    "rates['clics_per_session'] = user_article['clics_by_ua'] / user_article['largest_session_by_ua'] # click\n",
    "rates.head(10)"
   ]
  },
  {
   "attachments": {},
   "cell_type": "markdown",
   "id": "d2c31237",
   "metadata": {},
   "source": [
    "##### Visualisation des notes"
   ]
  },
  {
   "cell_type": "code",
   "execution_count": 11,
   "id": "dd58f26a-615b-4b27-a40f-f965c3e71b96",
   "metadata": {},
   "outputs": [
    {
     "data": {
      "image/png": "[encoded data removed]",
      "text/plain": [
       "<Figure size 800x600 with 1 Axes>"
      ]
     },
     "metadata": {},
     "output_type": "display_data"
    }
   ],
   "source": [
    "visualize_histogram(rates[\"clics_by_ua\"], \"Note 1: nombre de clics par utilisateur sur un article\", \"Nombre de clics\", 'data/figs/rate_1.png')"
   ]
  },
  {
   "cell_type": "code",
   "execution_count": 12,
   "id": "39b27fac",
   "metadata": {},
   "outputs": [
    {
     "data": {
      "image/png": "[encoded data removed]",
      "text/plain": [
       "<Figure size 800x600 with 1 Axes>"
      ]
     },
     "metadata": {},
     "output_type": "display_data"
    }
   ],
   "source": [
    "visualize_histogram(rates[\"user_clic_ratio\"], \"Note 2 : ratio de clics par utilisateur sur un article\", \"Nombre de clics\", 'data/figs/rate_2.png')"
   ]
  },
  {
   "cell_type": "code",
   "execution_count": 13,
   "id": "add7faa1",
   "metadata": {},
   "outputs": [
    {
     "data": {
      "image/png": "[encoded data removed]",
      "text/plain": [
       "<Figure size 800x600 with 1 Axes>"
      ]
     },
     "metadata": {},
     "output_type": "display_data"
    }
   ],
   "source": [
    "visualize_histogram( rates[\"clics_per_session\"], \"Note 3 : ratio de clics par taille de session sur un article\", \"Nombre de clics\", 'data/figs/rate_3.png')"
   ]
  },
  {
   "attachments": {},
   "cell_type": "markdown",
   "id": "abea9249",
   "metadata": {},
   "source": [
    "Le **ratio de clics par session** sur chaque article semble être la meilleure option car elle possède la plus grande variabilité de valeurs.\n",
    "Il sera intéressant de tester également le nombre de **ratio de clics par utilisateur***.\n"
   ]
  },
  {
   "attachments": {},
   "cell_type": "markdown",
   "id": "f2f38fcb",
   "metadata": {},
   "source": [
    "#### Algorithme de filtrage collaboratif SVD\n",
    "\n",
    "L'algorthime SVD  est utilisé pour le réaliser le filtrage collaboratif basé sur les comportements d'utilisateurs (user-based collaborative filtering). RAJOUTER DESCRIPTION SUR FACTO MATRICIELLE\n",
    "https://surprise.readthedocs.io/en/stable/matrix_factorization.html#surprise.prediction_algorithms.matrix_factorization.SVD \n",
    "\n",
    "- Les données reliant articles et utilisateurs sont fournies de façon **explicite** puisqu'il s'agit d'une note calculée;\n",
    "- Les notes \"clics_by_session\" sont comprises entre 0 et 5. Le paramètre rating_scale de la classe Reader, utilisé dans la librairie surprise, est modifié de façon à spécifier la bonne échelle de notation des données dans la librairie;\n",
    "- Les hyperparamètres **n_factors**, **n_epochs**, **lr_all** et **reg_all**  de l'algorithme SVD sont optimisés à l'aide d'une fonction gridsearch;\n",
    "    -  n_factors correspond au nombre de facteurs latents (ou de dimensions cachées) utilisé pour décrire les utilisateurs et les articles dans le modèle;\n",
    "    - n_epochs est le nombre d'itérations;\n",
    "    - lr_all est le taux d'apprentissage pour tous les paramètres, qui est un paramètre qui décide de la quantité de réglage des paramètres à chaque itération;\n",
    "    - reg_all est le terme de régularisation pour tous les paramètres, qui est un terme de pénalité ajouté pour éviter le surapprentissage. \n",
    "- Les métriques RMSE et MAE sont utilisés pour l'évaluation. Les valeurs des notes prédites et réelles sont également visualisées pour quelques paires article-utilisateur choisies.\n",
    "\n",
    "\n",
    "<u> Approche item-based vs user-based</u>\n",
    "\n",
    "EXPLIQUER ITEM VS USER \n",
    "Si le nombre d'utilisateurs est plus large que le nombre d'articles, l'approche item-based est plus rapide et plus stable. La note moyenne reçue par un article ne change pas aussi rapidement que la note moyenne donnée par un utilisateur à différents articles. Cette approche fonctionne également mieux lorsque la matrice de notes est clairsemée.\n",
    "\n",
    "Dans notre cas le nombre d'utilisateurs est légèrement inférieur au nombre d'articles (lus), le taux de remplissage de la matrice est de 0.02 %.\n",
    "\n",
    "La matrice étant quasiment vide, une technique de réduction de dimension comme une méthode de factorisation est utilisée pour améliorer les performances de l'algorithme de filtrage.\n"
   ]
  },
  {
   "cell_type": "code",
   "execution_count": 14,
   "id": "887e9be8",
   "metadata": {},
   "outputs": [
    {
     "name": "stdout",
     "output_type": "stream",
     "text": [
      "Nombre d'utilisateurs : 322897\n",
      "Nombre d'articles lus : 46033\n",
      "Nombre total d'articles : 364047\n",
      "Nombre de paires utilisateur-article : 2950710\n",
      "Taux de remplissage de la matrice user-article : 0.02 %\n",
      "Taille de la matrice : 117.55 milliards\n"
     ]
    }
   ],
   "source": [
    "print(f\"Nombre d'utilisateurs : {user_article['user_id'].nunique()}\")\n",
    "print(f\"Nombre d'articles lus : {user_article['click_article_id'].nunique()}\")\n",
    "print(f\"Nombre total d'articles : {articles_metadata['article_id'].nunique()}\")\n",
    "print(f\"Nombre de paires utilisateur-article : {user_article.shape[0]}\")\n",
    "print(f\"Taux de remplissage de la matrice user-article : {np.round(100*user_article.shape[0]/(user_article['user_id'].nunique()*user_article['click_article_id'].nunique()),2)} %\")\n",
    "print(f\"Taille de la matrice : {np.round((1E-9)*(user_article['user_id'].nunique()*articles_metadata['article_id'].nunique()),2)} milliards\")"
   ]
  },
  {
   "cell_type": "code",
   "execution_count": 19,
   "id": "d5f87a1d",
   "metadata": {},
   "outputs": [
    {
     "name": "stdout",
     "output_type": "stream",
     "text": [
      "(Gridsearch-)Optimized model accuracy :\n",
      "Best RMSE score : 0.11940757752031621\n",
      "Best MAE score : 0.09542593981974579\n",
      "Best hyperparameters (rmse): {'n_factors': 50, 'n_epochs': 50, 'lr_all': 0.007, 'reg_all': 0.03}\n",
      "Best hyperparameters (mae) : {'n_factors': 50, 'n_epochs': 50, 'lr_all': 0.007, 'reg_all': 0.02}\n",
      "Best model (rmse) : <surprise.prediction_algorithms.matrix_factorization.SVD object at 0x000001DDE3A84550>\n",
      "Best model (mae) : <surprise.prediction_algorithms.matrix_factorization.SVD object at 0x000001DEA6E9A5F0>\n"
     ]
    },
    {
     "ename": "KeyError",
     "evalue": "'RMSE'",
     "output_type": "error",
     "traceback": [
      "\u001b[1;31m---------------------------------------------------------------------------\u001b[0m",
      "\u001b[1;31mKeyError\u001b[0m                                  Traceback (most recent call last)",
      "Cell \u001b[1;32mIn[19], line 57\u001b[0m\n\u001b[0;32m     54\u001b[0m \u001b[39mprint\u001b[39m(\u001b[39mf\u001b[39m\u001b[39m\"\u001b[39m\u001b[39mBest model (mae) : \u001b[39m\u001b[39m{\u001b[39;00mgs\u001b[39m.\u001b[39mbest_estimator[\u001b[39m'\u001b[39m\u001b[39mmae\u001b[39m\u001b[39m'\u001b[39m]\u001b[39m}\u001b[39;00m\u001b[39m\"\u001b[39m)\n\u001b[0;32m     56\u001b[0m \u001b[39m# Train the best model\u001b[39;00m\n\u001b[1;32m---> 57\u001b[0m SVD_model \u001b[39m=\u001b[39m gs\u001b[39m.\u001b[39;49mbest_estimator[\u001b[39m'\u001b[39;49m\u001b[39mRMSE\u001b[39;49m\u001b[39m'\u001b[39;49m]\n\u001b[0;32m     58\u001b[0m trainset \u001b[39m=\u001b[39m data\u001b[39m.\u001b[39mbuild_full_trainset() \u001b[39m# to use all data for training\u001b[39;00m\n\u001b[0;32m     59\u001b[0m SVD_model\u001b[39m.\u001b[39mfit(trainset)\u001b[39m#, verbose=True, n_jobs=-1)\u001b[39;00m\n",
      "\u001b[1;31mKeyError\u001b[0m: 'RMSE'"
     ]
    }
   ],
   "source": [
    "# Data prepation for surprise\n",
    "userId = 'user_id'\n",
    "articleId = 'click_article_id'\n",
    "# rating = 'user_clic_ratio' # Note 2\n",
    "rating = 'clics_per_session' # Note 3\n",
    "pred_rating = 'pred_' + rating \n",
    "data = rates\n",
    "\n",
    "# Format data for surprise\n",
    "# reader = Reader(rating_scale=(0,0.5)) # Note 2\n",
    "reader = Reader(rating_scale=(0,5)) # Note 3\n",
    "\n",
    "data = Dataset.load_from_df(data[[userId, articleId, rating]], reader)\n",
    "\n",
    "# Choose training type\n",
    "# training_type = 'simple' \n",
    "training_type = 'grid_search'\n",
    "\n",
    "\n",
    "if training_type == 'simple':\n",
    "    # Split data into train and test sets\n",
    "    trainset, testset = train_test_split(data, test_size=0.25, random_state=random_state)\n",
    "    # trainset = data.build_full_trainset() # to use all data for training\n",
    "     \n",
    "    # Train the model\n",
    "    SVD_model = SVD(n_factors=100, n_epochs=20, random_state=random_state)  \n",
    "    cross_validate(SVD_model, data, measures=[\"RMSE\", \"MAE\"], cv=3, verbose=True) # Run 5-fold cross-validation and print results\n",
    "    # SVD_model.fit(trainset, verbose=True, n_jobs=-1)\n",
    "\n",
    "    # Predict accuracy\n",
    "    predictions = SVD_model.test(testset)  \n",
    "    print('Basic model accuracy :')\n",
    "    print(f\"(rmse) : {accuracy.rmse(predictions)}\")\n",
    "    print(f\"(mae): {accuracy.mae(predictions)}\")\n",
    "    print(f\"(fcp): {accuracy.fcp(predictions)}\")\n",
    "    print(f\"(mse): {accuracy.mae(predictions)}\")\n",
    "\n",
    "\n",
    "elif training_type == \"grid_search\":\n",
    "    # grid search parameters\n",
    "    param_grid = {'n_factors': [50, 100, 140], 'n_epochs': [10, 20, 50], 'lr_all':[0.002, 0.005, 0.007], 'reg_all':[0.01, 0.02, 0.03]} \n",
    "\n",
    "    # Train the model\n",
    "    gs = GridSearchCV(SVD, param_grid, measures=[\"RMSE\", \"MAE\"], cv=3, n_jobs=-1) # add  to use all cores\n",
    "    gs.fit(data)\n",
    "\n",
    "    # best RMSE score and parameters\n",
    "    print('(Gridsearch-)Optimized model accuracy :')\n",
    "    print(f\"Best RMSE score : {gs.best_score['rmse']}\")\n",
    "    print(f\"Best MAE score : {gs.best_score['mae']}\")\n",
    "    print(f\"Best hyperparameters (rmse): {gs.best_params['rmse']}\")\n",
    "    print(f\"Best hyperparameters (mae) : {gs.best_params['mae']}\")\n",
    "    print(f\"Best model (rmse) : {gs.best_estimator['rmse']}\")\n",
    "    print(f\"Best model (mae) : {gs.best_estimator['mae']}\")\n",
    "\n",
    "    # Train the best model\n",
    "    SVD_model = gs.best_estimator['rmse']\n",
    "    trainset = data.build_full_trainset() # to use all data for training\n",
    "    SVD_model.fit(trainset)#, verbose=True, n_jobs=-1)\n",
    "\n",
    "# Get predicted rates for each user-article pair already rated\n",
    "rates[pred_rating] = rates.apply(lambda x: SVD_model.predict(x['user_id'], x['click_article_id']).est, axis=1) "
   ]
  },
  {
   "cell_type": "code",
   "execution_count": 20,
   "id": "0cfb4d9b",
   "metadata": {},
   "outputs": [
    {
     "data": {
      "text/plain": [
       "<surprise.prediction_algorithms.matrix_factorization.SVD at 0x1dde3a84550>"
      ]
     },
     "execution_count": 20,
     "metadata": {},
     "output_type": "execute_result"
    }
   ],
   "source": [
    "SVD_model = gs.best_estimator['rmse']\n",
    "trainset = data.build_full_trainset() # to use all data for training\n",
    "SVD_model.fit(trainset)#, verbose=True, n_jobs=-1)"
   ]
  },
  {
   "cell_type": "code",
   "execution_count": 21,
   "id": "f2968691",
   "metadata": {},
   "outputs": [],
   "source": [
    "rates[pred_rating] = rates.apply(lambda x: SVD_model.predict(x['user_id'], x['click_article_id']).est, axis=1) "
   ]
  },
  {
   "attachments": {},
   "cell_type": "markdown",
   "id": "074e553f",
   "metadata": {},
   "source": [
    "##### Métrique d'évaluation\n",
    "\n",
    "Plusieurs métriques sont utilisées pour évaluer les prédictions. Ces évaluations sont réalisées sur un jeu de test contenant donc des paires article-utilisateur avec déjà une note réelle.\n",
    "- Erreur RMSE (Root Mean Square Error): moyenne quadratique des erreurs des prediction\n",
    "- Mean Absolute Error (MAE) : moyenne des valeurs absolues des erreurs"
   ]
  },
  {
   "attachments": {},
   "cell_type": "markdown",
   "id": "92320049",
   "metadata": {},
   "source": [
    "##### Visualisation des prédictions"
   ]
  },
  {
   "cell_type": "code",
   "execution_count": 22,
   "id": "1015fcd1",
   "metadata": {},
   "outputs": [
    {
     "data": {
      "image/png": "[encoded data removed]",
      "text/plain": [
       "<Figure size 800x600 with 1 Axes>"
      ]
     },
     "metadata": {},
     "output_type": "display_data"
    }
   ],
   "source": [
    "# Plot Boxplots for predicted rates and real rates\n",
    "fig = plt.figure(figsize=figsize)\n",
    "\n",
    "# Real rates\n",
    "bp = plt.boxplot(rates[rating], vert=False, widths=0.5, positions=[0], whis=[1,99])\n",
    "plt.setp(bp['whiskers'], linestyle='--', color='gray', lw=2, dashes=(5, 5))\n",
    "plt.setp(bp['fliers'], marker='.', markerfacecolor='red', markersize=8, alpha=0.5)\n",
    "\n",
    "# Predicted rates\n",
    "bp = plt.boxplot(rates[pred_rating], vert=False, widths=0.5, positions=[1], whis=[1,99])\n",
    "plt.setp(bp['whiskers'], linestyle='--', color='gray', lw=2, dashes=(5, 5))\n",
    "plt.setp(bp['fliers'], marker='.', markerfacecolor='red', markersize=8, alpha=0.5)\n",
    "\n",
    "# Predicted rates fullset\n",
    "# bp = plt.boxplot(rates[pred_rating +'_fullset'], vert=False, widths=0.5, positions=[2], whis=[1,99])\n",
    "# plt.setp(bp['whiskers'], linestyle='--', color='gray', lw=2, dashes=(5, 5))\n",
    "# plt.setp(bp['fliers'], marker='.', markerfacecolor='red', markersize=8, alpha=0.5)\n",
    "\n",
    "plt.yticks([0, 1], [\"Notes réelles\", \"Notes prédites\"])\n",
    "#plt.yticks([0, 1, 2], [\"Notes réelles\", \"Notes prédites - Modèle de base\", \"Notes prédites - Modèle optimisé\"])\n",
    "\n",
    "\n",
    "plt.title(\"Notes prédites par article et lecteur\") \n",
    "plt.xlabel(\"Note prédite\")\n",
    "\n",
    "plt.grid(axis='x', linestyle='--', alpha=0.7)\n",
    "\n",
    "plt.show()\n",
    "fig.savefig('data/figs/real_vs_pred_rates.png', dpi=300, bbox_inches='tight')"
   ]
  },
  {
   "cell_type": "code",
   "execution_count": 23,
   "id": "28c818e8",
   "metadata": {},
   "outputs": [
    {
     "data": {
      "application/vnd.jupyter.widget-view+json": {
       "model_id": "2c5e771579754d84b74a8447cea90e10",
       "version_major": 2,
       "version_minor": 0
      },
      "text/plain": [
       "interactive(children=(IntSlider(value=57288, description='User Id :', max=322896), Output()), _dom_classes=('w…"
      ]
     },
     "metadata": {},
     "output_type": "display_data"
    }
   ],
   "source": [
    "# Side by side comparison of real rates and predicted rates by user  \n",
    "@interact(\n",
    "    idx=widgets.IntSlider(min=min(rates['user_id'].unique()), max=max(rates['user_id'].unique()),\n",
    "                          step=1, value=57288,#149963,\n",
    "                          description=\"User Id :\"))   \n",
    "\n",
    "\n",
    "def show_side_by_side(idx):\n",
    "    width = 0.35  # width of the bars\n",
    "    n_bars = len(rates[rates['user_id']==idx])  # number of bars to plot\n",
    "    ind = np.arange(n_bars)  # indices of the bars\n",
    "    \n",
    "    fig, ax = plt.subplots()\n",
    "\n",
    "    # bars with real rates\n",
    "    rects1 = ax.bar(ind, rates[rates['user_id']==idx][rating], width, color='r')\n",
    "\n",
    "    # bars with predicted rates\n",
    "    rects2 = ax.bar(ind + width, rates[rates['user_id']==idx][pred_rating], width, color='y')\n",
    "\n",
    "    # bars with predicted rates fullset\n",
    "    # rects3 = ax.bar(ind + width*2, rates[rates['user_id']==idx][pred_rating +'_fullset'], width, color='g')\n",
    "\n",
    "    # legend and labels\n",
    "    ax.set_xlabel('Observations')\n",
    "    ax.set_ylabel('Valeurs')\n",
    "    ax.legend((rects1[0], rects2[0]), ('Réelles', 'Prédites'))# , 'Prédites fullset')) #, rects3[0],\n",
    "    ax.set_title('Comparaison des notes réelles et prédites pour les articles lus par un utilisateur')\n",
    "\n",
    "    plt.show()\n"
   ]
  },
  {
   "cell_type": "code",
   "execution_count": 24,
   "id": "52a1dd8e",
   "metadata": {},
   "outputs": [
    {
     "data": {
      "application/vnd.jupyter.widget-view+json": {
       "model_id": "32d48703b3d54ebd83f71ced8ee51cfa",
       "version_major": 2,
       "version_minor": 0
      },
      "text/plain": [
       "interactive(children=(IntSlider(value=10, description=\"Nombre d'échantillons :\"), Output()), _dom_classes=('wi…"
      ]
     },
     "metadata": {},
     "output_type": "display_data"
    }
   ],
   "source": [
    "# Side by side comparison of real rates and predicted rates for a chosen number of samples\n",
    "@interact(n_bars=widgets.IntSlider(min=0, max=100,\n",
    "                          step=1, value=10,\n",
    "                          description=\"Nombre d'échantillons :\"))   \n",
    "def show_side_by_side(n_bars):\n",
    "    width = 0.35  # width of the bars\n",
    "    \n",
    "    ind = np.arange(len(rates[rating]))  # indices of the bars\n",
    "    selected_bars = np.random.choice(ind, n_bars)\n",
    "    \n",
    "    fig, ax = plt.subplots()\n",
    "\n",
    "    # bars with real rates\n",
    "    rects1 = ax.bar(np.arange(n_bars), rates[rating][selected_bars], width, color='r')\n",
    "\n",
    "    # bars with predicted rates\n",
    "    rects2 = ax.bar(np.arange(n_bars) + width, rates[pred_rating][selected_bars], width, color='y')\n",
    "\n",
    "    # legend and labels\n",
    "    ax.set_xlabel('Observations')\n",
    "    ax.set_ylabel('Valeurs')\n",
    "    ax.legend((rects1[0], rects2[0]), ('Réelles', 'Prédites'))\n",
    "    ax.set_title(f\"Comparaison des notes réelles et prédites pour un échantillon de {n_bars} paires article/lecteur\")\n",
    "\n",
    "    plt.show()\n"
   ]
  },
  {
   "attachments": {},
   "cell_type": "markdown",
   "id": "2319d2b0",
   "metadata": {},
   "source": [
    "##### Recommandations"
   ]
  },
  {
   "cell_type": "code",
   "execution_count": 25,
   "id": "cc0b2283",
   "metadata": {},
   "outputs": [
    {
     "data": {
      "application/vnd.jupyter.widget-view+json": {
       "model_id": "1f77ed43f66d41a4a90f889b5afdecc7",
       "version_major": 2,
       "version_minor": 0
      },
      "text/plain": [
       "interactive(children=(IntSlider(value=57288, description='User Id :', max=322897), Output()), _dom_classes=('w…"
      ]
     },
     "metadata": {},
     "output_type": "display_data"
    }
   ],
   "source": [
    "# Recommendation tool for collaborative filtering\n",
    "@interact(\n",
    "    idx=widgets.IntSlider(min=0, max=len(clicks['user_id'].unique()),\n",
    "                          step=1, value=57288,\n",
    "                          description=\"User Id :\"))   \n",
    "def show_data(idx):\n",
    "\n",
    "    # 0. Get random user_id\n",
    "    user_id = idx\n",
    "    print('SELECTED USER : READ ARTICLES')\n",
    "    print(f\"User id : {user_id}\")\n",
    "    display(articles_metadata[articles_metadata['article_id'].isin(\n",
    "        user_article[user_article['user_id']==idx]['click_article_id'].values)].drop(columns=['created_at_ts','publisher_id']))\n",
    "\n",
    "    # 1. Predit rates for all the articles for this user_id and get the top 5 most rated articles\n",
    "    top_recos, recos = get_best_rated_reco(user_id, articles_metadata, rates, SVD_model)\n",
    "    print('--')    \n",
    "    print(f\"RECOMMENDED ARTICLES : {top_recos}\")\n",
    "    display(recos[recos['article_id'].isin(top_recos)].drop(columns=['predicted_rate','publisher_id']))"
   ]
  },
  {
   "attachments": {},
   "cell_type": "markdown",
   "id": "c5e5b9e5",
   "metadata": {},
   "source": [
    "##### Sauvegarde du modèle final"
   ]
  },
  {
   "cell_type": "code",
   "execution_count": 26,
   "id": "1ab7054e",
   "metadata": {},
   "outputs": [],
   "source": [
    "#### Sauvegarde du modèle\n",
    "\n",
    "with open('model.pkl', 'wb') as f:\n",
    "    pickle.dump(SVD_model, f)"
   ]
  },
  {
   "attachments": {},
   "cell_type": "markdown",
   "id": "09a80c12",
   "metadata": {},
   "source": [
    "## Synthèse des modèles de recommandation\n"
   ]
  },
  {
   "cell_type": "markdown",
   "id": "8a1fa2d6-cfcf-47c8-bd68-818b1fd7879c",
   "metadata": {},
   "source": [
    "### 4. Application Serverless"
   ]
  },
  {
   "cell_type": "markdown",
   "id": "5f2c670c-a9d2-4f17-8122-71c2ad50c988",
   "metadata": {},
   "source": [
    "Le principe du Serverless est de pouvoir concevoir des applications sans avoir à penser à la gestion parfois fastidieuse des servers physiques, notamment:\n",
    "- la configuration du framework Web\n",
    "- le routage et la définition des requêtes\n",
    "\n",
    "Le service le plus associé à la fonction Serverless est le service **Azure FaaS dit Azure Fonctions** (Function as a Service) :\n",
    "- son fonctionnement se veut aussi simple qu'un fichier avec une seule méthode, la fonction Azure;\n",
    "- cette méthode est appelée avec des déclencheurs (\"trigger\").\n",
    "\n",
    "Il existe trois principes de Serverless :\n",
    "- Pay as you go\n",
    "- Event driven \n",
    "- Stateless : pour les fonctions de courte durée (5-10 min)\n",
    "\n",
    "Le serverless est paticulièrement pratique pour les processus où la demande est faible ou chaotique, ainsi que pour ceux déclenché par des évènements  \n"
   ]
  }
 ],
 "metadata": {
  "kernelspec": {
   "display_name": ".env",
   "language": "python",
   "name": "python3"
  },
  "language_info": {
   "codemirror_mode": {
    "name": "ipython",
    "version": 3
   },
   "file_extension": ".py",
   "mimetype": "text/x-python",
   "name": "python",
   "nbconvert_exporter": "python",
   "pygments_lexer": "ipython3",
   "version": "3.10.9"
  },
  "vscode": {
   "interpreter": {
    "hash": "2b450571b4ee932677199658b6fd6869d162566ad5dcfda09263d9c501e88a76"
   }
  }
 },
 "nbformat": 4,
 "nbformat_minor": 5
}
